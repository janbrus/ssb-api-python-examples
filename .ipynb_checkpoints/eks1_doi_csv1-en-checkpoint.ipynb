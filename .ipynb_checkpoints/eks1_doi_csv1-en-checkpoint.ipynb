{
 "cells": [
  {
   "cell_type": "markdown",
   "metadata": {},
   "source": [
    "# Basic example - get CSV from Statistics Norway's API to Python pandas\n",
    "## Make simple chart based on a small dataset from [API: readymade datasets](https://data.ssb.no/api/v0/dataset?lang=en)\n",
    "### We use the datasaset  [index on retail sales](https://data.ssb.no/api/v0/dataset/1066?lang=en) as CSV \n"
   ]
  },
  {
   "cell_type": "markdown",
   "metadata": {},
   "source": [
    "import Python pandas in order to make a dataframe"
   ]
  },
  {
   "cell_type": "code",
   "execution_count": 1,
   "metadata": {},
   "outputs": [],
   "source": [
    "import pandas as pd"
   ]
  },
  {
   "cell_type": "markdown",
   "metadata": {},
   "source": [
    "Get content from the API and put it in dataframe 'df'. CSV here is is not UTF-8, but ISO-8859-1. In order to get ÆØÅ correct we have to specify the encoding"
   ]
  },
  {
   "cell_type": "code",
   "execution_count": 2,
   "metadata": {},
   "outputs": [],
   "source": [
    "df = pd.read_csv(\"https://data.ssb.no/api/v0/dataset/1066.csv?lang=en\", encoding = \"ISO-8859-1\")"
   ]
  },
  {
   "cell_type": "markdown",
   "metadata": {},
   "source": [
    "Shape shows number of rows and columns"
   ]
  },
  {
   "cell_type": "code",
   "execution_count": 3,
   "metadata": {},
   "outputs": [
    {
     "data": {
      "text/plain": [
       "(13, 4)"
      ]
     },
     "execution_count": 3,
     "metadata": {},
     "output_type": "execute_result"
    }
   ],
   "source": [
    "df.shape"
   ]
  },
  {
   "cell_type": "markdown",
   "metadata": {},
   "source": [
    "The top of the dataset"
   ]
  },
  {
   "cell_type": "code",
   "execution_count": 4,
   "metadata": {
    "scrolled": true
   },
   "outputs": [
    {
     "data": {
      "text/html": [
       "<div>\n",
       "<style scoped>\n",
       "    .dataframe tbody tr th:only-of-type {\n",
       "        vertical-align: middle;\n",
       "    }\n",
       "\n",
       "    .dataframe tbody tr th {\n",
       "        vertical-align: top;\n",
       "    }\n",
       "\n",
       "    .dataframe thead th {\n",
       "        text-align: right;\n",
       "    }\n",
       "</style>\n",
       "<table border=\"1\" class=\"dataframe\">\n",
       "  <thead>\n",
       "    <tr style=\"text-align: right;\">\n",
       "      <th></th>\n",
       "      <th>industry</th>\n",
       "      <th>month</th>\n",
       "      <th>contents</th>\n",
       "      <th>07129: The Index of wholesale and retail trade, by industry, month and contents</th>\n",
       "    </tr>\n",
       "  </thead>\n",
       "  <tbody>\n",
       "    <tr>\n",
       "      <th>0</th>\n",
       "      <td>47 Retail trade, except of motor vehicles and ...</td>\n",
       "      <td>2020M03</td>\n",
       "      <td>Volume index, seasonally adjusted</td>\n",
       "      <td>102.5</td>\n",
       "    </tr>\n",
       "    <tr>\n",
       "      <th>1</th>\n",
       "      <td>47 Retail trade, except of motor vehicles and ...</td>\n",
       "      <td>2020M04</td>\n",
       "      <td>Volume index, seasonally adjusted</td>\n",
       "      <td>107.3</td>\n",
       "    </tr>\n",
       "    <tr>\n",
       "      <th>2</th>\n",
       "      <td>47 Retail trade, except of motor vehicles and ...</td>\n",
       "      <td>2020M05</td>\n",
       "      <td>Volume index, seasonally adjusted</td>\n",
       "      <td>110.4</td>\n",
       "    </tr>\n",
       "    <tr>\n",
       "      <th>3</th>\n",
       "      <td>47 Retail trade, except of motor vehicles and ...</td>\n",
       "      <td>2020M06</td>\n",
       "      <td>Volume index, seasonally adjusted</td>\n",
       "      <td>116.6</td>\n",
       "    </tr>\n",
       "    <tr>\n",
       "      <th>4</th>\n",
       "      <td>47 Retail trade, except of motor vehicles and ...</td>\n",
       "      <td>2020M07</td>\n",
       "      <td>Volume index, seasonally adjusted</td>\n",
       "      <td>117.4</td>\n",
       "    </tr>\n",
       "  </tbody>\n",
       "</table>\n",
       "</div>"
      ],
      "text/plain": [
       "                                            industry    month  \\\n",
       "0  47 Retail trade, except of motor vehicles and ...  2020M03   \n",
       "1  47 Retail trade, except of motor vehicles and ...  2020M04   \n",
       "2  47 Retail trade, except of motor vehicles and ...  2020M05   \n",
       "3  47 Retail trade, except of motor vehicles and ...  2020M06   \n",
       "4  47 Retail trade, except of motor vehicles and ...  2020M07   \n",
       "\n",
       "                            contents  \\\n",
       "0  Volume index, seasonally adjusted   \n",
       "1  Volume index, seasonally adjusted   \n",
       "2  Volume index, seasonally adjusted   \n",
       "3  Volume index, seasonally adjusted   \n",
       "4  Volume index, seasonally adjusted   \n",
       "\n",
       "   07129: The Index of wholesale and retail trade, by industry, month and contents  \n",
       "0                                              102.5                                \n",
       "1                                              107.3                                \n",
       "2                                              110.4                                \n",
       "3                                              116.6                                \n",
       "4                                              117.4                                "
      ]
     },
     "execution_count": 4,
     "metadata": {},
     "output_type": "execute_result"
    }
   ],
   "source": [
    "df.head()"
   ]
  },
  {
   "cell_type": "markdown",
   "metadata": {},
   "source": [
    "Optional: convert to datetime, see also other examples on date converting. "
   ]
  },
  {
   "cell_type": "code",
   "execution_count": 5,
   "metadata": {},
   "outputs": [],
   "source": [
    "#df['month']= pd.to_datetime(df['month'].str.replace('M', '-'))"
   ]
  },
  {
   "cell_type": "code",
   "execution_count": 6,
   "metadata": {},
   "outputs": [],
   "source": [
    "df.index = df['month']"
   ]
  },
  {
   "cell_type": "code",
   "execution_count": 7,
   "metadata": {},
   "outputs": [
    {
     "name": "stdout",
     "output_type": "stream",
     "text": [
      "<class 'pandas.core.frame.DataFrame'>\n",
      "Index: 13 entries, 2020M03 to 2021M03\n",
      "Data columns (total 4 columns):\n",
      " #   Column                                                                           Non-Null Count  Dtype  \n",
      "---  ------                                                                           --------------  -----  \n",
      " 0   industry                                                                         13 non-null     object \n",
      " 1   month                                                                            13 non-null     object \n",
      " 2   contents                                                                         13 non-null     object \n",
      " 3   07129: The Index of wholesale and retail trade, by industry, month and contents  13 non-null     float64\n",
      "dtypes: float64(1), object(3)\n",
      "memory usage: 520.0+ bytes\n"
     ]
    }
   ],
   "source": [
    "df.info()"
   ]
  },
  {
   "cell_type": "markdown",
   "metadata": {},
   "source": [
    "Make a chart using Pandas plot"
   ]
  },
  {
   "cell_type": "code",
   "execution_count": 9,
   "metadata": {},
   "outputs": [
    {
     "data": {
      "text/plain": [
       "<AxesSubplot:xlabel='month'>"
      ]
     },
     "execution_count": 9,
     "metadata": {},
     "output_type": "execute_result"
    },
    {
     "data": {
      "image/png": "[encoded data removed]",
      "text/plain": [
       "<Figure size 864x432 with 1 Axes>"
      ]
     },
     "metadata": {
      "needs_background": "light"
     },
     "output_type": "display_data"
    }
   ],
   "source": [
    "df.plot(x='month', y='07129: The Index of wholesale and retail trade, by industry, month and contents', figsize=(12, 6), color='g')"
   ]
  },
  {
   "cell_type": "markdown",
   "metadata": {},
   "source": [
    "Alternative: Month and values to a series object"
   ]
  },
  {
   "cell_type": "code",
   "execution_count": 10,
   "metadata": {},
   "outputs": [],
   "source": [
    "series1 = df['07129: The Index of wholesale and retail trade, by industry, month and contents']"
   ]
  },
  {
   "cell_type": "markdown",
   "metadata": {},
   "source": [
    "Basic plot of Pandas Series"
   ]
  },
  {
   "cell_type": "code",
   "execution_count": 11,
   "metadata": {},
   "outputs": [
    {
     "data": {
      "text/plain": [
       "<AxesSubplot:xlabel='month'>"
      ]
     },
     "execution_count": 11,
     "metadata": {},
     "output_type": "execute_result"
    },
    {
     "data": {
      "image/png": "[encoded data removed]",
      "text/plain": [
       "<Figure size 432x288 with 1 Axes>"
      ]
     },
     "metadata": {
      "needs_background": "light"
     },
     "output_type": "display_data"
    }
   ],
   "source": [
    "series1.plot()"
   ]
  },
  {
   "cell_type": "code",
   "execution_count": null,
   "metadata": {},
   "outputs": [],
   "source": []
  }
 ],
 "metadata": {
  "kernelspec": {
   "display_name": "Python 3",
   "language": "python",
   "name": "python3"
  },
  "language_info": {
   "codemirror_mode": {
    "name": "ipython",
    "version": 3
   },
   "file_extension": ".py",
   "mimetype": "text/x-python",
   "name": "python",
   "nbconvert_exporter": "python",
   "pygments_lexer": "ipython3",
   "version": "3.8.6"
  },
  "toc": {
   "base_numbering": 1,
   "nav_menu": {},
   "number_sections": false,
   "sideBar": false,
   "skip_h1_title": false,
   "title_cell": "Table of Contents",
   "title_sidebar": "Contents",
   "toc_cell": false,
   "toc_position": {},
   "toc_section_display": false,
   "toc_window_display": false
  }
 },
 "nbformat": 4,
 "nbformat_minor": 2
}
