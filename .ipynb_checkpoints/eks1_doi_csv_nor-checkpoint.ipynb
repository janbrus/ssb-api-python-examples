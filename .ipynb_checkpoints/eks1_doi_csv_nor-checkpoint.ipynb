{
 "cells": [
  {
   "cell_type": "markdown",
   "metadata": {},
   "source": [
    "# Basis eksempel - hente CSV fra SSB til pandas\n",
    "## Enkel figur basert på et lite datasett fra SSBs API:ferdige datasett\n",
    "### Henter [sesongjustert detaljomsetningsindeks](https://data.ssb.no/api/v0/dataset/1066) som CSV \n"
   ]
  },
  {
   "cell_type": "code",
   "execution_count": 1,
   "metadata": {},
   "outputs": [],
   "source": [
    "\n",
    "# Importerer Python pandas for å kunne lage dataframe\n",
    "import pandas as pd"
   ]
  },
  {
   "cell_type": "markdown",
   "metadata": {},
   "source": [
    "pd.read_csv() henter innholdet fra API-et og legger det i data. \n",
    "De norske datasettene her er semikolonseparert med komma som desimaltegn.\n",
    "CSV er ikke UTF-8, så vi må angi parameter encoding for å få æøå riktig. "
   ]
  },
  {
   "cell_type": "code",
   "execution_count": 2,
   "metadata": {},
   "outputs": [],
   "source": [
    "data = pd.read_csv(\"https://data.ssb.no/api/v0/dataset/1066.csv?lang=no\", sep=';', decimal=',', encoding = \"ISO-8859-1\" )"
   ]
  },
  {
   "cell_type": "markdown",
   "metadata": {},
   "source": [
    "Sjekker at datatypen Pandas dataframe"
   ]
  },
  {
   "cell_type": "code",
   "execution_count": 3,
   "metadata": {},
   "outputs": [
    {
     "data": {
      "text/plain": [
       "pandas.core.frame.DataFrame"
      ]
     },
     "execution_count": 3,
     "metadata": {},
     "output_type": "execute_result"
    }
   ],
   "source": [
    "type(data)"
   ]
  },
  {
   "cell_type": "markdown",
   "metadata": {},
   "source": [
    "Shape gir antall rader (13) og kolonner (4)"
   ]
  },
  {
   "cell_type": "code",
   "execution_count": 4,
   "metadata": {},
   "outputs": [
    {
     "data": {
      "text/plain": [
       "(13, 4)"
      ]
     },
     "execution_count": 4,
     "metadata": {},
     "output_type": "execute_result"
    }
   ],
   "source": [
    "data.shape"
   ]
  },
  {
   "cell_type": "markdown",
   "metadata": {},
   "source": [
    "Toppen av datasettet"
   ]
  },
  {
   "cell_type": "code",
   "execution_count": 5,
   "metadata": {},
   "outputs": [
    {
     "data": {
      "text/html": [
       "<div>\n",
       "<style scoped>\n",
       "    .dataframe tbody tr th:only-of-type {\n",
       "        vertical-align: middle;\n",
       "    }\n",
       "\n",
       "    .dataframe tbody tr th {\n",
       "        vertical-align: top;\n",
       "    }\n",
       "\n",
       "    .dataframe thead th {\n",
       "        text-align: right;\n",
       "    }\n",
       "</style>\n",
       "<table border=\"1\" class=\"dataframe\">\n",
       "  <thead>\n",
       "    <tr style=\"text-align: right;\">\n",
       "      <th></th>\n",
       "      <th>næring</th>\n",
       "      <th>måned</th>\n",
       "      <th>statistikkvariabel</th>\n",
       "      <th>07129: Varehandelsindeksen, etter næring, måned og statistikkvariabel</th>\n",
       "    </tr>\n",
       "  </thead>\n",
       "  <tbody>\n",
       "    <tr>\n",
       "      <th>0</th>\n",
       "      <td>47 Detaljhandel, unntatt salg av motorvogner</td>\n",
       "      <td>2020M03</td>\n",
       "      <td>Volumindeks, sesongjustert</td>\n",
       "      <td>102.5</td>\n",
       "    </tr>\n",
       "    <tr>\n",
       "      <th>1</th>\n",
       "      <td>47 Detaljhandel, unntatt salg av motorvogner</td>\n",
       "      <td>2020M04</td>\n",
       "      <td>Volumindeks, sesongjustert</td>\n",
       "      <td>107.3</td>\n",
       "    </tr>\n",
       "    <tr>\n",
       "      <th>2</th>\n",
       "      <td>47 Detaljhandel, unntatt salg av motorvogner</td>\n",
       "      <td>2020M05</td>\n",
       "      <td>Volumindeks, sesongjustert</td>\n",
       "      <td>110.4</td>\n",
       "    </tr>\n",
       "    <tr>\n",
       "      <th>3</th>\n",
       "      <td>47 Detaljhandel, unntatt salg av motorvogner</td>\n",
       "      <td>2020M06</td>\n",
       "      <td>Volumindeks, sesongjustert</td>\n",
       "      <td>116.6</td>\n",
       "    </tr>\n",
       "    <tr>\n",
       "      <th>4</th>\n",
       "      <td>47 Detaljhandel, unntatt salg av motorvogner</td>\n",
       "      <td>2020M07</td>\n",
       "      <td>Volumindeks, sesongjustert</td>\n",
       "      <td>117.4</td>\n",
       "    </tr>\n",
       "  </tbody>\n",
       "</table>\n",
       "</div>"
      ],
      "text/plain": [
       "                                         næring    måned  \\\n",
       "0  47 Detaljhandel, unntatt salg av motorvogner  2020M03   \n",
       "1  47 Detaljhandel, unntatt salg av motorvogner  2020M04   \n",
       "2  47 Detaljhandel, unntatt salg av motorvogner  2020M05   \n",
       "3  47 Detaljhandel, unntatt salg av motorvogner  2020M06   \n",
       "4  47 Detaljhandel, unntatt salg av motorvogner  2020M07   \n",
       "\n",
       "           statistikkvariabel  \\\n",
       "0  Volumindeks, sesongjustert   \n",
       "1  Volumindeks, sesongjustert   \n",
       "2  Volumindeks, sesongjustert   \n",
       "3  Volumindeks, sesongjustert   \n",
       "4  Volumindeks, sesongjustert   \n",
       "\n",
       "   07129: Varehandelsindeksen, etter næring, måned og statistikkvariabel  \n",
       "0                                              102.5                      \n",
       "1                                              107.3                      \n",
       "2                                              110.4                      \n",
       "3                                              116.6                      \n",
       "4                                              117.4                      "
      ]
     },
     "execution_count": 5,
     "metadata": {},
     "output_type": "execute_result"
    }
   ],
   "source": [
    "data.head()"
   ]
  },
  {
   "cell_type": "markdown",
   "metadata": {},
   "source": [
    "Endrer til datoformat ved først å erstatte M med - . Ikke strengt nødvendig. Ta vekk kommentaren når du skjønner hva som skjer.  "
   ]
  },
  {
   "cell_type": "code",
   "execution_count": 6,
   "metadata": {},
   "outputs": [],
   "source": [
    "# data['måned']= pd.to_datetime(data['måned'].str.replace('M', '-'))"
   ]
  },
  {
   "cell_type": "markdown",
   "metadata": {},
   "source": [
    "Setter måned som index-kolonne"
   ]
  },
  {
   "cell_type": "code",
   "execution_count": 7,
   "metadata": {},
   "outputs": [],
   "source": [
    "data.index = data['måned']"
   ]
  },
  {
   "cell_type": "markdown",
   "metadata": {},
   "source": [
    "Informasjon om innholdet i dataframe"
   ]
  },
  {
   "cell_type": "code",
   "execution_count": 8,
   "metadata": {
    "scrolled": true
   },
   "outputs": [
    {
     "name": "stdout",
     "output_type": "stream",
     "text": [
      "<class 'pandas.core.frame.DataFrame'>\n",
      "Index: 13 entries, 2020M03 to 2021M03\n",
      "Data columns (total 4 columns):\n",
      " #   Column                                                                 Non-Null Count  Dtype  \n",
      "---  ------                                                                 --------------  -----  \n",
      " 0   næring                                                                 13 non-null     object \n",
      " 1   måned                                                                  13 non-null     object \n",
      " 2   statistikkvariabel                                                     13 non-null     object \n",
      " 3   07129: Varehandelsindeksen, etter næring, måned og statistikkvariabel  13 non-null     float64\n",
      "dtypes: float64(1), object(3)\n",
      "memory usage: 520.0+ bytes\n"
     ]
    }
   ],
   "source": [
    "data.info()"
   ]
  },
  {
   "cell_type": "markdown",
   "metadata": {},
   "source": [
    "Lage et linjediagram der vi angir x og y aksen"
   ]
  },
  {
   "cell_type": "code",
   "execution_count": 9,
   "metadata": {},
   "outputs": [
    {
     "data": {
      "text/plain": [
       "<AxesSubplot:xlabel='måned'>"
      ]
     },
     "execution_count": 9,
     "metadata": {},
     "output_type": "execute_result"
    },
    {
     "data": {
      "image/png": "[encoded data removed]",
      "text/plain": [
       "<Figure size 864x432 with 1 Axes>"
      ]
     },
     "metadata": {
      "needs_background": "light"
     },
     "output_type": "display_data"
    }
   ],
   "source": [
    "data.plot(x='måned', y='07129: Varehandelsindeksen, etter næring, måned og statistikkvariabel', figsize=(12, 6), color ='g')"
   ]
  },
  {
   "cell_type": "markdown",
   "metadata": {},
   "source": [
    "Alternativ: legger index (måned) og verdier  til et serie objekt"
   ]
  },
  {
   "cell_type": "code",
   "execution_count": 10,
   "metadata": {},
   "outputs": [],
   "source": [
    "data_serie = data['07129: Varehandelsindeksen, etter næring, måned og statistikkvariabel']"
   ]
  },
  {
   "cell_type": "markdown",
   "metadata": {},
   "source": [
    "plot av data_serie med standardverdier"
   ]
  },
  {
   "cell_type": "code",
   "execution_count": 11,
   "metadata": {},
   "outputs": [
    {
     "data": {
      "text/plain": [
       "<AxesSubplot:xlabel='måned'>"
      ]
     },
     "execution_count": 11,
     "metadata": {},
     "output_type": "execute_result"
    },
    {
     "data": {
      "image/png": "[encoded data removed]",
      "text/plain": [
       "<Figure size 432x288 with 1 Axes>"
      ]
     },
     "metadata": {
      "needs_background": "light"
     },
     "output_type": "display_data"
    }
   ],
   "source": [
    "data_serie.plot()"
   ]
  },
  {
   "cell_type": "code",
   "execution_count": null,
   "metadata": {},
   "outputs": [],
   "source": []
  }
 ],
 "metadata": {
  "kernelspec": {
   "display_name": "Python 3",
   "language": "python",
   "name": "python3"
  },
  "language_info": {
   "codemirror_mode": {
    "name": "ipython",
    "version": 3
   },
   "file_extension": ".py",
   "mimetype": "text/x-python",
   "name": "python",
   "nbconvert_exporter": "python",
   "pygments_lexer": "ipython3",
   "version": "3.8.6"
  },
  "toc": {
   "base_numbering": 1,
   "nav_menu": {},
   "number_sections": false,
   "sideBar": false,
   "skip_h1_title": false,
   "title_cell": "Table of Contents",
   "title_sidebar": "Contents",
   "toc_cell": false,
   "toc_position": {},
   "toc_section_display": false,
   "toc_window_display": false
  }
 },
 "nbformat": 4,
 "nbformat_minor": 2
}
