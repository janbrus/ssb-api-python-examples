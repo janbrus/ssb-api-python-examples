{
 "cells": [
  {
   "cell_type": "markdown",
   "metadata": {},
   "source": [
    "# Basis eksempel - hente CSV fra SSBs Statistikkbank til Pandas\n"
   ]
  },
  {
   "cell_type": "code",
   "execution_count": 1,
   "metadata": {},
   "outputs": [],
   "source": [
    "# Importerer Python Pandas for å kunne lage dataframe\n",
    "import pandas as pd\n"
   ]
  },
  {
   "cell_type": "markdown",
   "metadata": {},
   "source": [
    "API2 beta GET url med utformat csv. \n",
    "\n",
    "Merk de nye (foreløpig) udokumenterte parameterene for CSV output:\n",
    "\n",
    "`&outputformat=csv&outputFormatParams=UseTexts&stub=NACE,Tid,ContentsCode`"
   ]
  },
  {
   "cell_type": "code",
   "execution_count": 2,
   "metadata": {},
   "outputs": [],
   "source": [
    "url = \"https://data.ssb.no/api/pxwebapi/v2-beta/tables/07129/data?lang=no&valueCodes[NACE]=47&valueCodes[ContentsCode]=VolumSesong&valueCodes[Tid]=top(13)&outputformat=csv&outputFormatParams=UseTexts&stub=NACE,Tid,ContentsCode\""
   ]
  },
  {
   "cell_type": "markdown",
   "metadata": {},
   "source": [
    "pd.read_csv() henter innholdet fra API-et og legger det i data. \n",
    "De norske datasettene i csv2 er separert med komma og punktum som desimaltegn.\n",
    "CSV er ikke UTF-8, så vi må angi parameter for encoding for å få ÆØÅ riktig. "
   ]
  },
  {
   "cell_type": "code",
   "execution_count": 3,
   "metadata": {},
   "outputs": [],
   "source": [
    "data = pd.read_csv(url, encoding = \"ISO-8859-1\")"
   ]
  },
  {
   "cell_type": "markdown",
   "metadata": {},
   "source": [
    "Sjekker at datatypen er Pandas dataframe"
   ]
  },
  {
   "cell_type": "code",
   "execution_count": 4,
   "metadata": {},
   "outputs": [
    {
     "data": {
      "text/plain": [
       "pandas.core.frame.DataFrame"
      ]
     },
     "execution_count": 4,
     "metadata": {},
     "output_type": "execute_result"
    }
   ],
   "source": [
    "type(data)"
   ]
  },
  {
   "cell_type": "markdown",
   "metadata": {},
   "source": [
    "Shape gir antall rader (13) og kolonner (4)"
   ]
  },
  {
   "cell_type": "code",
   "execution_count": 5,
   "metadata": {},
   "outputs": [
    {
     "data": {
      "text/plain": [
       "(13, 4)"
      ]
     },
     "execution_count": 5,
     "metadata": {},
     "output_type": "execute_result"
    }
   ],
   "source": [
    "data.shape"
   ]
  },
  {
   "cell_type": "markdown",
   "metadata": {},
   "source": [
    "Toppen av datasettet. Verdikolonnen har tittelen på uttrekket."
   ]
  },
  {
   "cell_type": "code",
   "execution_count": 6,
   "metadata": {},
   "outputs": [
    {
     "data": {
      "text/html": [
       "<div>\n",
       "<style scoped>\n",
       "    .dataframe tbody tr th:only-of-type {\n",
       "        vertical-align: middle;\n",
       "    }\n",
       "\n",
       "    .dataframe tbody tr th {\n",
       "        vertical-align: top;\n",
       "    }\n",
       "\n",
       "    .dataframe thead th {\n",
       "        text-align: right;\n",
       "    }\n",
       "</style>\n",
       "<table border=\"1\" class=\"dataframe\">\n",
       "  <thead>\n",
       "    <tr style=\"text-align: right;\">\n",
       "      <th></th>\n",
       "      <th>næring</th>\n",
       "      <th>måned</th>\n",
       "      <th>statistikkvariabel</th>\n",
       "      <th>07129: Varehandelsindeksen,</th>\n",
       "    </tr>\n",
       "  </thead>\n",
       "  <tbody>\n",
       "    <tr>\n",
       "      <th>0</th>\n",
       "      <td>47 Detaljhandel, unntatt salg av motorvogner</td>\n",
       "      <td>2024M06</td>\n",
       "      <td>Volumindeks, sesongjustert</td>\n",
       "      <td>91.7</td>\n",
       "    </tr>\n",
       "    <tr>\n",
       "      <th>1</th>\n",
       "      <td>47 Detaljhandel, unntatt salg av motorvogner</td>\n",
       "      <td>2024M07</td>\n",
       "      <td>Volumindeks, sesongjustert</td>\n",
       "      <td>92.0</td>\n",
       "    </tr>\n",
       "    <tr>\n",
       "      <th>2</th>\n",
       "      <td>47 Detaljhandel, unntatt salg av motorvogner</td>\n",
       "      <td>2024M08</td>\n",
       "      <td>Volumindeks, sesongjustert</td>\n",
       "      <td>92.4</td>\n",
       "    </tr>\n",
       "    <tr>\n",
       "      <th>3</th>\n",
       "      <td>47 Detaljhandel, unntatt salg av motorvogner</td>\n",
       "      <td>2024M09</td>\n",
       "      <td>Volumindeks, sesongjustert</td>\n",
       "      <td>92.2</td>\n",
       "    </tr>\n",
       "    <tr>\n",
       "      <th>4</th>\n",
       "      <td>47 Detaljhandel, unntatt salg av motorvogner</td>\n",
       "      <td>2024M10</td>\n",
       "      <td>Volumindeks, sesongjustert</td>\n",
       "      <td>92.6</td>\n",
       "    </tr>\n",
       "  </tbody>\n",
       "</table>\n",
       "</div>"
      ],
      "text/plain": [
       "                                         næring    måned  \\\n",
       "0  47 Detaljhandel, unntatt salg av motorvogner  2024M06   \n",
       "1  47 Detaljhandel, unntatt salg av motorvogner  2024M07   \n",
       "2  47 Detaljhandel, unntatt salg av motorvogner  2024M08   \n",
       "3  47 Detaljhandel, unntatt salg av motorvogner  2024M09   \n",
       "4  47 Detaljhandel, unntatt salg av motorvogner  2024M10   \n",
       "\n",
       "           statistikkvariabel  07129: Varehandelsindeksen,  \n",
       "0  Volumindeks, sesongjustert                         91.7  \n",
       "1  Volumindeks, sesongjustert                         92.0  \n",
       "2  Volumindeks, sesongjustert                         92.4  \n",
       "3  Volumindeks, sesongjustert                         92.2  \n",
       "4  Volumindeks, sesongjustert                         92.6  "
      ]
     },
     "execution_count": 6,
     "metadata": {},
     "output_type": "execute_result"
    }
   ],
   "source": [
    "data.head()"
   ]
  },
  {
   "cell_type": "markdown",
   "metadata": {},
   "source": [
    "Endrer til datoformat ved først å erstatte M med - . Ikke strengt nødvendig. Ta vekk kommentaren og kjør på nytt. Hva er endringen i figurene?"
   ]
  },
  {
   "cell_type": "markdown",
   "metadata": {},
   "source": [
    "Informasjon om innholdet i dataframe"
   ]
  },
  {
   "cell_type": "code",
   "execution_count": 7,
   "metadata": {
    "scrolled": true
   },
   "outputs": [
    {
     "name": "stdout",
     "output_type": "stream",
     "text": [
      "<class 'pandas.core.frame.DataFrame'>\n",
      "RangeIndex: 13 entries, 0 to 12\n",
      "Data columns (total 4 columns):\n",
      " #   Column                       Non-Null Count  Dtype  \n",
      "---  ------                       --------------  -----  \n",
      " 0   næring                       13 non-null     object \n",
      " 1   måned                        13 non-null     object \n",
      " 2   statistikkvariabel           13 non-null     object \n",
      " 3   07129: Varehandelsindeksen,  13 non-null     float64\n",
      "dtypes: float64(1), object(3)\n",
      "memory usage: 548.0+ bytes\n"
     ]
    }
   ],
   "source": [
    "data.info()"
   ]
  },
  {
   "cell_type": "code",
   "execution_count": 8,
   "metadata": {},
   "outputs": [
    {
     "name": "stdout",
     "output_type": "stream",
     "text": [
      "Index(['næring', 'måned', 'statistikkvariabel', '07129: Varehandelsindeksen,'], dtype='object')\n"
     ]
    }
   ],
   "source": [
    "print(data.columns)"
   ]
  },
  {
   "cell_type": "markdown",
   "metadata": {},
   "source": [
    "Setter tittel"
   ]
  },
  {
   "cell_type": "code",
   "execution_count": 9,
   "metadata": {},
   "outputs": [],
   "source": [
    "tittel = data.columns[3] + ' ' + data['statistikkvariabel'].iloc[0] + ', ' + data['næring'].iloc[0] + ', ' + data['måned'].iloc[0] + '-' + data['måned'].iloc[-1]"
   ]
  },
  {
   "cell_type": "markdown",
   "metadata": {},
   "source": [
    "Alternativ: ersatt M med - og sett tid. Kommenter ut cellen over og ta vekk kommentarene under"
   ]
  },
  {
   "cell_type": "code",
   "execution_count": 10,
   "metadata": {},
   "outputs": [],
   "source": [
    "data['måned']= pd.to_datetime(data['måned'].str.replace('M', '-'))"
   ]
  },
  {
   "cell_type": "code",
   "execution_count": 11,
   "metadata": {},
   "outputs": [
    {
     "name": "stdout",
     "output_type": "stream",
     "text": [
      "47 Detaljhandel, unntatt salg av motorvogner, Volumindeks, sesongjustert, 2024M06-2025M06\n"
     ]
    }
   ],
   "source": [
    "tittel = data['næring'].iloc[0] + ', ' + data['statistikkvariabel'].iloc[0] + ', ' + data['måned'].iloc[0].strftime('%YM%m') + '-' + data['måned'].iloc[-1].strftime('%YM%m')\n",
    "print(tittel)"
   ]
  },
  {
   "cell_type": "markdown",
   "metadata": {},
   "source": [
    "Setter måned som index-kolonne"
   ]
  },
  {
   "cell_type": "markdown",
   "metadata": {},
   "source": [
    "Lage et linjediagram der vi angir x og y aksen"
   ]
  },
  {
   "cell_type": "code",
   "execution_count": 12,
   "metadata": {},
   "outputs": [
    {
     "data": {
      "text/plain": [
       "<Axes: title={'center': '47 Detaljhandel, unntatt salg av motorvogner, Volumindeks, sesongjustert, 2024M06-2025M06'}, xlabel='måned'>"
      ]
     },
     "execution_count": 12,
     "metadata": {},
     "output_type": "execute_result"
    },
    {
     "data": {
      "image/png": "[encoded data removed]",
      "text/plain": [
       "<Figure size 1200x600 with 1 Axes>"
      ]
     },
     "metadata": {},
     "output_type": "display_data"
    }
   ],
   "source": [
    "data.plot(x='måned', y='07129: Varehandelsindeksen,', figsize=(12, 6), color ='g', title = tittel)"
   ]
  },
  {
   "cell_type": "markdown",
   "metadata": {},
   "source": [
    "*Alternativ*: Legger index (måned) og verdier  til et serie objekt, data_serie."
   ]
  },
  {
   "cell_type": "markdown",
   "metadata": {},
   "source": [
    "*Informasjon*: Fram til 2021 var dette en egen svært enkel indeks fra SSB, Detaljomsetningsindeksen. Den var fin for enkle eksempler. I 2022 ble Detaljomsetningindeksen utvidet med flere næringsgrupper (45 og 46) og detaljert med undergupper. Navnet på Statistikkbanktabellen ble endret til Varehandelsindeksen. Selve datasettet, 1066, er ikke endret.  "
   ]
  },
  {
   "cell_type": "code",
   "execution_count": null,
   "metadata": {},
   "outputs": [],
   "source": []
  }
 ],
 "metadata": {
  "kernelspec": {
   "display_name": "Python 3 (ipykernel)",
   "language": "python",
   "name": "python3"
  },
  "language_info": {
   "codemirror_mode": {
    "name": "ipython",
    "version": 3
   },
   "file_extension": ".py",
   "mimetype": "text/x-python",
   "name": "python",
   "nbconvert_exporter": "python",
   "pygments_lexer": "ipython3",
   "version": "3.12.3"
  },
  "toc": {
   "base_numbering": 1,
   "nav_menu": {},
   "number_sections": false,
   "sideBar": false,
   "skip_h1_title": false,
   "title_cell": "Table of Contents",
   "title_sidebar": "Contents",
   "toc_cell": false,
   "toc_position": {},
   "toc_section_display": false,
   "toc_window_display": false
  }
 },
 "nbformat": 4,
 "nbformat_minor": 4
}
