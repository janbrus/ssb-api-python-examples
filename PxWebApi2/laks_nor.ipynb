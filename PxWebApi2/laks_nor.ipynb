{
 "cells": [
  {
   "cell_type": "markdown",
   "id": "f8630d85-b0c2-40e4-807b-9eda745c3418",
   "metadata": {},
   "source": [
    "# Eksempel på bruk av PxWebApi versjon 2 beta i Python\n"
   ]
  },
  {
   "cell_type": "markdown",
   "id": "7b3d46dd-6ec8-4f4d-bff0-f2389d790772",
   "metadata": {},
   "source": [
    "## Det nye APIet tilbyr både http POST som før og http GET som er nytt"
   ]
  },
  {
   "cell_type": "markdown",
   "id": "73f987da-dd06-48d4-a2f1-62fd9dac9ee2",
   "metadata": {},
   "source": [
    "#### benytter biblioteket pyjstat for JSON-stat"
   ]
  },
  {
   "cell_type": "code",
   "execution_count": 1,
   "id": "25047683-c7e4-4e29-99e1-ddd28006bd27",
   "metadata": {},
   "outputs": [],
   "source": [
    "import pandas as pd\n",
    "import requests\n",
    "from pyjstat import pyjstat "
   ]
  },
  {
   "cell_type": "markdown",
   "id": "61b46f50-35cf-40b8-80fc-2588fc0437bd",
   "metadata": {},
   "source": [
    "## Post spørring og få Pandas dataframe i retur\n",
    "Nytt: Språk og utformat angis i URL"
   ]
  },
  {
   "cell_type": "code",
   "execution_count": 2,
   "id": "09a682b7-8e21-4126-8517-221d1a9f71a6",
   "metadata": {},
   "outputs": [],
   "source": [
    "# Eksport av laks\n",
    "POST_URL = 'https://data.ssb.no/api/pxwebapi/v2-beta/tables/03024/data?lang=no&outputFormat=json-stat2'"
   ]
  },
  {
   "cell_type": "markdown",
   "id": "37d8ba75-931d-43f9-8622-3c2d95e75f5b",
   "metadata": {},
   "source": [
    "API spørring, Det er en annen struktur enn i PxWebApi Versjon 1  - henter fryst og fersk laks siste 53 uker"
   ]
  },
  {
   "cell_type": "code",
   "execution_count": 3,
   "id": "dede5078-0227-4a33-837a-593a93295bf2",
   "metadata": {},
   "outputs": [],
   "source": [
    "\n",
    "payload = {\"selection\": [\n",
    "\t\t\t{\"variableCode\": \"VareGrupper2\", \n",
    "             \"valueCodes\": [\n",
    "                 \"01\", \"02\"\n",
    "             ] \n",
    "            },\n",
    "\t\t\t{\"variableCode\": \"ContentsCode\", \n",
    "             \"valueCodes\": [\n",
    "                 \"Vekt\", \"Kilopris\"\n",
    "             ] \n",
    "            },\n",
    "\t\t\t{\"variableCode\": \"Tid\", \n",
    "             \"valueCodes\": [\"2024*\"] }\n",
    "\t\t]\n",
    "\t\t}\n",
    "\n"
   ]
  },
  {
   "cell_type": "code",
   "execution_count": 4,
   "id": "8d7c3c87-0090-4b29-9187-b8048aa4176e",
   "metadata": {},
   "outputs": [],
   "source": [
    "resultat = requests.post(POST_URL, json = payload)"
   ]
  },
  {
   "cell_type": "code",
   "execution_count": 5,
   "id": "cedeb4d2-1001-460b-bce4-6be8fac9b280",
   "metadata": {},
   "outputs": [
    {
     "name": "stdout",
     "output_type": "stream",
     "text": [
      "<Response [200]>\n"
     ]
    }
   ],
   "source": [
    "print(resultat)"
   ]
  },
  {
   "cell_type": "markdown",
   "id": "7a29dfbb-11b3-4783-bfbc-9b42420b1fd0",
   "metadata": {},
   "source": [
    "Resultat gir bare http statuskode - 200 hvis OK. Body ligger i resultat.text"
   ]
  },
  {
   "cell_type": "code",
   "execution_count": 6,
   "id": "b3320465-eef6-40d0-8e66-080598a5d85f",
   "metadata": {},
   "outputs": [],
   "source": [
    "dataset = pyjstat.Dataset.read(resultat.text)"
   ]
  },
  {
   "cell_type": "code",
   "execution_count": 7,
   "id": "08a07868-58bd-4577-9ce9-b79462770c33",
   "metadata": {},
   "outputs": [],
   "source": [
    "df = dataset.write('dataframe')"
   ]
  },
  {
   "cell_type": "code",
   "execution_count": 8,
   "id": "f623bbff-02fc-409e-8ed2-0fe387f37bfe",
   "metadata": {},
   "outputs": [
    {
     "data": {
      "text/html": [
       "<div>\n",
       "<style scoped>\n",
       "    .dataframe tbody tr th:only-of-type {\n",
       "        vertical-align: middle;\n",
       "    }\n",
       "\n",
       "    .dataframe tbody tr th {\n",
       "        vertical-align: top;\n",
       "    }\n",
       "\n",
       "    .dataframe thead th {\n",
       "        text-align: right;\n",
       "    }\n",
       "</style>\n",
       "<table border=\"1\" class=\"dataframe\">\n",
       "  <thead>\n",
       "    <tr style=\"text-align: right;\">\n",
       "      <th></th>\n",
       "      <th>varegruppe</th>\n",
       "      <th>statistikkvariabel</th>\n",
       "      <th>uke</th>\n",
       "      <th>value</th>\n",
       "    </tr>\n",
       "  </thead>\n",
       "  <tbody>\n",
       "    <tr>\n",
       "      <th>0</th>\n",
       "      <td>Fersk oppalen laks</td>\n",
       "      <td>Vekt (tonn)</td>\n",
       "      <td>2024U01</td>\n",
       "      <td>12105.0</td>\n",
       "    </tr>\n",
       "    <tr>\n",
       "      <th>1</th>\n",
       "      <td>Fersk oppalen laks</td>\n",
       "      <td>Vekt (tonn)</td>\n",
       "      <td>2024U02</td>\n",
       "      <td>16016.0</td>\n",
       "    </tr>\n",
       "    <tr>\n",
       "      <th>2</th>\n",
       "      <td>Fersk oppalen laks</td>\n",
       "      <td>Vekt (tonn)</td>\n",
       "      <td>2024U03</td>\n",
       "      <td>14622.0</td>\n",
       "    </tr>\n",
       "    <tr>\n",
       "      <th>3</th>\n",
       "      <td>Fersk oppalen laks</td>\n",
       "      <td>Vekt (tonn)</td>\n",
       "      <td>2024U04</td>\n",
       "      <td>15342.0</td>\n",
       "    </tr>\n",
       "    <tr>\n",
       "      <th>4</th>\n",
       "      <td>Fersk oppalen laks</td>\n",
       "      <td>Vekt (tonn)</td>\n",
       "      <td>2024U05</td>\n",
       "      <td>13511.0</td>\n",
       "    </tr>\n",
       "  </tbody>\n",
       "</table>\n",
       "</div>"
      ],
      "text/plain": [
       "           varegruppe statistikkvariabel      uke    value\n",
       "0  Fersk oppalen laks        Vekt (tonn)  2024U01  12105.0\n",
       "1  Fersk oppalen laks        Vekt (tonn)  2024U02  16016.0\n",
       "2  Fersk oppalen laks        Vekt (tonn)  2024U03  14622.0\n",
       "3  Fersk oppalen laks        Vekt (tonn)  2024U04  15342.0\n",
       "4  Fersk oppalen laks        Vekt (tonn)  2024U05  13511.0"
      ]
     },
     "execution_count": 8,
     "metadata": {},
     "output_type": "execute_result"
    }
   ],
   "source": [
    "df.head()"
   ]
  },
  {
   "cell_type": "code",
   "execution_count": 9,
   "id": "8981216d-d708-44b5-a5a6-398416c0768b",
   "metadata": {},
   "outputs": [
    {
     "data": {
      "text/html": [
       "<div>\n",
       "<style scoped>\n",
       "    .dataframe tbody tr th:only-of-type {\n",
       "        vertical-align: middle;\n",
       "    }\n",
       "\n",
       "    .dataframe tbody tr th {\n",
       "        vertical-align: top;\n",
       "    }\n",
       "\n",
       "    .dataframe thead th {\n",
       "        text-align: right;\n",
       "    }\n",
       "</style>\n",
       "<table border=\"1\" class=\"dataframe\">\n",
       "  <thead>\n",
       "    <tr style=\"text-align: right;\">\n",
       "      <th></th>\n",
       "      <th>varegruppe</th>\n",
       "      <th>statistikkvariabel</th>\n",
       "      <th>uke</th>\n",
       "      <th>value</th>\n",
       "    </tr>\n",
       "  </thead>\n",
       "  <tbody>\n",
       "    <tr>\n",
       "      <th>203</th>\n",
       "      <td>Frosen oppalen laks</td>\n",
       "      <td>Kilopris (kr)</td>\n",
       "      <td>2024U48</td>\n",
       "      <td>80.99</td>\n",
       "    </tr>\n",
       "    <tr>\n",
       "      <th>204</th>\n",
       "      <td>Frosen oppalen laks</td>\n",
       "      <td>Kilopris (kr)</td>\n",
       "      <td>2024U49</td>\n",
       "      <td>79.33</td>\n",
       "    </tr>\n",
       "    <tr>\n",
       "      <th>205</th>\n",
       "      <td>Frosen oppalen laks</td>\n",
       "      <td>Kilopris (kr)</td>\n",
       "      <td>2024U50</td>\n",
       "      <td>73.62</td>\n",
       "    </tr>\n",
       "    <tr>\n",
       "      <th>206</th>\n",
       "      <td>Frosen oppalen laks</td>\n",
       "      <td>Kilopris (kr)</td>\n",
       "      <td>2024U51</td>\n",
       "      <td>76.39</td>\n",
       "    </tr>\n",
       "    <tr>\n",
       "      <th>207</th>\n",
       "      <td>Frosen oppalen laks</td>\n",
       "      <td>Kilopris (kr)</td>\n",
       "      <td>2024U52</td>\n",
       "      <td>93.83</td>\n",
       "    </tr>\n",
       "  </tbody>\n",
       "</table>\n",
       "</div>"
      ],
      "text/plain": [
       "              varegruppe statistikkvariabel      uke  value\n",
       "203  Frosen oppalen laks      Kilopris (kr)  2024U48  80.99\n",
       "204  Frosen oppalen laks      Kilopris (kr)  2024U49  79.33\n",
       "205  Frosen oppalen laks      Kilopris (kr)  2024U50  73.62\n",
       "206  Frosen oppalen laks      Kilopris (kr)  2024U51  76.39\n",
       "207  Frosen oppalen laks      Kilopris (kr)  2024U52  93.83"
      ]
     },
     "execution_count": 9,
     "metadata": {},
     "output_type": "execute_result"
    }
   ],
   "source": [
    "df.tail()"
   ]
  },
  {
   "cell_type": "code",
   "execution_count": 10,
   "id": "6aa7d249-81c5-4921-81e5-4067b0d284dd",
   "metadata": {},
   "outputs": [
    {
     "name": "stdout",
     "output_type": "stream",
     "text": [
      "<class 'pandas.core.frame.DataFrame'>\n",
      "RangeIndex: 208 entries, 0 to 207\n",
      "Data columns (total 4 columns):\n",
      " #   Column              Non-Null Count  Dtype  \n",
      "---  ------              --------------  -----  \n",
      " 0   varegruppe          208 non-null    object \n",
      " 1   statistikkvariabel  208 non-null    object \n",
      " 2   uke                 208 non-null    object \n",
      " 3   value               208 non-null    float64\n",
      "dtypes: float64(1), object(3)\n",
      "memory usage: 6.6+ KB\n"
     ]
    }
   ],
   "source": [
    "df.info()"
   ]
  },
  {
   "cell_type": "code",
   "execution_count": 11,
   "id": "281a1e66-61ea-4c96-923a-f920d0c9c20a",
   "metadata": {},
   "outputs": [
    {
     "name": "stdout",
     "output_type": "stream",
     "text": [
      "{\"version\":\"2.0\",\"class\":\"dataset\",\"label\":\"03024: Eksport av oppalen laks, etter varegruppe, statistikkvariabel og uke\",\"source\":\"Statistisk sentralbyrå\",\"updated\":\"2025-03-26T07:00:00Z\",\"role\":{\"time\":[\"Tid\"],\"metric\":[\"ContentsCode\"]},\"id\":[\"VareGrupper2\",\"ContentsCode\",\"Tid\"],\"size\":[2,2,52],\"dimension\":{\"VareGrupper2\":{\"label\":\"varegruppe\",\"category\":{\"index\":{\"01\":0,\"02\":1},\"label\":{\"01\":\"Fersk oppalen laks\",\"02\":\"Frosen oppalen laks\"}},\"extension\":{\"elimination\":false,\"show\":\"value\"}},\"ContentsCode\":{\"label\":\"statistikkvariabel\",\"category\":{\"index\":{\"Vekt\":0,\"Kilopris\":1},\"label\":{\"Vekt\":\"Vekt (tonn)\",\"Kilopris\":\"Kilopris (kr)\"},\"unit\":{\"Vekt\":{\"base\":\"tonn\",\"decimals\":0},\"Kilopris\":{\"base\":\"kr\",\"decimals\":2}}},\"extension\":{\"elimination\":false,\"refperiod\":{\"Vekt\":\"Utgangen av veka\",\"Kilopris\":\"Utgangen av veka\"},\"show\":\"value\",\"measuringType\":{\"Vekt\":\"Flow\",\"Kilopris\":\"Flow\"},\"priceType\":{\"Vekt\":\"NotApplicable\",\"Kilopris\":\"NotApplicable\"},\"adjustment\":{\"Vekt\":\"None\",\"Kilopris\":\"None\"}},\"link\":{\"describedby\":[{\"extension\":{\"Vekt\":\"urn:ssb:conceptvariable:vardok:2982\"}}]}},\"Tid\":{\"label\":\"uke\",\"category\":{\"index\":{\"2024U01\":0,\"2024U02\":1,\"2024U03\":2,\"2024U04\":3,\"2024U05\":4,\"2024U06\":5,\"2024U07\":6,\"2024U08\":7,\"2024U09\":8,\"2024U10\":9,\"2024U11\":10,\"2024U12\":11,\"2024U13\":12,\"2024U14\":13,\"2024U15\":14,\"2024U16\":15,\"2024U17\":16,\"2024U18\":17,\"2024U19\":18,\"2024U20\":19,\"2024U21\":20,\"2024U22\":21,\"2024U23\":22,\"2024U24\":23,\"2024U25\":24,\"2024U26\":25,\"2024U27\":26,\"2024U28\":27,\"2024U29\":28,\"2024U30\":29,\"2024U31\":30,\"2024U32\":31,\"2024U33\":32,\"2024U34\":33,\"2024U35\":34,\"2024U36\":35,\"2024U37\":36,\"2024U38\":37,\"2024U39\":38,\"2024U40\":39,\"2024U41\":40,\"2024U42\":41,\"2024U43\":42,\"2024U44\":43,\"2024U45\":44,\"2024U46\":45,\"2024U47\":46,\"2024U48\":47,\"2024U49\":48,\"2024U50\":49,\"2024U51\":50,\"2024U52\":51},\"label\":{\"2024U01\":\"2024U01\",\"2024U02\":\"2024U02\",\"2024U03\":\"2024U03\",\"2024U04\":\"2024U04\",\"2024U05\":\"2024U05\",\"2024U06\":\"2024U06\",\"2024U07\":\"2024U07\",\"2024U08\":\"2024U08\",\"2024U09\":\"2024U09\",\"2024U10\":\"2024U10\",\"2024U11\":\"2024U11\",\"2024U12\":\"2024U12\",\"2024U13\":\"2024U13\",\"2024U14\":\"2024U14\",\"2024U15\":\"2024U15\",\"2024U16\":\"2024U16\",\"2024U17\":\"2024U17\",\"2024U18\":\"2024U18\",\"2024U19\":\"2024U19\",\"2024U20\":\"2024U20\",\"2024U21\":\"2024U21\",\"2024U22\":\"2024U22\",\"2024U23\":\"2024U23\",\"2024U24\":\"2024U24\",\"2024U25\":\"2024U25\",\"2024U26\":\"2024U26\",\"2024U27\":\"2024U27\",\"2024U28\":\"2024U28\",\"2024U29\":\"2024U29\",\"2024U30\":\"2024U30\",\"2024U31\":\"2024U31\",\"2024U32\":\"2024U32\",\"2024U33\":\"2024U33\",\"2024U34\":\"2024U34\",\"2024U35\":\"2024U35\",\"2024U36\":\"2024U36\",\"2024U37\":\"2024U37\",\"2024U38\":\"2024U38\",\"2024U39\":\"2024U39\",\"2024U40\":\"2024U40\",\"2024U41\":\"2024U41\",\"2024U42\":\"2024U42\",\"2024U43\":\"2024U43\",\"2024U44\":\"2024U44\",\"2024U45\":\"2024U45\",\"2024U46\":\"2024U46\",\"2024U47\":\"2024U47\",\"2024U48\":\"2024U48\",\"2024U49\":\"2024U49\",\"2024U50\":\"2024U50\",\"2024U51\":\"2024U51\",\"2024U52\":\"2024U52\"}},\"extension\":{\"elimination\":false,\"show\":\"code\"}}},\"extension\":{\"px\":{\"infofile\":\"None\",\"tableid\":\"03024\",\"decimals\":0,\"official-statistics\":true,\"aggregallowed\":false,\"language\":\"no\",\"contents\":\"03024: Eksport av oppalen laks,\",\"descriptiondefault\":false,\"heading\":[\"ContentsCode\",\"Tid\"],\"stub\":[\"VareGrupper2\"],\"matrix\":\"Vekt\",\"subject-code\":\"al\",\"subject-area\":\"Arbeid og lønn\"},\"discontinued\":null,\"contact\":[{\"name\":\"Utenrikshandel\",\"organization\":\"Statistisk sentralbyrå\",\"phone\":\"2109 4753\",\"mail\":\"utenrikshandel@ssb.no\",\"raw\":\" Utenrikshandel, Statistisk sentralbyrå# +47 2109 4753#utenrikshandel@ssb.no\"}]},\"value\":[12105,16016,14622,15342,13511,15862,13639,10687,12959,14487,14619,13493,9512,11675,13015,11766,12923,11511,10617,11698,12567,15060,16605,16797,18125,17377,19201,18421,18177,21986,22624,20669,21367,24242,25506,26416,27899,28673,29238,26543,25180,25561,24910,25749,23871,22825,23333,25376,25742,25658,22450,9134,112.9,108.85,99.87,104.48,109.18,106.91,107.78,111.25,109.58,107.29,106.19,106.78,115.19,120.04,123.28,121.22,113.18,119.65,122.05,120.83,118.07,104.9,92.2,84.87,85.58,79.29,78.24,79.78,81.46,81.55,81.19,80.41,80.89,76.82,73.93,73.08,74.12,74.57,73.23,69.7,72.76,76.02,77.59,76.49,77.8,81.68,86.59,89.32,87.46,90.74,92.15,111.82,175,475,358,374,342,487,367,471,441,493,511,623,518,463,617,529,309,244,476,717,507,564,433,281,421,545,296,480,264,576,565,318,418,424,495,591,647,665,578,987,780,793,677,880,795,708,627,695,645,682,519,158,100.85,88,91.95,86.97,83.99,83.77,88.46,82.34,88.62,93.94,78.18,91.11,88.74,90.57,89.08,85.45,92.45,78.78,82.51,91,84.5,92.19,79.34,85.45,89.3,95.01,86.4,81.48,70.13,84.98,84.87,87.7,87.29,81.81,81.97,79.65,74.99,73.31,71.97,78.32,73.69,81.9,71.49,82.18,78.44,83.02,83.33,80.99,79.33,73.62,76.39,93.83]}\n"
     ]
    }
   ],
   "source": [
    "print(resultat.text)"
   ]
  },
  {
   "cell_type": "markdown",
   "id": "be969753-b333-4713-8a00-f17299e3748c",
   "metadata": {},
   "source": [
    "## Henter noen overordnete metadata fra JSON-stat datasettet"
   ]
  },
  {
   "cell_type": "code",
   "execution_count": 12,
   "id": "70ccc310-8d0c-410b-b0af-1b0716bbe479",
   "metadata": {},
   "outputs": [
    {
     "name": "stdout",
     "output_type": "stream",
     "text": [
      "03024: Eksport av oppalen laks, etter varegruppe, statistikkvariabel og uke\n"
     ]
    }
   ],
   "source": [
    "tittel = dataset['label']\n",
    "print(tittel)"
   ]
  },
  {
   "cell_type": "code",
   "execution_count": 13,
   "id": "b8693148-0483-4962-ace8-cba0b79b05f9",
   "metadata": {},
   "outputs": [
    {
     "name": "stdout",
     "output_type": "stream",
     "text": [
      "2025-03-26T07:00:00Z\n"
     ]
    }
   ],
   "source": [
    "last_update = dataset['updated']\n",
    "print(last_update)"
   ]
  },
  {
   "cell_type": "code",
   "execution_count": 14,
   "id": "83dd1c24-171c-4038-aa83-32552be85e93",
   "metadata": {},
   "outputs": [
    {
     "name": "stdout",
     "output_type": "stream",
     "text": [
      "2025-03-26T07:00:00Z\n"
     ]
    }
   ],
   "source": [
    "last_update = dataset['updated']\n",
    "print(last_update)"
   ]
  },
  {
   "cell_type": "code",
   "execution_count": 15,
   "id": "7b8d7482-648d-4b7a-95ac-8ada22603bdf",
   "metadata": {},
   "outputs": [
    {
     "name": "stdout",
     "output_type": "stream",
     "text": [
      "Statistisk sentralbyrå\n"
     ]
    }
   ],
   "source": [
    "source = dataset['source']\n",
    "print(source)"
   ]
  },
  {
   "cell_type": "markdown",
   "id": "aac7e4c8-6206-49f0-88f2-b786635bb380",
   "metadata": {},
   "source": [
    "'Role' gir snarveier til statistikkvariabel(metric), Tid og evt. Geo"
   ]
  },
  {
   "cell_type": "code",
   "execution_count": 16,
   "id": "b651496f-fc5d-4ee6-87bd-20d8d300b642",
   "metadata": {},
   "outputs": [
    {
     "name": "stdout",
     "output_type": "stream",
     "text": [
      "OrderedDict({'time': ['Tid'], 'metric': ['ContentsCode']})\n"
     ]
    }
   ],
   "source": [
    "ds_roles = dataset['role']\n",
    "print(ds_roles)"
   ]
  },
  {
   "cell_type": "markdown",
   "id": "a57a4f6d-edf3-435a-af25-e85f8ae53a29",
   "metadata": {},
   "source": [
    "Her er noen nye metadata"
   ]
  },
  {
   "cell_type": "code",
   "execution_count": 17,
   "id": "340f6071-dd4c-4b87-9e61-9dd8e1ba747b",
   "metadata": {},
   "outputs": [
    {
     "name": "stdout",
     "output_type": "stream",
     "text": [
      "03024\n"
     ]
    }
   ],
   "source": [
    "ds_id = dataset['extension']['px']['tableid']\n",
    "print(ds_id)"
   ]
  },
  {
   "cell_type": "code",
   "execution_count": 18,
   "id": "192bd0ce-f6cc-48ee-86a1-da3a68cca52d",
   "metadata": {},
   "outputs": [
    {
     "name": "stdout",
     "output_type": "stream",
     "text": [
      "03024: Eksport av oppalen laks,\n"
     ]
    }
   ],
   "source": [
    "ds_shorttit = dataset['extension']['px']['contents']\n",
    "print(ds_shorttit)"
   ]
  },
  {
   "cell_type": "markdown",
   "id": "521d992c-2e51-4b13-b061-7ca2274576db",
   "metadata": {},
   "source": [
    "Sjekk om tabellen har fotnote"
   ]
  },
  {
   "cell_type": "code",
   "execution_count": 19,
   "id": "9d7e820b-101e-4298-8a69-ed5636122367",
   "metadata": {},
   "outputs": [],
   "source": [
    "if 'note' in dataset:\n",
    "    ds_note = dataset['note']\n",
    "    print(ds_note)"
   ]
  },
  {
   "cell_type": "code",
   "execution_count": 20,
   "id": "4b4f9138-2583-43a4-8dcc-06fce2b24fc6",
   "metadata": {},
   "outputs": [
    {
     "data": {
      "text/plain": [
       "['VareGrupper2', 'ContentsCode', 'Tid']"
      ]
     },
     "execution_count": 20,
     "metadata": {},
     "output_type": "execute_result"
    }
   ],
   "source": [
    "ds_dims = dataset['id']\n",
    "ds_dims"
   ]
  },
  {
   "cell_type": "code",
   "execution_count": 21,
   "id": "7c8f2e59-275c-490f-a40d-cd139bea6cee",
   "metadata": {},
   "outputs": [
    {
     "data": {
      "text/plain": [
       "'varegruppe'"
      ]
     },
     "execution_count": 21,
     "metadata": {},
     "output_type": "execute_result"
    }
   ],
   "source": [
    "ds_dim = dataset['dimension']['VareGrupper2']['label']\n",
    "ds_dim"
   ]
  },
  {
   "cell_type": "code",
   "execution_count": 22,
   "id": "8287ef1c-9eb7-4e13-92a8-1324e1f4ba9e",
   "metadata": {},
   "outputs": [
    {
     "data": {
      "text/plain": [
       "('03024: Eksport av oppalen laks,', ' etter ', 'varegruppe')"
      ]
     },
     "execution_count": 22,
     "metadata": {},
     "output_type": "execute_result"
    }
   ],
   "source": [
    "ds_shorttit,' etter ',ds_dim"
   ]
  },
  {
   "cell_type": "code",
   "execution_count": 23,
   "id": "afa1ba1b-73c8-4c43-b35e-4b13ed65ad83",
   "metadata": {},
   "outputs": [
    {
     "data": {
      "text/plain": [
       "OrderedDict([('label', 'statistikkvariabel'),\n",
       "             ('category',\n",
       "              OrderedDict([('index',\n",
       "                            OrderedDict([('Vekt', 0), ('Kilopris', 1)])),\n",
       "                           ('label',\n",
       "                            OrderedDict([('Vekt', 'Vekt (tonn)'),\n",
       "                                         ('Kilopris', 'Kilopris (kr)')])),\n",
       "                           ('unit',\n",
       "                            OrderedDict([('Vekt',\n",
       "                                          OrderedDict([('base', 'tonn'),\n",
       "                                                       ('decimals', 0)])),\n",
       "                                         ('Kilopris',\n",
       "                                          OrderedDict([('base', 'kr'),\n",
       "                                                       ('decimals',\n",
       "                                                        2)]))]))])),\n",
       "             ('extension',\n",
       "              OrderedDict([('elimination', False),\n",
       "                           ('refperiod',\n",
       "                            OrderedDict([('Vekt', 'Utgangen av veka'),\n",
       "                                         ('Kilopris', 'Utgangen av veka')])),\n",
       "                           ('show', 'value'),\n",
       "                           ('measuringType',\n",
       "                            OrderedDict([('Vekt', 'Flow'),\n",
       "                                         ('Kilopris', 'Flow')])),\n",
       "                           ('priceType',\n",
       "                            OrderedDict([('Vekt', 'NotApplicable'),\n",
       "                                         ('Kilopris', 'NotApplicable')])),\n",
       "                           ('adjustment',\n",
       "                            OrderedDict([('Vekt', 'None'),\n",
       "                                         ('Kilopris', 'None')]))])),\n",
       "             ('link',\n",
       "              OrderedDict([('describedby',\n",
       "                            [OrderedDict([('extension',\n",
       "                                           OrderedDict([('Vekt',\n",
       "                                                         'urn:ssb:conceptvariable:vardok:2982')]))])])]))])"
      ]
     },
     "execution_count": 23,
     "metadata": {},
     "output_type": "execute_result"
    }
   ],
   "source": [
    "ds_dimcat = dataset['dimension']['ContentsCode']\n",
    "ds_dimcat"
   ]
  },
  {
   "cell_type": "code",
   "execution_count": 24,
   "id": "9d82ef63-c4c6-4d3c-828c-069ffe6bafcf",
   "metadata": {},
   "outputs": [
    {
     "data": {
      "text/plain": [
       "'Fersk oppalen laks'"
      ]
     },
     "execution_count": 24,
     "metadata": {},
     "output_type": "execute_result"
    }
   ],
   "source": [
    "ds_var = dataset['dimension']['VareGrupper2']['category']['label']['01']\n",
    "ds_var"
   ]
  },
  {
   "cell_type": "markdown",
   "id": "726e08c5-9982-4e71-a44a-0e94d93e6fb1",
   "metadata": {},
   "source": [
    "## GET - PxWebApi2"
   ]
  },
  {
   "cell_type": "markdown",
   "id": "a6117666-0f19-4100-ab96-b10553d159a4",
   "metadata": {},
   "source": [
    "Ferdigdefinerte datasett er nytt versjon 2 av PxWebApi. \n",
    "\n",
    "Vi bruker POST-URLen over med http GET til å gi oss et ferdigdefinert datasett.\n",
    "\n",
    "Vi kunne tatt vekk parametrene ?lang=no&outputFormat=json-stat2 fordi disse er satt i /config"
   ]
  },
  {
   "cell_type": "code",
   "execution_count": 25,
   "id": "64a1277c-8ec7-49b4-b9be-9693c0a4117f",
   "metadata": {},
   "outputs": [
    {
     "name": "stdout",
     "output_type": "stream",
     "text": [
      "https://data.ssb.no/api/pxwebapi/v2-beta/tables/03024/data?lang=no&outputFormat=json-stat2\n"
     ]
    }
   ],
   "source": [
    "print(requests.get(POST_URL).url)"
   ]
  },
  {
   "cell_type": "code",
   "execution_count": 26,
   "id": "d13e58a2-359a-4864-a318-a2a394dbb515",
   "metadata": {},
   "outputs": [],
   "source": [
    "resultat_get = requests.get(POST_URL)"
   ]
  },
  {
   "cell_type": "code",
   "execution_count": 27,
   "id": "80edb768-2638-4fc2-9a42-86faaa24e136",
   "metadata": {},
   "outputs": [],
   "source": [
    "res_get = resultat_get.text"
   ]
  },
  {
   "cell_type": "code",
   "execution_count": 28,
   "id": "22eb772c-55ff-4c63-bb97-ccfcedbcdaff",
   "metadata": {},
   "outputs": [],
   "source": [
    "dataset_get = pyjstat.Dataset.read(res_get)"
   ]
  },
  {
   "cell_type": "code",
   "execution_count": 29,
   "id": "246af07e-0a13-4e34-a142-f33928daa11d",
   "metadata": {},
   "outputs": [],
   "source": [
    "# dataset_get"
   ]
  },
  {
   "cell_type": "code",
   "execution_count": 30,
   "id": "131d45fa-9b21-4976-ac2f-3934749cb669",
   "metadata": {},
   "outputs": [],
   "source": [
    "df_get = dataset_get.write('dataframe')"
   ]
  },
  {
   "cell_type": "code",
   "execution_count": 31,
   "id": "f0b1672e-49cd-46ee-9904-0320b2cc742c",
   "metadata": {},
   "outputs": [
    {
     "data": {
      "text/html": [
       "<div>\n",
       "<style scoped>\n",
       "    .dataframe tbody tr th:only-of-type {\n",
       "        vertical-align: middle;\n",
       "    }\n",
       "\n",
       "    .dataframe tbody tr th {\n",
       "        vertical-align: top;\n",
       "    }\n",
       "\n",
       "    .dataframe thead th {\n",
       "        text-align: right;\n",
       "    }\n",
       "</style>\n",
       "<table border=\"1\" class=\"dataframe\">\n",
       "  <thead>\n",
       "    <tr style=\"text-align: right;\">\n",
       "      <th></th>\n",
       "      <th>varegruppe</th>\n",
       "      <th>uke</th>\n",
       "      <th>statistikkvariabel</th>\n",
       "      <th>value</th>\n",
       "    </tr>\n",
       "  </thead>\n",
       "  <tbody>\n",
       "    <tr>\n",
       "      <th>0</th>\n",
       "      <td>Fersk oppalen laks</td>\n",
       "      <td>2025U12</td>\n",
       "      <td>Vekt (tonn)</td>\n",
       "      <td>18172.00</td>\n",
       "    </tr>\n",
       "    <tr>\n",
       "      <th>1</th>\n",
       "      <td>Fersk oppalen laks</td>\n",
       "      <td>2025U12</td>\n",
       "      <td>Kilopris (kr)</td>\n",
       "      <td>89.09</td>\n",
       "    </tr>\n",
       "    <tr>\n",
       "      <th>2</th>\n",
       "      <td>Frosen oppalen laks</td>\n",
       "      <td>2025U12</td>\n",
       "      <td>Vekt (tonn)</td>\n",
       "      <td>473.00</td>\n",
       "    </tr>\n",
       "    <tr>\n",
       "      <th>3</th>\n",
       "      <td>Frosen oppalen laks</td>\n",
       "      <td>2025U12</td>\n",
       "      <td>Kilopris (kr)</td>\n",
       "      <td>95.18</td>\n",
       "    </tr>\n",
       "  </tbody>\n",
       "</table>\n",
       "</div>"
      ],
      "text/plain": [
       "            varegruppe      uke statistikkvariabel     value\n",
       "0   Fersk oppalen laks  2025U12        Vekt (tonn)  18172.00\n",
       "1   Fersk oppalen laks  2025U12      Kilopris (kr)     89.09\n",
       "2  Frosen oppalen laks  2025U12        Vekt (tonn)    473.00\n",
       "3  Frosen oppalen laks  2025U12      Kilopris (kr)     95.18"
      ]
     },
     "execution_count": 31,
     "metadata": {},
     "output_type": "execute_result"
    }
   ],
   "source": [
    "df_get"
   ]
  },
  {
   "cell_type": "markdown",
   "id": "a9d22967-8e3e-4d72-a7ca-54cd47f41b20",
   "metadata": {},
   "source": [
    "Vi kan også bruke get-url med parametre: fersk laks, vekt, pris i 2025\n",
    "\n",
    "`&valueCodes[VareGrupper2]=01&valueCodes[ContentsCode]=Vekt,Kilopris&valueCodes[Tid]=2025*`"
   ]
  },
  {
   "cell_type": "code",
   "execution_count": 32,
   "id": "a9b3846c-6fe8-42d7-a1a9-417406d36e16",
   "metadata": {},
   "outputs": [],
   "source": [
    "GET_URL = 'https://data.ssb.no/api/pxwebapi/v2-beta/tables/03024/data?lang=no&valueCodes[VareGrupper2]=01&valueCodes[ContentsCode]=Vekt,Kilopris&valueCodes[Tid]=2025*'"
   ]
  },
  {
   "cell_type": "code",
   "execution_count": 33,
   "id": "2b21f8ea-3a87-4872-902d-3151139cee9e",
   "metadata": {},
   "outputs": [],
   "source": [
    "resultat_get1 = requests.get(GET_URL)"
   ]
  },
  {
   "cell_type": "code",
   "execution_count": 34,
   "id": "9e5c87fe-a6fb-46c6-98b5-6a6160585a32",
   "metadata": {},
   "outputs": [],
   "source": [
    "dataset1_get = pyjstat.Dataset.read(resultat_get1.text)"
   ]
  },
  {
   "cell_type": "code",
   "execution_count": 35,
   "id": "49a98526-8255-4bcf-87bf-54230bbde464",
   "metadata": {},
   "outputs": [],
   "source": [
    "df1 = dataset1_get.write('dataframe')"
   ]
  },
  {
   "cell_type": "code",
   "execution_count": 36,
   "id": "37f153a8-dd54-43db-9eb8-b852dcdef421",
   "metadata": {},
   "outputs": [
    {
     "data": {
      "text/html": [
       "<div>\n",
       "<style scoped>\n",
       "    .dataframe tbody tr th:only-of-type {\n",
       "        vertical-align: middle;\n",
       "    }\n",
       "\n",
       "    .dataframe tbody tr th {\n",
       "        vertical-align: top;\n",
       "    }\n",
       "\n",
       "    .dataframe thead th {\n",
       "        text-align: right;\n",
       "    }\n",
       "</style>\n",
       "<table border=\"1\" class=\"dataframe\">\n",
       "  <thead>\n",
       "    <tr style=\"text-align: right;\">\n",
       "      <th></th>\n",
       "      <th>varegruppe</th>\n",
       "      <th>statistikkvariabel</th>\n",
       "      <th>uke</th>\n",
       "      <th>value</th>\n",
       "    </tr>\n",
       "  </thead>\n",
       "  <tbody>\n",
       "    <tr>\n",
       "      <th>22</th>\n",
       "      <td>Fersk oppalen laks</td>\n",
       "      <td>Kilopris (kr)</td>\n",
       "      <td>2025U11</td>\n",
       "      <td>88.64</td>\n",
       "    </tr>\n",
       "    <tr>\n",
       "      <th>23</th>\n",
       "      <td>Fersk oppalen laks</td>\n",
       "      <td>Kilopris (kr)</td>\n",
       "      <td>2025U12</td>\n",
       "      <td>89.09</td>\n",
       "    </tr>\n",
       "  </tbody>\n",
       "</table>\n",
       "</div>"
      ],
      "text/plain": [
       "            varegruppe statistikkvariabel      uke  value\n",
       "22  Fersk oppalen laks      Kilopris (kr)  2025U11  88.64\n",
       "23  Fersk oppalen laks      Kilopris (kr)  2025U12  89.09"
      ]
     },
     "execution_count": 36,
     "metadata": {},
     "output_type": "execute_result"
    }
   ],
   "source": [
    "df1.tail(2)"
   ]
  },
  {
   "cell_type": "markdown",
   "id": "9a633a3a-5414-4786-b8e2-590f7fb35bd7",
   "metadata": {},
   "source": [
    "### Nytt i API2. Parametre for styring av CSV-output.\n",
    "Dette er samme som POST spørringen, men med utformat CSV. \n",
    "\n",
    "Output her er semikolonseparert, med både kode og tekst. Statistikkvariabel i hode, rekkefølge på kolonner er Varegruppe2 og Tid\n",
    "\n",
    "`outputformat = csv`\n",
    "\n",
    "`outputformatparams = separatorsemicolon, usecodesandtexts`\n",
    "\n",
    "`heading = ContentsCode`\n",
    "\n",
    "`stub = VareGrupper2, Tid`"
   ]
  },
  {
   "cell_type": "code",
   "execution_count": 37,
   "id": "a27bc2aa-3020-4496-94ef-1a4be99668ef",
   "metadata": {},
   "outputs": [],
   "source": [
    "CSV_URL = 'https://data.ssb.no/api/pxwebapi/v2-beta/tables/03024/data?lang=no&outputformat=csv&outputformatparams=separatorsemicolon,usecodesandtexts&heading=ContentsCode&stub=VareGrupper2,Tid&valuecodes[ContentsCode]=Vekt,Kilopris&valuecodes[Varegrupper2]=01,02&valuecodes[Tid]=2025*'"
   ]
  },
  {
   "cell_type": "markdown",
   "id": "5e653b18-a2a9-420a-9abc-f0c5a26853b2",
   "metadata": {},
   "source": [
    "Det er også mulig å angi URL med CSV direkte til Pandas og få en dataframe. "
   ]
  },
  {
   "cell_type": "code",
   "execution_count": 38,
   "id": "42436b9d-038b-4961-ae5a-3938caefdb05",
   "metadata": {},
   "outputs": [],
   "source": [
    "df = pd.read_csv(CSV_URL, delimiter = ';')"
   ]
  },
  {
   "cell_type": "code",
   "execution_count": 39,
   "id": "eab1ef52-6794-4eaf-bd44-80564e1d3cf5",
   "metadata": {},
   "outputs": [
    {
     "data": {
      "text/html": [
       "<div>\n",
       "<style scoped>\n",
       "    .dataframe tbody tr th:only-of-type {\n",
       "        vertical-align: middle;\n",
       "    }\n",
       "\n",
       "    .dataframe tbody tr th {\n",
       "        vertical-align: top;\n",
       "    }\n",
       "\n",
       "    .dataframe thead th {\n",
       "        text-align: right;\n",
       "    }\n",
       "</style>\n",
       "<table border=\"1\" class=\"dataframe\">\n",
       "  <thead>\n",
       "    <tr style=\"text-align: right;\">\n",
       "      <th></th>\n",
       "      <th>VareGrupper2 - varegruppe</th>\n",
       "      <th>Tid - uke</th>\n",
       "      <th>Vekt - Vekt (tonn)</th>\n",
       "      <th>Kilopris - Kilopris (kr)</th>\n",
       "    </tr>\n",
       "  </thead>\n",
       "  <tbody>\n",
       "    <tr>\n",
       "      <th>0</th>\n",
       "      <td>01 - Fersk oppalen laks</td>\n",
       "      <td>2025U01 - 2025U01</td>\n",
       "      <td>11364</td>\n",
       "      <td>125.36</td>\n",
       "    </tr>\n",
       "    <tr>\n",
       "      <th>1</th>\n",
       "      <td>01 - Fersk oppalen laks</td>\n",
       "      <td>2025U02 - 2025U02</td>\n",
       "      <td>15939</td>\n",
       "      <td>117.77</td>\n",
       "    </tr>\n",
       "    <tr>\n",
       "      <th>2</th>\n",
       "      <td>01 - Fersk oppalen laks</td>\n",
       "      <td>2025U03 - 2025U03</td>\n",
       "      <td>17325</td>\n",
       "      <td>105.08</td>\n",
       "    </tr>\n",
       "    <tr>\n",
       "      <th>3</th>\n",
       "      <td>01 - Fersk oppalen laks</td>\n",
       "      <td>2025U04 - 2025U04</td>\n",
       "      <td>15564</td>\n",
       "      <td>98.43</td>\n",
       "    </tr>\n",
       "    <tr>\n",
       "      <th>4</th>\n",
       "      <td>01 - Fersk oppalen laks</td>\n",
       "      <td>2025U05 - 2025U05</td>\n",
       "      <td>16370</td>\n",
       "      <td>94.49</td>\n",
       "    </tr>\n",
       "    <tr>\n",
       "      <th>5</th>\n",
       "      <td>01 - Fersk oppalen laks</td>\n",
       "      <td>2025U06 - 2025U06</td>\n",
       "      <td>15184</td>\n",
       "      <td>92.18</td>\n",
       "    </tr>\n",
       "    <tr>\n",
       "      <th>6</th>\n",
       "      <td>01 - Fersk oppalen laks</td>\n",
       "      <td>2025U07 - 2025U07</td>\n",
       "      <td>15966</td>\n",
       "      <td>93.23</td>\n",
       "    </tr>\n",
       "    <tr>\n",
       "      <th>7</th>\n",
       "      <td>01 - Fersk oppalen laks</td>\n",
       "      <td>2025U08 - 2025U08</td>\n",
       "      <td>15536</td>\n",
       "      <td>92.97</td>\n",
       "    </tr>\n",
       "  </tbody>\n",
       "</table>\n",
       "</div>"
      ],
      "text/plain": [
       "  VareGrupper2 - varegruppe          Tid - uke  Vekt - Vekt (tonn)  \\\n",
       "0   01 - Fersk oppalen laks  2025U01 - 2025U01               11364   \n",
       "1   01 - Fersk oppalen laks  2025U02 - 2025U02               15939   \n",
       "2   01 - Fersk oppalen laks  2025U03 - 2025U03               17325   \n",
       "3   01 - Fersk oppalen laks  2025U04 - 2025U04               15564   \n",
       "4   01 - Fersk oppalen laks  2025U05 - 2025U05               16370   \n",
       "5   01 - Fersk oppalen laks  2025U06 - 2025U06               15184   \n",
       "6   01 - Fersk oppalen laks  2025U07 - 2025U07               15966   \n",
       "7   01 - Fersk oppalen laks  2025U08 - 2025U08               15536   \n",
       "\n",
       "   Kilopris - Kilopris (kr)  \n",
       "0                    125.36  \n",
       "1                    117.77  \n",
       "2                    105.08  \n",
       "3                     98.43  \n",
       "4                     94.49  \n",
       "5                     92.18  \n",
       "6                     93.23  \n",
       "7                     92.97  "
      ]
     },
     "execution_count": 39,
     "metadata": {},
     "output_type": "execute_result"
    }
   ],
   "source": [
    "df.head(8)"
   ]
  },
  {
   "cell_type": "markdown",
   "id": "6ba616f6-5913-4865-b0da-1f8724591ac8",
   "metadata": {},
   "source": [
    "Det samme, men mye mer omstendelig om en ikke bruker URL direkte"
   ]
  },
  {
   "cell_type": "code",
   "execution_count": 40,
   "id": "6a8fd470-03c4-417a-8abe-4a0b2dd2ad22",
   "metadata": {},
   "outputs": [],
   "source": [
    "resultat_csv = requests.get(CSV_URL)"
   ]
  },
  {
   "cell_type": "code",
   "execution_count": 41,
   "id": "3decc325-a4b8-45fd-807d-bd6c0e56ef13",
   "metadata": {
    "jupyter": {
     "source_hidden": true
    }
   },
   "outputs": [
    {
     "data": {
      "text/plain": [
       "<Response [200]>"
      ]
     },
     "execution_count": 41,
     "metadata": {},
     "output_type": "execute_result"
    }
   ],
   "source": [
    "resultat_csv"
   ]
  },
  {
   "cell_type": "code",
   "execution_count": 42,
   "id": "1f133c4f-7cb7-4091-acae-2de7ae1fbecd",
   "metadata": {},
   "outputs": [],
   "source": [
    "r_csv = resultat_csv.text"
   ]
  },
  {
   "cell_type": "code",
   "execution_count": 43,
   "id": "ad88324f-241f-49b7-ba36-312940584425",
   "metadata": {},
   "outputs": [
    {
     "data": {
      "text/plain": [
       "'\"VareGrupper2 - varegruppe\";\"Tid - uke\";\"Vekt - Vekt (tonn)\";\"Kilopris - Kilopris (kr)\"\\r\\n\"01 - Fersk oppalen laks\";\"2025U01 - 2025U01\";11364;125.36\\r\\n\"01 - Fersk oppalen laks\";\"2025U02 - 2025U02\";15939;117.77\\r\\n\"01 - Fersk oppalen laks\";\"2025U03 - 2025U03\";17325;105.08\\r\\n\"01 - Fersk oppalen laks\";\"2025U04 - 2025U04\";15564;98.43\\r\\n\"01 - Fersk oppalen laks\";\"2025U05 - 2025U05\";16370;94.49\\r\\n\"01 - Fersk oppalen laks\";\"2025U06 - 2025U06\";15184;92.18\\r\\n\"01 - Fersk oppalen laks\";\"2025U07 - 2025U07\";15966;93.23\\r\\n\"01 - Fersk oppalen laks\";\"2025U08 - 2025U08\";15536;92.97\\r\\n\"01 - Fersk oppalen laks\";\"2025U09 - 2025U09\";18067;92.67\\r\\n\"01 - Fersk oppalen laks\";\"2025U10 - 2025U10\";17116;87.00\\r\\n\"01 - Fersk oppalen laks\";\"2025U11 - 2025U11\";17467;88.64\\r\\n\"01 - Fersk oppalen laks\";\"2025U12 - 2025U12\";18172;89.09\\r\\n\"02 - Frosen oppalen laks\";\"2025U01 - 2025U01\";255;84.19\\r\\n\"02 - Frosen oppalen laks\";\"2025U02 - 2025U02\";393;90.27\\r\\n\"02 - Frosen oppalen laks\";\"2025U03 - 2025U03\";645;84.59\\r\\n\"02 - Frosen oppalen laks\";\"2025U04 - 2025U04\";738;88.27\\r\\n\"02 - Frosen oppalen laks\";\"2025U05 - 2025U05\";510;96.78\\r\\n\"02 - Frosen oppalen laks\";\"2025U06 - 2025U06\";706;92.27\\r\\n\"02 - Frosen oppalen laks\";\"2025U07 - 2025U07\";740;86.96\\r\\n\"02 - Frosen oppalen laks\";\"2025U08 - 2025U08\";544;82.23\\r\\n\"02 - Frosen oppalen laks\";\"2025U09 - 2025U09\";520;79.50\\r\\n\"02 - Frosen oppalen laks\";\"2025U10 - 2025U10\";538;93.43\\r\\n\"02 - Frosen oppalen laks\";\"2025U11 - 2025U11\";368;76.23\\r\\n\"02 - Frosen oppalen laks\";\"2025U12 - 2025U12\";473;95.18\\r\\n'"
      ]
     },
     "execution_count": 43,
     "metadata": {},
     "output_type": "execute_result"
    }
   ],
   "source": [
    "r_csv"
   ]
  },
  {
   "cell_type": "code",
   "execution_count": 44,
   "id": "f00572f2-82f4-4545-a4d9-fe6e7666923f",
   "metadata": {},
   "outputs": [],
   "source": [
    "import io\n",
    "df1 = pd.read_csv(io.StringIO(r_csv), delimiter = ';')"
   ]
  },
  {
   "cell_type": "code",
   "execution_count": 45,
   "id": "9264f0c9-0c41-42c0-b6fa-e2da143dc119",
   "metadata": {},
   "outputs": [
    {
     "data": {
      "text/html": [
       "<div>\n",
       "<style scoped>\n",
       "    .dataframe tbody tr th:only-of-type {\n",
       "        vertical-align: middle;\n",
       "    }\n",
       "\n",
       "    .dataframe tbody tr th {\n",
       "        vertical-align: top;\n",
       "    }\n",
       "\n",
       "    .dataframe thead th {\n",
       "        text-align: right;\n",
       "    }\n",
       "</style>\n",
       "<table border=\"1\" class=\"dataframe\">\n",
       "  <thead>\n",
       "    <tr style=\"text-align: right;\">\n",
       "      <th></th>\n",
       "      <th>VareGrupper2 - varegruppe</th>\n",
       "      <th>Tid - uke</th>\n",
       "      <th>Vekt - Vekt (tonn)</th>\n",
       "      <th>Kilopris - Kilopris (kr)</th>\n",
       "    </tr>\n",
       "  </thead>\n",
       "  <tbody>\n",
       "    <tr>\n",
       "      <th>16</th>\n",
       "      <td>02 - Frosen oppalen laks</td>\n",
       "      <td>2025U05 - 2025U05</td>\n",
       "      <td>510</td>\n",
       "      <td>96.78</td>\n",
       "    </tr>\n",
       "    <tr>\n",
       "      <th>17</th>\n",
       "      <td>02 - Frosen oppalen laks</td>\n",
       "      <td>2025U06 - 2025U06</td>\n",
       "      <td>706</td>\n",
       "      <td>92.27</td>\n",
       "    </tr>\n",
       "    <tr>\n",
       "      <th>18</th>\n",
       "      <td>02 - Frosen oppalen laks</td>\n",
       "      <td>2025U07 - 2025U07</td>\n",
       "      <td>740</td>\n",
       "      <td>86.96</td>\n",
       "    </tr>\n",
       "    <tr>\n",
       "      <th>19</th>\n",
       "      <td>02 - Frosen oppalen laks</td>\n",
       "      <td>2025U08 - 2025U08</td>\n",
       "      <td>544</td>\n",
       "      <td>82.23</td>\n",
       "    </tr>\n",
       "    <tr>\n",
       "      <th>20</th>\n",
       "      <td>02 - Frosen oppalen laks</td>\n",
       "      <td>2025U09 - 2025U09</td>\n",
       "      <td>520</td>\n",
       "      <td>79.50</td>\n",
       "    </tr>\n",
       "    <tr>\n",
       "      <th>21</th>\n",
       "      <td>02 - Frosen oppalen laks</td>\n",
       "      <td>2025U10 - 2025U10</td>\n",
       "      <td>538</td>\n",
       "      <td>93.43</td>\n",
       "    </tr>\n",
       "    <tr>\n",
       "      <th>22</th>\n",
       "      <td>02 - Frosen oppalen laks</td>\n",
       "      <td>2025U11 - 2025U11</td>\n",
       "      <td>368</td>\n",
       "      <td>76.23</td>\n",
       "    </tr>\n",
       "    <tr>\n",
       "      <th>23</th>\n",
       "      <td>02 - Frosen oppalen laks</td>\n",
       "      <td>2025U12 - 2025U12</td>\n",
       "      <td>473</td>\n",
       "      <td>95.18</td>\n",
       "    </tr>\n",
       "  </tbody>\n",
       "</table>\n",
       "</div>"
      ],
      "text/plain": [
       "   VareGrupper2 - varegruppe          Tid - uke  Vekt - Vekt (tonn)  \\\n",
       "16  02 - Frosen oppalen laks  2025U05 - 2025U05                 510   \n",
       "17  02 - Frosen oppalen laks  2025U06 - 2025U06                 706   \n",
       "18  02 - Frosen oppalen laks  2025U07 - 2025U07                 740   \n",
       "19  02 - Frosen oppalen laks  2025U08 - 2025U08                 544   \n",
       "20  02 - Frosen oppalen laks  2025U09 - 2025U09                 520   \n",
       "21  02 - Frosen oppalen laks  2025U10 - 2025U10                 538   \n",
       "22  02 - Frosen oppalen laks  2025U11 - 2025U11                 368   \n",
       "23  02 - Frosen oppalen laks  2025U12 - 2025U12                 473   \n",
       "\n",
       "    Kilopris - Kilopris (kr)  \n",
       "16                     96.78  \n",
       "17                     92.27  \n",
       "18                     86.96  \n",
       "19                     82.23  \n",
       "20                     79.50  \n",
       "21                     93.43  \n",
       "22                     76.23  \n",
       "23                     95.18  "
      ]
     },
     "execution_count": 45,
     "metadata": {},
     "output_type": "execute_result"
    }
   ],
   "source": [
    "df1.tail(8)"
   ]
  },
  {
   "cell_type": "code",
   "execution_count": null,
   "id": "9cff3980-2683-43f6-aae3-8cb94a2b0531",
   "metadata": {},
   "outputs": [],
   "source": []
  }
 ],
 "metadata": {
  "kernelspec": {
   "display_name": "Python 3 (ipykernel)",
   "language": "python",
   "name": "python3"
  },
  "language_info": {
   "codemirror_mode": {
    "name": "ipython",
    "version": 3
   },
   "file_extension": ".py",
   "mimetype": "text/x-python",
   "name": "python",
   "nbconvert_exporter": "python",
   "pygments_lexer": "ipython3",
   "version": "3.12.3"
  }
 },
 "nbformat": 4,
 "nbformat_minor": 5
}
