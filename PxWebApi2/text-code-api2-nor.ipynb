{
 "cells": [
  {
   "cell_type": "markdown",
   "metadata": {},
   "source": [
    "# Spørring som både gir tekst(navn) og kode(ID) fra JSON-stat\n",
    "### eksempel HS-koder utenrikshandel"
   ]
  },
  {
   "cell_type": "markdown",
   "metadata": {},
   "source": [
    "### Importerer biblioteker\n",
    "Bruker [pyjstat](https://pypi.org/project/pyjstat/) og pandas. "
   ]
  },
  {
   "cell_type": "code",
   "execution_count": 1,
   "metadata": {},
   "outputs": [],
   "source": [
    "from pyjstat import pyjstat  \n",
    "import pandas as pd  # Pandas lastes forsåvidt som del av pyjstat\n",
    "import requests"
   ]
  },
  {
   "cell_type": "markdown",
   "metadata": {},
   "source": [
    "Import / eksport alle varekoder til US siste måned, ca. 65000 celler. Max grense for en spørring i PxWebApi er 800.000 celler, inkl tomme celler."
   ]
  },
  {
   "cell_type": "markdown",
   "metadata": {},
   "source": [
    "### URL med tabellens metadata"
   ]
  },
  {
   "cell_type": "markdown",
   "metadata": {},
   "source": [
    "GET_URL = https://data.ssb.no/api/pxwebapi/v2/tables/08801/data?lang=no&valueCodes[Varekoder]=*&valueCodes[ImpEks]=1,2&valueCodes[ContentsCode]=Mengde1,Verdi,Mengde2&valueCodes[Tid]=2024&codelist[Varekoder]=vs_VareKoderKN8Siff&codelist[Land]=vs_LandKoderAlf1\n",
    "\n",
    "JSON-stat2 er default ut-format. En kan også legge på andre med `&outputFormat=` som csv eller xlsx. \n",
    "\n",
    "Det er greit å være klar over at URLer APIet *ikke* er følsomt for store og små bokstaver.\n",
    "\n",
    "Viser de enkelte elementene. codelist elementene er i de fleste tilfellene overflødige/redundante og kan tas vekk. \n"
   ]
  },
  {
   "cell_type": "code",
   "execution_count": 2,
   "metadata": {},
   "outputs": [],
   "source": [
    "# De enkelte elementene i spørringen\n",
    "\n",
    "tabid = \"08799\" # kan endres til årstabellen 08801, uten andre endringer\n",
    "lang = \"lang=no\" # language code can also be \"en\"\n",
    "get_stem = \"https://data.ssb.no/api/pxwebapi/v2/tables/\" + tabid + \"/data?\" + lang   # 'https://data.ssb.no/api/v0/no/table/08799'\n",
    "get_query = \"&valueCodes[Varekoder]=*\\\n",
    "&valueCodes[ImpEks]=1,2\\\n",
    "&valueCodes[Land]=US\\\n",
    "&valueCodes[ContentsCode]=Mengde1,Verdi,Mengde2\\\n",
    "&valueCodes[Tid]=top(1)\""
   ]
  },
  {
   "cell_type": "markdown",
   "metadata": {},
   "source": [
    "Spørring, kan tas fra konsoll: Import / eksport alle varekoder til US siste måned, ca. 65000 celler. Max grense for en spørring i PxWebApi er 800.000 celler, inkl tomme celler"
   ]
  },
  {
   "cell_type": "code",
   "execution_count": 3,
   "metadata": {},
   "outputs": [],
   "source": [
    "GET_URL = get_stem + get_query "
   ]
  },
  {
   "cell_type": "raw",
   "metadata": {},
   "source": [
    "### Kjører spørringen"
   ]
  },
  {
   "cell_type": "code",
   "execution_count": 4,
   "metadata": {},
   "outputs": [],
   "source": [
    "res = requests.get(GET_URL)"
   ]
  },
  {
   "cell_type": "markdown",
   "metadata": {},
   "source": [
    "http kode 200 er OK"
   ]
  },
  {
   "cell_type": "code",
   "execution_count": 5,
   "metadata": {},
   "outputs": [
    {
     "data": {
      "text/plain": [
       "<Response [200]>"
      ]
     },
     "execution_count": 5,
     "metadata": {},
     "output_type": "execute_result"
    }
   ],
   "source": [
    "res"
   ]
  },
  {
   "cell_type": "markdown",
   "metadata": {},
   "source": [
    "### Leser JSON-stat resultatet med biblioteket pyjstat\n",
    "Lagrer det som datasett ds."
   ]
  },
  {
   "cell_type": "code",
   "execution_count": 6,
   "metadata": {},
   "outputs": [],
   "source": [
    "ds = pyjstat.Dataset.read(res.text)"
   ]
  },
  {
   "cell_type": "code",
   "execution_count": 7,
   "metadata": {},
   "outputs": [
    {
     "data": {
      "text/plain": [
       "pyjstat.pyjstat.Dataset"
      ]
     },
     "execution_count": 7,
     "metadata": {},
     "output_type": "execute_result"
    }
   ],
   "source": [
    "type(ds)"
   ]
  },
  {
   "cell_type": "markdown",
   "metadata": {},
   "source": [
    "Se datasettet ds"
   ]
  },
  {
   "cell_type": "code",
   "execution_count": 8,
   "metadata": {},
   "outputs": [],
   "source": [
    "# ds"
   ]
  },
  {
   "cell_type": "markdown",
   "metadata": {},
   "source": [
    "### Henter noen overordnete metadata fra JSON-stat datasettet"
   ]
  },
  {
   "cell_type": "code",
   "execution_count": 9,
   "metadata": {},
   "outputs": [
    {
     "name": "stdout",
     "output_type": "stream",
     "text": [
      "08799: Utenrikshandel med varer, etter varenummer, import/eksport, land, statistikkvariabel og måned\n"
     ]
    }
   ],
   "source": [
    "tittel = ds['label']\n",
    "print(tittel)"
   ]
  },
  {
   "cell_type": "markdown",
   "metadata": {},
   "source": [
    "Sist Oppdatert som GMT"
   ]
  },
  {
   "cell_type": "code",
   "execution_count": 10,
   "metadata": {},
   "outputs": [
    {
     "name": "stdout",
     "output_type": "stream",
     "text": [
      "2025-10-15T06:00:00Z\n"
     ]
    }
   ],
   "source": [
    "last_update = ds['updated']\n",
    "print(last_update)"
   ]
  },
  {
   "cell_type": "markdown",
   "metadata": {},
   "source": [
    "Henter kilde"
   ]
  },
  {
   "cell_type": "code",
   "execution_count": 11,
   "metadata": {},
   "outputs": [
    {
     "name": "stdout",
     "output_type": "stream",
     "text": [
      "Statistisk sentralbyrå\n"
     ]
    }
   ],
   "source": [
    "source = ds['source']\n",
    "print(source)"
   ]
  },
  {
   "cell_type": "markdown",
   "metadata": {},
   "source": [
    "Roles gir noen snarveier til IDene på faste dimensjoner i datasettet"
   ]
  },
  {
   "cell_type": "code",
   "execution_count": 12,
   "metadata": {},
   "outputs": [
    {
     "name": "stdout",
     "output_type": "stream",
     "text": [
      "OrderedDict({'time': ['Tid'], 'geo': ['Land'], 'metric': ['ContentsCode']})\n"
     ]
    }
   ],
   "source": [
    "ds_roles = ds['role']\n",
    "print(ds_roles)"
   ]
  },
  {
   "cell_type": "markdown",
   "metadata": {},
   "source": [
    "### Lager dataframes\n",
    "Vi må lage to dataframes, en med tekst og en med ID. Pyjstat tillater bare enten/eller"
   ]
  },
  {
   "cell_type": "code",
   "execution_count": 13,
   "metadata": {},
   "outputs": [],
   "source": [
    "hstrade = ds.write('dataframe')\n",
    "hstrade_id = ds.write('dataframe', naming='id')"
   ]
  },
  {
   "cell_type": "code",
   "execution_count": 14,
   "metadata": {},
   "outputs": [
    {
     "data": {
      "text/html": [
       "<div>\n",
       "<style scoped>\n",
       "    .dataframe tbody tr th:only-of-type {\n",
       "        vertical-align: middle;\n",
       "    }\n",
       "\n",
       "    .dataframe tbody tr th {\n",
       "        vertical-align: top;\n",
       "    }\n",
       "\n",
       "    .dataframe thead th {\n",
       "        text-align: right;\n",
       "    }\n",
       "</style>\n",
       "<table border=\"1\" class=\"dataframe\">\n",
       "  <thead>\n",
       "    <tr style=\"text-align: right;\">\n",
       "      <th></th>\n",
       "      <th>varenummer</th>\n",
       "      <th>import/eksport</th>\n",
       "      <th>land</th>\n",
       "      <th>statistikkvariabel</th>\n",
       "      <th>måned</th>\n",
       "      <th>value</th>\n",
       "    </tr>\n",
       "  </thead>\n",
       "  <tbody>\n",
       "    <tr>\n",
       "      <th>0</th>\n",
       "      <td>Uspesifiserte varer, tollbare (1988-2003) (M1=...</td>\n",
       "      <td>Import</td>\n",
       "      <td>USA</td>\n",
       "      <td>Mengde 1 (M1)</td>\n",
       "      <td>2025M09</td>\n",
       "      <td>0</td>\n",
       "    </tr>\n",
       "    <tr>\n",
       "      <th>1</th>\n",
       "      <td>Uspesifiserte varer, tollbare (1988-2003) (M1=...</td>\n",
       "      <td>Import</td>\n",
       "      <td>USA</td>\n",
       "      <td>Verdi (kr)</td>\n",
       "      <td>2025M09</td>\n",
       "      <td>0</td>\n",
       "    </tr>\n",
       "    <tr>\n",
       "      <th>2</th>\n",
       "      <td>Uspesifiserte varer, tollbare (1988-2003) (M1=...</td>\n",
       "      <td>Import</td>\n",
       "      <td>USA</td>\n",
       "      <td>Mengde 2 (M2)</td>\n",
       "      <td>2025M09</td>\n",
       "      <td>0</td>\n",
       "    </tr>\n",
       "    <tr>\n",
       "      <th>3</th>\n",
       "      <td>Uspesifiserte varer, tollbare (1988-2003) (M1=...</td>\n",
       "      <td>Eksport</td>\n",
       "      <td>USA</td>\n",
       "      <td>Mengde 1 (M1)</td>\n",
       "      <td>2025M09</td>\n",
       "      <td>0</td>\n",
       "    </tr>\n",
       "    <tr>\n",
       "      <th>4</th>\n",
       "      <td>Uspesifiserte varer, tollbare (1988-2003) (M1=...</td>\n",
       "      <td>Eksport</td>\n",
       "      <td>USA</td>\n",
       "      <td>Verdi (kr)</td>\n",
       "      <td>2025M09</td>\n",
       "      <td>0</td>\n",
       "    </tr>\n",
       "  </tbody>\n",
       "</table>\n",
       "</div>"
      ],
      "text/plain": [
       "                                          varenummer import/eksport land  \\\n",
       "0  Uspesifiserte varer, tollbare (1988-2003) (M1=...         Import  USA   \n",
       "1  Uspesifiserte varer, tollbare (1988-2003) (M1=...         Import  USA   \n",
       "2  Uspesifiserte varer, tollbare (1988-2003) (M1=...         Import  USA   \n",
       "3  Uspesifiserte varer, tollbare (1988-2003) (M1=...        Eksport  USA   \n",
       "4  Uspesifiserte varer, tollbare (1988-2003) (M1=...        Eksport  USA   \n",
       "\n",
       "  statistikkvariabel    måned  value  \n",
       "0      Mengde 1 (M1)  2025M09      0  \n",
       "1         Verdi (kr)  2025M09      0  \n",
       "2      Mengde 2 (M2)  2025M09      0  \n",
       "3      Mengde 1 (M1)  2025M09      0  \n",
       "4         Verdi (kr)  2025M09      0  "
      ]
     },
     "execution_count": 14,
     "metadata": {},
     "output_type": "execute_result"
    }
   ],
   "source": [
    "hstrade.head()"
   ]
  },
  {
   "cell_type": "code",
   "execution_count": 15,
   "metadata": {},
   "outputs": [
    {
     "data": {
      "text/html": [
       "<div>\n",
       "<style scoped>\n",
       "    .dataframe tbody tr th:only-of-type {\n",
       "        vertical-align: middle;\n",
       "    }\n",
       "\n",
       "    .dataframe tbody tr th {\n",
       "        vertical-align: top;\n",
       "    }\n",
       "\n",
       "    .dataframe thead th {\n",
       "        text-align: right;\n",
       "    }\n",
       "</style>\n",
       "<table border=\"1\" class=\"dataframe\">\n",
       "  <thead>\n",
       "    <tr style=\"text-align: right;\">\n",
       "      <th></th>\n",
       "      <th>Varekoder</th>\n",
       "      <th>ImpEks</th>\n",
       "      <th>Land</th>\n",
       "      <th>ContentsCode</th>\n",
       "      <th>Tid</th>\n",
       "      <th>value</th>\n",
       "    </tr>\n",
       "  </thead>\n",
       "  <tbody>\n",
       "    <tr>\n",
       "      <th>0</th>\n",
       "      <td>00000011_1988</td>\n",
       "      <td>1</td>\n",
       "      <td>US</td>\n",
       "      <td>Mengde1</td>\n",
       "      <td>2025M09</td>\n",
       "      <td>0</td>\n",
       "    </tr>\n",
       "    <tr>\n",
       "      <th>1</th>\n",
       "      <td>00000011_1988</td>\n",
       "      <td>1</td>\n",
       "      <td>US</td>\n",
       "      <td>Verdi</td>\n",
       "      <td>2025M09</td>\n",
       "      <td>0</td>\n",
       "    </tr>\n",
       "    <tr>\n",
       "      <th>2</th>\n",
       "      <td>00000011_1988</td>\n",
       "      <td>1</td>\n",
       "      <td>US</td>\n",
       "      <td>Mengde2</td>\n",
       "      <td>2025M09</td>\n",
       "      <td>0</td>\n",
       "    </tr>\n",
       "    <tr>\n",
       "      <th>3</th>\n",
       "      <td>00000011_1988</td>\n",
       "      <td>2</td>\n",
       "      <td>US</td>\n",
       "      <td>Mengde1</td>\n",
       "      <td>2025M09</td>\n",
       "      <td>0</td>\n",
       "    </tr>\n",
       "    <tr>\n",
       "      <th>4</th>\n",
       "      <td>00000011_1988</td>\n",
       "      <td>2</td>\n",
       "      <td>US</td>\n",
       "      <td>Verdi</td>\n",
       "      <td>2025M09</td>\n",
       "      <td>0</td>\n",
       "    </tr>\n",
       "  </tbody>\n",
       "</table>\n",
       "</div>"
      ],
      "text/plain": [
       "       Varekoder ImpEks Land ContentsCode      Tid  value\n",
       "0  00000011_1988      1   US      Mengde1  2025M09      0\n",
       "1  00000011_1988      1   US        Verdi  2025M09      0\n",
       "2  00000011_1988      1   US      Mengde2  2025M09      0\n",
       "3  00000011_1988      2   US      Mengde1  2025M09      0\n",
       "4  00000011_1988      2   US        Verdi  2025M09      0"
      ]
     },
     "execution_count": 15,
     "metadata": {},
     "output_type": "execute_result"
    }
   ],
   "source": [
    "hstrade_id.head()"
   ]
  },
  {
   "cell_type": "markdown",
   "metadata": {},
   "source": [
    "### Lager en ny kolonne med både HS varekode og tekst slått sammen"
   ]
  },
  {
   "cell_type": "code",
   "execution_count": 16,
   "metadata": {},
   "outputs": [],
   "source": [
    "hstrade['hstrade_combi'] = hstrade_id['Varekoder'] + ' ' + hstrade['varenummer']"
   ]
  },
  {
   "cell_type": "code",
   "execution_count": 17,
   "metadata": {},
   "outputs": [
    {
     "data": {
      "text/plain": [
       "Index(['varenummer', 'import/eksport', 'land', 'statistikkvariabel', 'måned',\n",
       "       'value', 'hstrade_combi'],\n",
       "      dtype='object')"
      ]
     },
     "execution_count": 17,
     "metadata": {},
     "output_type": "execute_result"
    }
   ],
   "source": [
    "hstrade.columns"
   ]
  },
  {
   "cell_type": "markdown",
   "metadata": {},
   "source": [
    "### Lager en ny dataframe som bare har med kolonnene vi ønsker, i ny rekkefølge. \n",
    "Merk doble [[ ]] for å lage dataframe"
   ]
  },
  {
   "cell_type": "code",
   "execution_count": 18,
   "metadata": {},
   "outputs": [],
   "source": [
    "hstrade_new = hstrade[['hstrade_combi', 'import/eksport', 'land', 'statistikkvariabel', 'måned',\n",
    "       'value']]"
   ]
  },
  {
   "cell_type": "code",
   "execution_count": 19,
   "metadata": {},
   "outputs": [
    {
     "data": {
      "text/html": [
       "<div>\n",
       "<style scoped>\n",
       "    .dataframe tbody tr th:only-of-type {\n",
       "        vertical-align: middle;\n",
       "    }\n",
       "\n",
       "    .dataframe tbody tr th {\n",
       "        vertical-align: top;\n",
       "    }\n",
       "\n",
       "    .dataframe thead th {\n",
       "        text-align: right;\n",
       "    }\n",
       "</style>\n",
       "<table border=\"1\" class=\"dataframe\">\n",
       "  <thead>\n",
       "    <tr style=\"text-align: right;\">\n",
       "      <th></th>\n",
       "      <th>hstrade_combi</th>\n",
       "      <th>import/eksport</th>\n",
       "      <th>land</th>\n",
       "      <th>statistikkvariabel</th>\n",
       "      <th>måned</th>\n",
       "      <th>value</th>\n",
       "    </tr>\n",
       "  </thead>\n",
       "  <tbody>\n",
       "    <tr>\n",
       "      <th>80408</th>\n",
       "      <td>99603000_2023 VOEC-forsendelser, varer med ver...</td>\n",
       "      <td>Import</td>\n",
       "      <td>USA</td>\n",
       "      <td>Mengde 2 (M2)</td>\n",
       "      <td>2025M09</td>\n",
       "      <td>0</td>\n",
       "    </tr>\n",
       "    <tr>\n",
       "      <th>80409</th>\n",
       "      <td>99603000_2023 VOEC-forsendelser, varer med ver...</td>\n",
       "      <td>Eksport</td>\n",
       "      <td>USA</td>\n",
       "      <td>Mengde 1 (M1)</td>\n",
       "      <td>2025M09</td>\n",
       "      <td>0</td>\n",
       "    </tr>\n",
       "    <tr>\n",
       "      <th>80410</th>\n",
       "      <td>99603000_2023 VOEC-forsendelser, varer med ver...</td>\n",
       "      <td>Eksport</td>\n",
       "      <td>USA</td>\n",
       "      <td>Verdi (kr)</td>\n",
       "      <td>2025M09</td>\n",
       "      <td>0</td>\n",
       "    </tr>\n",
       "    <tr>\n",
       "      <th>80411</th>\n",
       "      <td>99603000_2023 VOEC-forsendelser, varer med ver...</td>\n",
       "      <td>Eksport</td>\n",
       "      <td>USA</td>\n",
       "      <td>Mengde 2 (M2)</td>\n",
       "      <td>2025M09</td>\n",
       "      <td>0</td>\n",
       "    </tr>\n",
       "    <tr>\n",
       "      <th>80412</th>\n",
       "      <td>99999999_1988 Sum alle varenumre med restriksj...</td>\n",
       "      <td>Import</td>\n",
       "      <td>USA</td>\n",
       "      <td>Mengde 1 (M1)</td>\n",
       "      <td>2025M09</td>\n",
       "      <td>8592609</td>\n",
       "    </tr>\n",
       "    <tr>\n",
       "      <th>80413</th>\n",
       "      <td>99999999_1988 Sum alle varenumre med restriksj...</td>\n",
       "      <td>Import</td>\n",
       "      <td>USA</td>\n",
       "      <td>Verdi (kr)</td>\n",
       "      <td>2025M09</td>\n",
       "      <td>34056104</td>\n",
       "    </tr>\n",
       "    <tr>\n",
       "      <th>80414</th>\n",
       "      <td>99999999_1988 Sum alle varenumre med restriksj...</td>\n",
       "      <td>Import</td>\n",
       "      <td>USA</td>\n",
       "      <td>Mengde 2 (M2)</td>\n",
       "      <td>2025M09</td>\n",
       "      <td>0</td>\n",
       "    </tr>\n",
       "    <tr>\n",
       "      <th>80415</th>\n",
       "      <td>99999999_1988 Sum alle varenumre med restriksj...</td>\n",
       "      <td>Eksport</td>\n",
       "      <td>USA</td>\n",
       "      <td>Mengde 1 (M1)</td>\n",
       "      <td>2025M09</td>\n",
       "      <td>68405885</td>\n",
       "    </tr>\n",
       "    <tr>\n",
       "      <th>80416</th>\n",
       "      <td>99999999_1988 Sum alle varenumre med restriksj...</td>\n",
       "      <td>Eksport</td>\n",
       "      <td>USA</td>\n",
       "      <td>Verdi (kr)</td>\n",
       "      <td>2025M09</td>\n",
       "      <td>482185095</td>\n",
       "    </tr>\n",
       "    <tr>\n",
       "      <th>80417</th>\n",
       "      <td>99999999_1988 Sum alle varenumre med restriksj...</td>\n",
       "      <td>Eksport</td>\n",
       "      <td>USA</td>\n",
       "      <td>Mengde 2 (M2)</td>\n",
       "      <td>2025M09</td>\n",
       "      <td>0</td>\n",
       "    </tr>\n",
       "  </tbody>\n",
       "</table>\n",
       "</div>"
      ],
      "text/plain": [
       "                                           hstrade_combi import/eksport land  \\\n",
       "80408  99603000_2023 VOEC-forsendelser, varer med ver...         Import  USA   \n",
       "80409  99603000_2023 VOEC-forsendelser, varer med ver...        Eksport  USA   \n",
       "80410  99603000_2023 VOEC-forsendelser, varer med ver...        Eksport  USA   \n",
       "80411  99603000_2023 VOEC-forsendelser, varer med ver...        Eksport  USA   \n",
       "80412  99999999_1988 Sum alle varenumre med restriksj...         Import  USA   \n",
       "80413  99999999_1988 Sum alle varenumre med restriksj...         Import  USA   \n",
       "80414  99999999_1988 Sum alle varenumre med restriksj...         Import  USA   \n",
       "80415  99999999_1988 Sum alle varenumre med restriksj...        Eksport  USA   \n",
       "80416  99999999_1988 Sum alle varenumre med restriksj...        Eksport  USA   \n",
       "80417  99999999_1988 Sum alle varenumre med restriksj...        Eksport  USA   \n",
       "\n",
       "      statistikkvariabel    måned      value  \n",
       "80408      Mengde 2 (M2)  2025M09          0  \n",
       "80409      Mengde 1 (M1)  2025M09          0  \n",
       "80410         Verdi (kr)  2025M09          0  \n",
       "80411      Mengde 2 (M2)  2025M09          0  \n",
       "80412      Mengde 1 (M1)  2025M09    8592609  \n",
       "80413         Verdi (kr)  2025M09   34056104  \n",
       "80414      Mengde 2 (M2)  2025M09          0  \n",
       "80415      Mengde 1 (M1)  2025M09   68405885  \n",
       "80416         Verdi (kr)  2025M09  482185095  \n",
       "80417      Mengde 2 (M2)  2025M09          0  "
      ]
     },
     "execution_count": 19,
     "metadata": {},
     "output_type": "execute_result"
    }
   ],
   "source": [
    "hstrade_new.tail(10)"
   ]
  },
  {
   "cell_type": "markdown",
   "metadata": {},
   "source": [
    "Endrer kolonne bredde. "
   ]
  },
  {
   "cell_type": "code",
   "execution_count": 21,
   "metadata": {},
   "outputs": [],
   "source": [
    "pd.set_option('display.max_colwidth',140)"
   ]
  },
  {
   "cell_type": "code",
   "execution_count": 22,
   "metadata": {},
   "outputs": [
    {
     "data": {
      "text/html": [
       "<div>\n",
       "<style scoped>\n",
       "    .dataframe tbody tr th:only-of-type {\n",
       "        vertical-align: middle;\n",
       "    }\n",
       "\n",
       "    .dataframe tbody tr th {\n",
       "        vertical-align: top;\n",
       "    }\n",
       "\n",
       "    .dataframe thead th {\n",
       "        text-align: right;\n",
       "    }\n",
       "</style>\n",
       "<table border=\"1\" class=\"dataframe\">\n",
       "  <thead>\n",
       "    <tr style=\"text-align: right;\">\n",
       "      <th></th>\n",
       "      <th>hstrade_combi</th>\n",
       "      <th>import/eksport</th>\n",
       "      <th>land</th>\n",
       "      <th>statistikkvariabel</th>\n",
       "      <th>måned</th>\n",
       "      <th>value</th>\n",
       "    </tr>\n",
       "  </thead>\n",
       "  <tbody>\n",
       "    <tr>\n",
       "      <th>80408</th>\n",
       "      <td>99603000_2023 VOEC-forsendelser, varer med verdi under 3 000 kr, privatpersoner (2023-) (M1=kg,  M2=nei)</td>\n",
       "      <td>Import</td>\n",
       "      <td>USA</td>\n",
       "      <td>Mengde 2 (M2)</td>\n",
       "      <td>2025M09</td>\n",
       "      <td>0</td>\n",
       "    </tr>\n",
       "    <tr>\n",
       "      <th>80409</th>\n",
       "      <td>99603000_2023 VOEC-forsendelser, varer med verdi under 3 000 kr, privatpersoner (2023-) (M1=kg,  M2=nei)</td>\n",
       "      <td>Eksport</td>\n",
       "      <td>USA</td>\n",
       "      <td>Mengde 1 (M1)</td>\n",
       "      <td>2025M09</td>\n",
       "      <td>0</td>\n",
       "    </tr>\n",
       "    <tr>\n",
       "      <th>80410</th>\n",
       "      <td>99603000_2023 VOEC-forsendelser, varer med verdi under 3 000 kr, privatpersoner (2023-) (M1=kg,  M2=nei)</td>\n",
       "      <td>Eksport</td>\n",
       "      <td>USA</td>\n",
       "      <td>Verdi (kr)</td>\n",
       "      <td>2025M09</td>\n",
       "      <td>0</td>\n",
       "    </tr>\n",
       "    <tr>\n",
       "      <th>80411</th>\n",
       "      <td>99603000_2023 VOEC-forsendelser, varer med verdi under 3 000 kr, privatpersoner (2023-) (M1=kg,  M2=nei)</td>\n",
       "      <td>Eksport</td>\n",
       "      <td>USA</td>\n",
       "      <td>Mengde 2 (M2)</td>\n",
       "      <td>2025M09</td>\n",
       "      <td>0</td>\n",
       "    </tr>\n",
       "    <tr>\n",
       "      <th>80412</th>\n",
       "      <td>99999999_1988 Sum alle varenumre med restriksjoner ved publisering (1988-) (M1=kg,  M2=nei)</td>\n",
       "      <td>Import</td>\n",
       "      <td>USA</td>\n",
       "      <td>Mengde 1 (M1)</td>\n",
       "      <td>2025M09</td>\n",
       "      <td>8592609</td>\n",
       "    </tr>\n",
       "    <tr>\n",
       "      <th>80413</th>\n",
       "      <td>99999999_1988 Sum alle varenumre med restriksjoner ved publisering (1988-) (M1=kg,  M2=nei)</td>\n",
       "      <td>Import</td>\n",
       "      <td>USA</td>\n",
       "      <td>Verdi (kr)</td>\n",
       "      <td>2025M09</td>\n",
       "      <td>34056104</td>\n",
       "    </tr>\n",
       "    <tr>\n",
       "      <th>80414</th>\n",
       "      <td>99999999_1988 Sum alle varenumre med restriksjoner ved publisering (1988-) (M1=kg,  M2=nei)</td>\n",
       "      <td>Import</td>\n",
       "      <td>USA</td>\n",
       "      <td>Mengde 2 (M2)</td>\n",
       "      <td>2025M09</td>\n",
       "      <td>0</td>\n",
       "    </tr>\n",
       "    <tr>\n",
       "      <th>80415</th>\n",
       "      <td>99999999_1988 Sum alle varenumre med restriksjoner ved publisering (1988-) (M1=kg,  M2=nei)</td>\n",
       "      <td>Eksport</td>\n",
       "      <td>USA</td>\n",
       "      <td>Mengde 1 (M1)</td>\n",
       "      <td>2025M09</td>\n",
       "      <td>68405885</td>\n",
       "    </tr>\n",
       "    <tr>\n",
       "      <th>80416</th>\n",
       "      <td>99999999_1988 Sum alle varenumre med restriksjoner ved publisering (1988-) (M1=kg,  M2=nei)</td>\n",
       "      <td>Eksport</td>\n",
       "      <td>USA</td>\n",
       "      <td>Verdi (kr)</td>\n",
       "      <td>2025M09</td>\n",
       "      <td>482185095</td>\n",
       "    </tr>\n",
       "    <tr>\n",
       "      <th>80417</th>\n",
       "      <td>99999999_1988 Sum alle varenumre med restriksjoner ved publisering (1988-) (M1=kg,  M2=nei)</td>\n",
       "      <td>Eksport</td>\n",
       "      <td>USA</td>\n",
       "      <td>Mengde 2 (M2)</td>\n",
       "      <td>2025M09</td>\n",
       "      <td>0</td>\n",
       "    </tr>\n",
       "  </tbody>\n",
       "</table>\n",
       "</div>"
      ],
      "text/plain": [
       "                                                                                                  hstrade_combi  \\\n",
       "80408  99603000_2023 VOEC-forsendelser, varer med verdi under 3 000 kr, privatpersoner (2023-) (M1=kg,  M2=nei)   \n",
       "80409  99603000_2023 VOEC-forsendelser, varer med verdi under 3 000 kr, privatpersoner (2023-) (M1=kg,  M2=nei)   \n",
       "80410  99603000_2023 VOEC-forsendelser, varer med verdi under 3 000 kr, privatpersoner (2023-) (M1=kg,  M2=nei)   \n",
       "80411  99603000_2023 VOEC-forsendelser, varer med verdi under 3 000 kr, privatpersoner (2023-) (M1=kg,  M2=nei)   \n",
       "80412               99999999_1988 Sum alle varenumre med restriksjoner ved publisering (1988-) (M1=kg,  M2=nei)   \n",
       "80413               99999999_1988 Sum alle varenumre med restriksjoner ved publisering (1988-) (M1=kg,  M2=nei)   \n",
       "80414               99999999_1988 Sum alle varenumre med restriksjoner ved publisering (1988-) (M1=kg,  M2=nei)   \n",
       "80415               99999999_1988 Sum alle varenumre med restriksjoner ved publisering (1988-) (M1=kg,  M2=nei)   \n",
       "80416               99999999_1988 Sum alle varenumre med restriksjoner ved publisering (1988-) (M1=kg,  M2=nei)   \n",
       "80417               99999999_1988 Sum alle varenumre med restriksjoner ved publisering (1988-) (M1=kg,  M2=nei)   \n",
       "\n",
       "      import/eksport land statistikkvariabel    måned      value  \n",
       "80408         Import  USA      Mengde 2 (M2)  2025M09          0  \n",
       "80409        Eksport  USA      Mengde 1 (M1)  2025M09          0  \n",
       "80410        Eksport  USA         Verdi (kr)  2025M09          0  \n",
       "80411        Eksport  USA      Mengde 2 (M2)  2025M09          0  \n",
       "80412         Import  USA      Mengde 1 (M1)  2025M09    8592609  \n",
       "80413         Import  USA         Verdi (kr)  2025M09   34056104  \n",
       "80414         Import  USA      Mengde 2 (M2)  2025M09          0  \n",
       "80415        Eksport  USA      Mengde 1 (M1)  2025M09   68405885  \n",
       "80416        Eksport  USA         Verdi (kr)  2025M09  482185095  \n",
       "80417        Eksport  USA      Mengde 2 (M2)  2025M09          0  "
      ]
     },
     "execution_count": 22,
     "metadata": {},
     "output_type": "execute_result"
    }
   ],
   "source": [
    "hstrade_new.tail(10)"
   ]
  },
  {
   "cell_type": "code",
   "execution_count": null,
   "metadata": {},
   "outputs": [],
   "source": []
  }
 ],
 "metadata": {
  "kernelspec": {
   "display_name": "Python 3 (ipykernel)",
   "language": "python",
   "name": "python3"
  },
  "language_info": {
   "codemirror_mode": {
    "name": "ipython",
    "version": 3
   },
   "file_extension": ".py",
   "mimetype": "text/x-python",
   "name": "python",
   "nbconvert_exporter": "python",
   "pygments_lexer": "ipython3",
   "version": "3.12.3"
  }
 },
 "nbformat": 4,
 "nbformat_minor": 4
}
