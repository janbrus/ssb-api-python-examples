{
 "cells": [
  {
   "cell_type": "markdown",
   "id": "93466f4b-f560-4ed5-9489-e1ebc4dd20ff",
   "metadata": {},
   "source": [
    "# Example using dapla Statbank client"
   ]
  },
  {
   "cell_type": "markdown",
   "id": "32f6095e-c9e8-47ca-bc54-1085f7303009",
   "metadata": {},
   "source": [
    "The Dapla Statabank Client is made by Statistics Norway. It is mainly for internal users, but have a few functions which are useful also for external users.\n",
    "\n",
    "See: https://pypi.org/project/dapla-statbank-client/\n",
    "\n",
    "pip install dapla-statbank-client"
   ]
  },
  {
   "cell_type": "code",
   "execution_count": null,
   "id": "bd7146bd-e7e3-4f3b-9f97-dff62b26ecc5",
   "metadata": {},
   "outputs": [],
   "source": [
    "from statbank import apidata_all, apidata, apidata_rotate"
   ]
  },
  {
   "cell_type": "markdown",
   "id": "d9d1800e-b111-4deb-8d43-476fc4249390",
   "metadata": {},
   "source": [
    "_apidata_all_, does not need a specified query, it will build its own query, trying to get all the data from the table. This might exceed the limit of 800.000 cells, resulting in an error (429).\n",
    "\n",
    "To get tables in English, using apidata_all you have to give the full url. (For Norwegian you can give the TableId only.)\n",
    "\n",
    "We want the Economic trends for Norway dataset"
   ]
  },
  {
   "cell_type": "code",
   "execution_count": null,
   "id": "b9169e39-b386-4647-879f-39d9c7800cc5",
   "metadata": {},
   "outputs": [],
   "source": [
    "table_url = \"https://data.ssb.no/api/v0/en/table/12880/\""
   ]
  },
  {
   "cell_type": "markdown",
   "id": "e9421c0c-b1db-4001-815f-19e3723ac1b4",
   "metadata": {},
   "source": [
    "## Using apidata_all"
   ]
  },
  {
   "cell_type": "code",
   "execution_count": null,
   "id": "e4323d9a-873b-4cb1-bdd7-3a6c24242e10",
   "metadata": {},
   "outputs": [],
   "source": [
    "df_12880 = apidata_all(table_url)"
   ]
  },
  {
   "cell_type": "code",
   "execution_count": null,
   "id": "e44afa02-5ea7-4a46-9b38-9a4539bc1c01",
   "metadata": {},
   "outputs": [],
   "source": [
    "df_12880"
   ]
  },
  {
   "cell_type": "markdown",
   "id": "d978693a-7b72-4210-99f9-df298a1382e1",
   "metadata": {},
   "source": [
    "_apidata_rotate_ is a thin wrapper around pandas.pivot function"
   ]
  },
  {
   "cell_type": "code",
   "execution_count": null,
   "id": "6071e258-e885-4249-bc45-79f0b484ae2a",
   "metadata": {},
   "outputs": [],
   "source": [
    "df_12880_rotate = apidata_rotate(df_12880, \"contents\", \"value\")"
   ]
  },
  {
   "cell_type": "code",
   "execution_count": null,
   "id": "a6e931e6-5bec-43bf-989e-423d01f0a7c3",
   "metadata": {},
   "outputs": [],
   "source": [
    "df_12880_rotate"
   ]
  },
  {
   "cell_type": "markdown",
   "id": "5e6dd9a1-f380-446e-8c3b-91a02c8e37b8",
   "metadata": {},
   "source": [
    "In \"Economic Trends\" the last 4 years are forecasting. \n",
    "\n",
    "Identify last 4 columns."
   ]
  },
  {
   "cell_type": "code",
   "execution_count": null,
   "id": "b3e2f8b7-e29b-494e-923c-23b047faab39",
   "metadata": {},
   "outputs": [],
   "source": [
    "last_4_cols = df_12880_rotate.columns[-4:]"
   ]
  },
  {
   "cell_type": "markdown",
   "id": "8ff1a5f4-f892-4ff0-a2e1-3bd8ec788131",
   "metadata": {},
   "source": [
    "Set forecast font to blue. When styling I also have to explicit set the number of shown decimals."
   ]
  },
  {
   "cell_type": "code",
   "execution_count": null,
   "id": "45a0939f-ca1a-451e-b79a-ebcc322970a5",
   "metadata": {},
   "outputs": [],
   "source": [
    "styled_df_12880_rotate = df_12880_rotate.style.format(precision=1).set_properties(\n",
    "    subset=last_4_cols,\n",
    "    color='blue'\n",
    "    )\n",
    "    "
   ]
  },
  {
   "cell_type": "code",
   "execution_count": null,
   "id": "de8bea33-b8a5-48d9-88bb-6833f89d408d",
   "metadata": {
    "scrolled": true
   },
   "outputs": [],
   "source": [
    "styled_df_12880_rotate"
   ]
  },
  {
   "cell_type": "markdown",
   "id": "64094e04-f0f8-4061-8390-0d7e24e9bdeb",
   "metadata": {},
   "source": [
    "## Using apidata"
   ]
  },
  {
   "cell_type": "markdown",
   "id": "58971518-e570-4078-82ff-9baac022d15f",
   "metadata": {},
   "source": [
    "Using _apidata_ you can also specify a query. In this query I limit years to be the last 15 years using filter \"top\""
   ]
  },
  {
   "cell_type": "code",
   "execution_count": null,
   "id": "f15b4fa0-adb0-4754-9599-9b91148d2a87",
   "metadata": {},
   "outputs": [],
   "source": [
    "query = {\n",
    "  \"query\": [\n",
    "    {\n",
    "      \"code\": \"ContentsCode\",\n",
    "      \"selection\": {\n",
    "        \"filter\": \"all\",\n",
    "        \"values\": [\n",
    "          \"*\"\n",
    "        ]\n",
    "      }\n",
    "    },\n",
    "    {\n",
    "      \"code\": \"Tid\",\n",
    "      \"selection\": {\n",
    "        \"filter\": \"top\",\n",
    "        \"values\": [\n",
    "           \"15\"\n",
    "        ]\n",
    "      }\n",
    "    }\n",
    "  ]\n",
    "}"
   ]
  },
  {
   "cell_type": "code",
   "execution_count": null,
   "id": "38dfeced-e80a-4361-80e7-d05f0461e402",
   "metadata": {},
   "outputs": [],
   "source": [
    "df_12880_apidata = apidata(table_url, query)"
   ]
  },
  {
   "cell_type": "code",
   "execution_count": null,
   "id": "06368be1-7d64-486a-a980-3e8d1517cca7",
   "metadata": {},
   "outputs": [],
   "source": [
    "df_12880_apidata"
   ]
  },
  {
   "cell_type": "markdown",
   "id": "629c61a6-04f0-46e1-9b30-093d8e8b7a86",
   "metadata": {},
   "source": [
    "Pivot table"
   ]
  },
  {
   "cell_type": "code",
   "execution_count": null,
   "id": "8dc6aa0b-a17e-41a2-93ce-633df97a4937",
   "metadata": {},
   "outputs": [],
   "source": [
    "df_12880_apidata_rotate = apidata_rotate(df_12880_apidata, \"contents\", \"value\")"
   ]
  },
  {
   "cell_type": "markdown",
   "id": "85998408-625a-4ce0-9656-2831679a5065",
   "metadata": {},
   "source": [
    "Set forcatst til bold blue, left align table headings"
   ]
  },
  {
   "cell_type": "code",
   "execution_count": null,
   "id": "21f20f5e-ea66-4c2e-a644-761ff82006f9",
   "metadata": {},
   "outputs": [],
   "source": [
    "styled_df_12880_apidata_rotate = df_12880_apidata_rotate.style.format(precision=1).set_properties(\n",
    "    subset=last_4_cols,\n",
    "    **{'color': 'blue', 'font-weight': 'bold'} \n",
    ").set_table_styles([\n",
    "    {'selector': 'th.row_heading', 'props': [('text-align', 'left')]}\n",
    "])"
   ]
  },
  {
   "cell_type": "code",
   "execution_count": null,
   "id": "dfd13724-6e11-465a-8572-65c651c9b26c",
   "metadata": {},
   "outputs": [],
   "source": [
    "styled_df_12880_apidata_rotate"
   ]
  },
  {
   "cell_type": "code",
   "execution_count": null,
   "id": "ed2573e7-6bdb-49b0-81de-a372ec24b578",
   "metadata": {},
   "outputs": [],
   "source": [
    "from statbank import apimetadata, apicodelist"
   ]
  },
  {
   "cell_type": "code",
   "execution_count": null,
   "id": "79c31f34-ca2b-4548-b95a-ca654eebe6f5",
   "metadata": {},
   "outputs": [],
   "source": [
    "meta = apimetadata(table_url)"
   ]
  },
  {
   "cell_type": "code",
   "execution_count": null,
   "id": "7cf58906-1d5c-4c59-ba46-f202acc7ad04",
   "metadata": {},
   "outputs": [],
   "source": [
    "meta"
   ]
  },
  {
   "cell_type": "code",
   "execution_count": null,
   "id": "30c615b7-f47b-439a-9ded-779025f677cf",
   "metadata": {},
   "outputs": [],
   "source": [
    "all_codelists = apicodelist(table_url)"
   ]
  },
  {
   "cell_type": "code",
   "execution_count": null,
   "id": "6ed56ef9-03ef-4726-a94d-a3a9f7417143",
   "metadata": {},
   "outputs": [],
   "source": [
    "all_codelists"
   ]
  },
  {
   "cell_type": "code",
   "execution_count": null,
   "id": "a3545218-87f6-4e74-abd7-45f17af7e3a6",
   "metadata": {},
   "outputs": [],
   "source": [
    "contentscode_codelist = apicodelist(table_url, \"ContentsCode\")"
   ]
  },
  {
   "cell_type": "code",
   "execution_count": null,
   "id": "3cb55b43-f181-45a5-a7ee-d7f19b7ddb33",
   "metadata": {},
   "outputs": [],
   "source": [
    "contentscode_codelist"
   ]
  },
  {
   "cell_type": "markdown",
   "id": "ac54e529-cdc1-4be7-b84b-8705792e9dd5",
   "metadata": {},
   "source": [
    "The option _include_id=True_ returns both Code and Text"
   ]
  },
  {
   "cell_type": "code",
   "execution_count": null,
   "id": "250c1f81-612a-4f59-99cb-75ad361d9f71",
   "metadata": {},
   "outputs": [],
   "source": [
    "df_12880_apidata_id = apidata(table_url, query, include_id=True)"
   ]
  },
  {
   "cell_type": "code",
   "execution_count": null,
   "id": "e6af3119-b25b-4e7b-b66d-7e289f31511c",
   "metadata": {},
   "outputs": [],
   "source": [
    "df_12880_apidata_id"
   ]
  },
  {
   "cell_type": "code",
   "execution_count": null,
   "id": "d64f5e41-a993-4270-bf49-219351ad1f4b",
   "metadata": {},
   "outputs": [],
   "source": []
  }
 ],
 "metadata": {
  "kernelspec": {
   "display_name": "Python 3 (ipykernel)",
   "language": "python",
   "name": "python3"
  },
  "language_info": {
   "codemirror_mode": {
    "name": "ipython",
    "version": 3
   },
   "file_extension": ".py",
   "mimetype": "text/x-python",
   "name": "python",
   "nbconvert_exporter": "python",
   "pygments_lexer": "ipython3",
   "version": "3.12.3"
  }
 },
 "nbformat": 4,
 "nbformat_minor": 5
}
