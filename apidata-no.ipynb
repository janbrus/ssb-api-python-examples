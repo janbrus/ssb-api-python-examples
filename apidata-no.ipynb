{
 "cells": [
  {
   "cell_type": "markdown",
   "id": "93466f4b-f560-4ed5-9489-e1ebc4dd20ff",
   "metadata": {},
   "source": [
    "# Eksempel på bruk av API med Dapla Statbank-klient"
   ]
  },
  {
   "cell_type": "markdown",
   "id": "32f6095e-c9e8-47ca-bc54-1085f7303009",
   "metadata": {},
   "source": [
    "Dapla Statbank-klienten er laget av Statistisk sentralbyrå. Denne er hovedsakelig for interne brukere, men har noen funksjoner som gjør det enklere for eksterne brukere å hente data som JSON-stat2.\n",
    "\n",
    "Se: _https://pypi.org/project/dapla-statbank-client/_\n",
    "\n",
    "pip install dapla-statbank-client"
   ]
  },
  {
   "cell_type": "code",
   "execution_count": null,
   "id": "bd7146bd-e7e3-4f3b-9f97-dff62b26ecc5",
   "metadata": {},
   "outputs": [],
   "source": [
    "from statbank import apidata_all, apidata, apidata_rotate"
   ]
  },
  {
   "cell_type": "markdown",
   "id": "d9d1800e-b111-4deb-8d43-476fc4249390",
   "metadata": {},
   "source": [
    "_apidata_all_ trenger ikke en spesifisert spørring, den vil bygge sin egen spørring og prøve å hente alle data fra tabellen. Vær oppmerksom på at dette lett kan overskride grensen på 800.000 celler, inkl. tomme celler, og resulterer i en feil (429).\n",
    "\n",
    "For å få tabeller på engelsk ved bruk av apidata_all må du oppgi den fullstendige URL-en. \n",
    "\n",
    "Vi ønsker  Makroøkonomiske hoveedstørrelser for Norge fra Konjunkturtendensene, tabell 12880."
   ]
  },
  {
   "cell_type": "markdown",
   "id": "e9421c0c-b1db-4001-815f-19e3723ac1b4",
   "metadata": {},
   "source": [
    "## Bruk av apidata_all"
   ]
  },
  {
   "cell_type": "code",
   "execution_count": null,
   "id": "e4323d9a-873b-4cb1-bdd7-3a6c24242e10",
   "metadata": {},
   "outputs": [],
   "source": [
    "df_12880 = apidata_all(\"12880\")"
   ]
  },
  {
   "cell_type": "code",
   "execution_count": null,
   "id": "e44afa02-5ea7-4a46-9b38-9a4539bc1c01",
   "metadata": {},
   "outputs": [],
   "source": [
    "df_12880"
   ]
  },
  {
   "cell_type": "markdown",
   "id": "d978693a-7b72-4210-99f9-df298a1382e1",
   "metadata": {},
   "source": [
    "_apidata_rotate_ er en tynn wrapper rundt pandas.pivot-funksjonen"
   ]
  },
  {
   "cell_type": "code",
   "execution_count": null,
   "id": "6071e258-e885-4249-bc45-79f0b484ae2a",
   "metadata": {},
   "outputs": [],
   "source": [
    "df_12880_rotate = apidata_rotate(df_12880, \"statistikkvariabel\", \"value\")"
   ]
  },
  {
   "cell_type": "code",
   "execution_count": null,
   "id": "a6e931e6-5bec-43bf-989e-423d01f0a7c3",
   "metadata": {},
   "outputs": [],
   "source": [
    "df_12880_rotate"
   ]
  },
  {
   "cell_type": "markdown",
   "id": "5e6dd9a1-f380-446e-8c3b-91a02c8e37b8",
   "metadata": {},
   "source": [
    "I \"Konjunkturtendenser\" er de siste 4 årene prognoser.\n",
    "\n",
    "Identifiser de siste 4 kolonnene."
   ]
  },
  {
   "cell_type": "code",
   "execution_count": null,
   "id": "b3e2f8b7-e29b-494e-923c-23b047faab39",
   "metadata": {},
   "outputs": [],
   "source": [
    "last_4_cols = df_12880_rotate.columns[-4:]"
   ]
  },
  {
   "cell_type": "markdown",
   "id": "8ff1a5f4-f892-4ff0-a2e1-3bd8ec788131",
   "metadata": {},
   "source": [
    "Sett skriften på prognosene til blå. Ved \"styling\" må jeg også eksplisitt sette antall desimaler som vises."
   ]
  },
  {
   "cell_type": "code",
   "execution_count": null,
   "id": "45a0939f-ca1a-451e-b79a-ebcc322970a5",
   "metadata": {},
   "outputs": [],
   "source": [
    "styled_df_12880_rotate = df_12880_rotate.style.format(precision=1).set_properties(\n",
    "    subset=last_4_cols,\n",
    "    color='blue'\n",
    "    )\n",
    "    "
   ]
  },
  {
   "cell_type": "code",
   "execution_count": null,
   "id": "de8bea33-b8a5-48d9-88bb-6833f89d408d",
   "metadata": {
    "scrolled": true
   },
   "outputs": [],
   "source": [
    "styled_df_12880_rotate"
   ]
  },
  {
   "cell_type": "markdown",
   "id": "64094e04-f0f8-4061-8390-0d7e24e9bdeb",
   "metadata": {},
   "source": [
    "## Bruk av apidata"
   ]
  },
  {
   "cell_type": "markdown",
   "id": "58971518-e570-4078-82ff-9baac022d15f",
   "metadata": {},
   "source": [
    "I _apidata_ kan du også spesifisere en spørring. I denne spørringen begrenser jeg årene til å være de siste 15 årene ved å bruke filteret \"top\"."
   ]
  },
  {
   "cell_type": "code",
   "execution_count": null,
   "id": "f15b4fa0-adb0-4754-9599-9b91148d2a87",
   "metadata": {},
   "outputs": [],
   "source": [
    "query = {\n",
    "  \"query\": [\n",
    "    {\n",
    "      \"code\": \"ContentsCode\",\n",
    "      \"selection\": {\n",
    "        \"filter\": \"all\",\n",
    "        \"values\": [\n",
    "          \"*\"\n",
    "        ]\n",
    "      }\n",
    "    },\n",
    "    {\n",
    "      \"code\": \"Tid\",\n",
    "      \"selection\": {\n",
    "        \"filter\": \"top\",\n",
    "        \"values\": [\n",
    "           \"15\"\n",
    "        ]\n",
    "      }\n",
    "    }\n",
    "  ]\n",
    "}"
   ]
  },
  {
   "cell_type": "code",
   "execution_count": null,
   "id": "38dfeced-e80a-4361-80e7-d05f0461e402",
   "metadata": {},
   "outputs": [],
   "source": [
    "df_12880_apidata = apidata(\"12880\", query)"
   ]
  },
  {
   "cell_type": "code",
   "execution_count": null,
   "id": "06368be1-7d64-486a-a980-3e8d1517cca7",
   "metadata": {},
   "outputs": [],
   "source": [
    "df_12880_apidata"
   ]
  },
  {
   "cell_type": "markdown",
   "id": "629c61a6-04f0-46e1-9b30-093d8e8b7a86",
   "metadata": {},
   "source": [
    "Pivot-tabell"
   ]
  },
  {
   "cell_type": "code",
   "execution_count": null,
   "id": "8dc6aa0b-a17e-41a2-93ce-633df97a4937",
   "metadata": {},
   "outputs": [],
   "source": [
    "df_12880_apidata_rotate = apidata_rotate(df_12880_apidata, \"statistikkvariabel\", \"value\")"
   ]
  },
  {
   "cell_type": "markdown",
   "id": "85998408-625a-4ce0-9656-2831679a5065",
   "metadata": {},
   "source": [
    "Sett prognoser til fet blå og venstrejuster tabellhodene"
   ]
  },
  {
   "cell_type": "code",
   "execution_count": null,
   "id": "21f20f5e-ea66-4c2e-a644-761ff82006f9",
   "metadata": {},
   "outputs": [],
   "source": [
    "styled_df_12880_apidata_rotate = df_12880_apidata_rotate.style.format(precision=1).set_properties(\n",
    "    subset=last_4_cols,\n",
    "    **{'color': 'blue', 'font-weight': 'bold'} \n",
    ").set_table_styles([\n",
    "    {'selector': 'th.row_heading', 'props': [('text-align', 'left')]}\n",
    "])"
   ]
  },
  {
   "cell_type": "code",
   "execution_count": null,
   "id": "dfd13724-6e11-465a-8572-65c651c9b26c",
   "metadata": {},
   "outputs": [],
   "source": [
    "styled_df_12880_apidata_rotate"
   ]
  },
  {
   "cell_type": "markdown",
   "id": "7f1fbd23-5845-4cd7-b858-077e70d46239",
   "metadata": {},
   "source": [
    "### Table metdadata"
   ]
  },
  {
   "cell_type": "code",
   "execution_count": null,
   "id": "23d6e75e-1db5-4ed8-9f0a-07ada6052e02",
   "metadata": {},
   "outputs": [],
   "source": [
    "from statbank import apimetadata, apicodelist\n"
   ]
  },
  {
   "cell_type": "code",
   "execution_count": null,
   "id": "45cee8f8-e4c7-420f-bc6b-1d45beb6f5ea",
   "metadata": {},
   "outputs": [],
   "source": [
    "meta = apimetadata(\"12880\")"
   ]
  },
  {
   "cell_type": "code",
   "execution_count": null,
   "id": "7879b77b-e3c0-45a2-8c7f-bc5b79ab1d85",
   "metadata": {},
   "outputs": [],
   "source": [
    "meta"
   ]
  },
  {
   "cell_type": "code",
   "execution_count": null,
   "id": "88377838-6410-4ca5-8c28-079a356cd68c",
   "metadata": {},
   "outputs": [],
   "source": [
    "all_codelists = apicodelist(\"12880\")"
   ]
  },
  {
   "cell_type": "code",
   "execution_count": null,
   "id": "ff1a67a2-f4ee-45f9-99e5-73338e6ee5e7",
   "metadata": {},
   "outputs": [],
   "source": [
    "all_codelists"
   ]
  },
  {
   "cell_type": "code",
   "execution_count": null,
   "id": "53ba817c-c5fe-4957-8d25-c5ed8b85a922",
   "metadata": {},
   "outputs": [],
   "source": [
    "contentscode_codelist = apicodelist(\"12880\", \"ContentsCode\")"
   ]
  },
  {
   "cell_type": "code",
   "execution_count": null,
   "id": "b26adee1-eab9-4797-ab29-d83c94f4e54a",
   "metadata": {},
   "outputs": [],
   "source": [
    "contentscode_codelist"
   ]
  },
  {
   "cell_type": "markdown",
   "id": "6c63bf1a-2a15-48b3-b1a8-754f2476f588",
   "metadata": {},
   "source": [
    "Opsjonen _include_id=True_ returnerer både kode og tekst"
   ]
  },
  {
   "cell_type": "code",
   "execution_count": null,
   "id": "cc205bc7-9ef3-404b-b1cd-65680795cab6",
   "metadata": {},
   "outputs": [],
   "source": [
    "df_12880_apidata_id = apidata(\"12880\", query, include_id=True)"
   ]
  },
  {
   "cell_type": "code",
   "execution_count": null,
   "id": "fa9abbe0-7872-4a9c-bc23-9d3eb2a369cb",
   "metadata": {},
   "outputs": [],
   "source": [
    "df_12880_apidata_id"
   ]
  },
  {
   "cell_type": "code",
   "execution_count": null,
   "id": "84ed9cf5-f66d-467b-8d8d-cb62289b33a4",
   "metadata": {},
   "outputs": [],
   "source": []
  }
 ],
 "metadata": {
  "kernelspec": {
   "display_name": "Python 3 (ipykernel)",
   "language": "python",
   "name": "python3"
  },
  "language_info": {
   "codemirror_mode": {
    "name": "ipython",
    "version": 3
   },
   "file_extension": ".py",
   "mimetype": "text/x-python",
   "name": "python",
   "nbconvert_exporter": "python",
   "pygments_lexer": "ipython3",
   "version": "3.12.3"
  }
 },
 "nbformat": 4,
 "nbformat_minor": 5
}
