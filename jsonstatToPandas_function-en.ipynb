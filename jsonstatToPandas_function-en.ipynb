{
 "cells": [
  {
   "cell_type": "markdown",
   "id": "b7f4a4d0",
   "metadata": {
    "tags": []
   },
   "source": [
    "# JSON-stat to Pandas dataframe - using a function"
   ]
  },
  {
   "cell_type": "code",
   "execution_count": 1,
   "id": "ab548250",
   "metadata": {},
   "outputs": [],
   "source": [
    "import json\n",
    "import pandas as pd\n",
    "import requests\n",
    "# pyjstat is the package to read JSON-stat, 'pip install pyjstat' \n",
    "from pyjstat import pyjstat"
   ]
  },
  {
   "cell_type": "markdown",
   "id": "6776c68f",
   "metadata": {},
   "source": [
    "## Alternative 1, Paste POST Url og JSON query"
   ]
  },
  {
   "cell_type": "code",
   "execution_count": 2,
   "id": "b8302d4f",
   "metadata": {},
   "outputs": [],
   "source": [
    "# Paste PostUrl where you you want the query posted\n",
    "postUrl = \"https://data.ssb.no/api/v0/en/table/07459/\"\n",
    "# E.g. \n",
    "#postUrl = \"https://data.ssb.no/api/v0/en/table/07459/\""
   ]
  },
  {
   "cell_type": "code",
   "execution_count": 3,
   "id": "1a2725d6",
   "metadata": {},
   "outputs": [],
   "source": [
    "# You get Query and endpoint to API-et from Statbank or API console. \n",
    "# apiQuery = # Paste your query here\n",
    "\n",
    "# Example using minimalist query.\n",
    "# Minimalist query like this is not recommended, unless you understand the principles on elimination in StatBank. \n",
    "\n",
    "apiQuery = {\n",
    "      \"query\": [\n",
    "      ],\n",
    "      \"response\": {\n",
    "        \"format\": \"json-stat2\"\n",
    "      }\n",
    "    }"
   ]
  },
  {
   "cell_type": "code",
   "execution_count": 4,
   "id": "4be925ca",
   "metadata": {},
   "outputs": [],
   "source": [
    "# Function to convert the extraction into 2 dataframes, takes 2 parameters\n",
    "\n",
    "def apiToDataframe(postUrl, query):\n",
    "\n",
    "\t# postUrl PostUrl where you you want the query posted\n",
    "\tres = requests.post(postUrl, json=query)\n",
    "\t# put the result in variable ds. Here you also have some metadata\n",
    "\tds = pyjstat.Dataset.read(res.text)\n",
    "\t# write resultatet to 2 dataframes\n",
    "    # first dataframe with text\n",
    "\tdf = ds.write('dataframe')\n",
    "    # next dataframe with codes\n",
    "\tdf_id = ds.write('dataframe', naming='id')\n",
    "    # returner also ds if one need metadata\n",
    "\treturn df, df_id, ds\n"
   ]
  },
  {
   "cell_type": "markdown",
   "id": "ebaa53a6",
   "metadata": {},
   "source": [
    "Output from apiToDataframe goes into three variables"
   ]
  },
  {
   "cell_type": "code",
   "execution_count": 5,
   "id": "743003d0",
   "metadata": {},
   "outputs": [],
   "source": [
    "df, df_id, ds = apiToDataframe(postUrl, apiQuery)"
   ]
  },
  {
   "cell_type": "markdown",
   "id": "fde625cc",
   "metadata": {},
   "source": [
    "Show dataframe with text. (Total Population Norway 1986- )"
   ]
  },
  {
   "cell_type": "code",
   "execution_count": 6,
   "id": "931d5bf1",
   "metadata": {},
   "outputs": [
    {
     "data": {
      "text/html": [
       "<div>\n",
       "<style scoped>\n",
       "    .dataframe tbody tr th:only-of-type {\n",
       "        vertical-align: middle;\n",
       "    }\n",
       "\n",
       "    .dataframe tbody tr th {\n",
       "        vertical-align: top;\n",
       "    }\n",
       "\n",
       "    .dataframe thead th {\n",
       "        text-align: right;\n",
       "    }\n",
       "</style>\n",
       "<table border=\"1\" class=\"dataframe\">\n",
       "  <thead>\n",
       "    <tr style=\"text-align: right;\">\n",
       "      <th></th>\n",
       "      <th>contents</th>\n",
       "      <th>year</th>\n",
       "      <th>value</th>\n",
       "    </tr>\n",
       "  </thead>\n",
       "  <tbody>\n",
       "    <tr>\n",
       "      <th>0</th>\n",
       "      <td>Persons</td>\n",
       "      <td>1986</td>\n",
       "      <td>4159187</td>\n",
       "    </tr>\n",
       "    <tr>\n",
       "      <th>1</th>\n",
       "      <td>Persons</td>\n",
       "      <td>1987</td>\n",
       "      <td>4175521</td>\n",
       "    </tr>\n",
       "    <tr>\n",
       "      <th>2</th>\n",
       "      <td>Persons</td>\n",
       "      <td>1988</td>\n",
       "      <td>4198289</td>\n",
       "    </tr>\n",
       "    <tr>\n",
       "      <th>3</th>\n",
       "      <td>Persons</td>\n",
       "      <td>1989</td>\n",
       "      <td>4220686</td>\n",
       "    </tr>\n",
       "  </tbody>\n",
       "</table>\n",
       "</div>"
      ],
      "text/plain": [
       "  contents  year    value\n",
       "0  Persons  1986  4159187\n",
       "1  Persons  1987  4175521\n",
       "2  Persons  1988  4198289\n",
       "3  Persons  1989  4220686"
      ]
     },
     "execution_count": 6,
     "metadata": {},
     "output_type": "execute_result"
    }
   ],
   "source": [
    "df.head(4)"
   ]
  },
  {
   "cell_type": "code",
   "execution_count": 7,
   "id": "e0238e84-6aad-4a2b-bb3f-0f76f4a28a49",
   "metadata": {},
   "outputs": [
    {
     "data": {
      "text/html": [
       "<div>\n",
       "<style scoped>\n",
       "    .dataframe tbody tr th:only-of-type {\n",
       "        vertical-align: middle;\n",
       "    }\n",
       "\n",
       "    .dataframe tbody tr th {\n",
       "        vertical-align: top;\n",
       "    }\n",
       "\n",
       "    .dataframe thead th {\n",
       "        text-align: right;\n",
       "    }\n",
       "</style>\n",
       "<table border=\"1\" class=\"dataframe\">\n",
       "  <thead>\n",
       "    <tr style=\"text-align: right;\">\n",
       "      <th></th>\n",
       "      <th>contents</th>\n",
       "      <th>year</th>\n",
       "      <th>value</th>\n",
       "    </tr>\n",
       "  </thead>\n",
       "  <tbody>\n",
       "    <tr>\n",
       "      <th>38</th>\n",
       "      <td>Persons</td>\n",
       "      <td>2024</td>\n",
       "      <td>5550203</td>\n",
       "    </tr>\n",
       "    <tr>\n",
       "      <th>39</th>\n",
       "      <td>Persons</td>\n",
       "      <td>2025</td>\n",
       "      <td>5594340</td>\n",
       "    </tr>\n",
       "  </tbody>\n",
       "</table>\n",
       "</div>"
      ],
      "text/plain": [
       "   contents  year    value\n",
       "38  Persons  2024  5550203\n",
       "39  Persons  2025  5594340"
      ]
     },
     "execution_count": 7,
     "metadata": {},
     "output_type": "execute_result"
    }
   ],
   "source": [
    "df.tail(2)"
   ]
  },
  {
   "cell_type": "markdown",
   "id": "d551a105",
   "metadata": {},
   "source": [
    "Dataframe with codes"
   ]
  },
  {
   "cell_type": "code",
   "execution_count": 8,
   "id": "38a72dea",
   "metadata": {},
   "outputs": [
    {
     "data": {
      "text/html": [
       "<div>\n",
       "<style scoped>\n",
       "    .dataframe tbody tr th:only-of-type {\n",
       "        vertical-align: middle;\n",
       "    }\n",
       "\n",
       "    .dataframe tbody tr th {\n",
       "        vertical-align: top;\n",
       "    }\n",
       "\n",
       "    .dataframe thead th {\n",
       "        text-align: right;\n",
       "    }\n",
       "</style>\n",
       "<table border=\"1\" class=\"dataframe\">\n",
       "  <thead>\n",
       "    <tr style=\"text-align: right;\">\n",
       "      <th></th>\n",
       "      <th>ContentsCode</th>\n",
       "      <th>Tid</th>\n",
       "      <th>value</th>\n",
       "    </tr>\n",
       "  </thead>\n",
       "  <tbody>\n",
       "    <tr>\n",
       "      <th>0</th>\n",
       "      <td>Personer1</td>\n",
       "      <td>1986</td>\n",
       "      <td>4159187</td>\n",
       "    </tr>\n",
       "    <tr>\n",
       "      <th>1</th>\n",
       "      <td>Personer1</td>\n",
       "      <td>1987</td>\n",
       "      <td>4175521</td>\n",
       "    </tr>\n",
       "    <tr>\n",
       "      <th>2</th>\n",
       "      <td>Personer1</td>\n",
       "      <td>1988</td>\n",
       "      <td>4198289</td>\n",
       "    </tr>\n",
       "    <tr>\n",
       "      <th>3</th>\n",
       "      <td>Personer1</td>\n",
       "      <td>1989</td>\n",
       "      <td>4220686</td>\n",
       "    </tr>\n",
       "  </tbody>\n",
       "</table>\n",
       "</div>"
      ],
      "text/plain": [
       "  ContentsCode   Tid    value\n",
       "0    Personer1  1986  4159187\n",
       "1    Personer1  1987  4175521\n",
       "2    Personer1  1988  4198289\n",
       "3    Personer1  1989  4220686"
      ]
     },
     "execution_count": 8,
     "metadata": {},
     "output_type": "execute_result"
    }
   ],
   "source": [
    "df_id.head(4)"
   ]
  },
  {
   "cell_type": "code",
   "execution_count": 9,
   "id": "4ab16b83-1693-4ea1-aaf4-04d794d70263",
   "metadata": {},
   "outputs": [
    {
     "data": {
      "text/html": [
       "<div>\n",
       "<style scoped>\n",
       "    .dataframe tbody tr th:only-of-type {\n",
       "        vertical-align: middle;\n",
       "    }\n",
       "\n",
       "    .dataframe tbody tr th {\n",
       "        vertical-align: top;\n",
       "    }\n",
       "\n",
       "    .dataframe thead th {\n",
       "        text-align: right;\n",
       "    }\n",
       "</style>\n",
       "<table border=\"1\" class=\"dataframe\">\n",
       "  <thead>\n",
       "    <tr style=\"text-align: right;\">\n",
       "      <th></th>\n",
       "      <th>ContentsCode</th>\n",
       "      <th>Tid</th>\n",
       "      <th>value</th>\n",
       "    </tr>\n",
       "  </thead>\n",
       "  <tbody>\n",
       "    <tr>\n",
       "      <th>38</th>\n",
       "      <td>Personer1</td>\n",
       "      <td>2024</td>\n",
       "      <td>5550203</td>\n",
       "    </tr>\n",
       "    <tr>\n",
       "      <th>39</th>\n",
       "      <td>Personer1</td>\n",
       "      <td>2025</td>\n",
       "      <td>5594340</td>\n",
       "    </tr>\n",
       "  </tbody>\n",
       "</table>\n",
       "</div>"
      ],
      "text/plain": [
       "   ContentsCode   Tid    value\n",
       "38    Personer1  2024  5550203\n",
       "39    Personer1  2025  5594340"
      ]
     },
     "execution_count": 9,
     "metadata": {},
     "output_type": "execute_result"
    }
   ],
   "source": [
    "df_id.tail(2)"
   ]
  },
  {
   "cell_type": "markdown",
   "id": "b6b52397",
   "metadata": {},
   "source": [
    "The whole datasettet as list of lists. In 2025 there came more metadadata."
   ]
  },
  {
   "cell_type": "code",
   "execution_count": 10,
   "id": "cbcc4386",
   "metadata": {},
   "outputs": [
    {
     "data": {
      "text/plain": [
       "Dataset([('version', '2.0'),\n",
       "         ('class', 'dataset'),\n",
       "         ('label', '07459: Population, by contents and year'),\n",
       "         ('source', 'Statistics Norway'),\n",
       "         ('updated', '2025-02-25T07:00:00Z'),\n",
       "         ('role',\n",
       "          OrderedDict([('time', ['Tid']), ('metric', ['ContentsCode'])])),\n",
       "         ('id', ['ContentsCode', 'Tid']),\n",
       "         ('size', [1, 40]),\n",
       "         ('dimension',\n",
       "          OrderedDict([('ContentsCode',\n",
       "                        OrderedDict([('label', 'contents'),\n",
       "                                     ('category',\n",
       "                                      OrderedDict([('index',\n",
       "                                                    OrderedDict([('Personer1',\n",
       "                                                                  0)])),\n",
       "                                                   ('label',\n",
       "                                                    OrderedDict([('Personer1',\n",
       "                                                                  'Persons')])),\n",
       "                                                   ('unit',\n",
       "                                                    OrderedDict([('Personer1',\n",
       "                                                                  OrderedDict([('base',\n",
       "                                                                                'number'),\n",
       "                                                                               ('decimals',\n",
       "                                                                                0)]))]))])),\n",
       "                                     ('extension',\n",
       "                                      OrderedDict([('elimination', False),\n",
       "                                                   ('refperiod',\n",
       "                                                    OrderedDict([('Personer1',\n",
       "                                                                  '1.1.')])),\n",
       "                                                   ('show', 'value'),\n",
       "                                                   ('measuringType',\n",
       "                                                    OrderedDict([('Personer1',\n",
       "                                                                  'Stock')])),\n",
       "                                                   ('priceType',\n",
       "                                                    OrderedDict([('Personer1',\n",
       "                                                                  'NotApplicable')])),\n",
       "                                                   ('adjustment',\n",
       "                                                    OrderedDict([('Personer1',\n",
       "                                                                  'None')]))]))])),\n",
       "                       ('Tid',\n",
       "                        OrderedDict([('label', 'year'),\n",
       "                                     ('category',\n",
       "                                      OrderedDict([('index',\n",
       "                                                    OrderedDict([('1986', 0),\n",
       "                                                                 ('1987', 1),\n",
       "                                                                 ('1988', 2),\n",
       "                                                                 ('1989', 3),\n",
       "                                                                 ('1990', 4),\n",
       "                                                                 ('1991', 5),\n",
       "                                                                 ('1992', 6),\n",
       "                                                                 ('1993', 7),\n",
       "                                                                 ('1994', 8),\n",
       "                                                                 ('1995', 9),\n",
       "                                                                 ('1996', 10),\n",
       "                                                                 ('1997', 11),\n",
       "                                                                 ('1998', 12),\n",
       "                                                                 ('1999', 13),\n",
       "                                                                 ('2000', 14),\n",
       "                                                                 ('2001', 15),\n",
       "                                                                 ('2002', 16),\n",
       "                                                                 ('2003', 17),\n",
       "                                                                 ('2004', 18),\n",
       "                                                                 ('2005', 19),\n",
       "                                                                 ('2006', 20),\n",
       "                                                                 ('2007', 21),\n",
       "                                                                 ('2008', 22),\n",
       "                                                                 ('2009', 23),\n",
       "                                                                 ('2010', 24),\n",
       "                                                                 ('2011', 25),\n",
       "                                                                 ('2012', 26),\n",
       "                                                                 ('2013', 27),\n",
       "                                                                 ('2014', 28),\n",
       "                                                                 ('2015', 29),\n",
       "                                                                 ('2016', 30),\n",
       "                                                                 ('2017', 31),\n",
       "                                                                 ('2018', 32),\n",
       "                                                                 ('2019', 33),\n",
       "                                                                 ('2020', 34),\n",
       "                                                                 ('2021', 35),\n",
       "                                                                 ('2022', 36),\n",
       "                                                                 ('2023', 37),\n",
       "                                                                 ('2024', 38),\n",
       "                                                                 ('2025',\n",
       "                                                                  39)])),\n",
       "                                                   ('label',\n",
       "                                                    OrderedDict([('1986',\n",
       "                                                                  '1986'),\n",
       "                                                                 ('1987',\n",
       "                                                                  '1987'),\n",
       "                                                                 ('1988',\n",
       "                                                                  '1988'),\n",
       "                                                                 ('1989',\n",
       "                                                                  '1989'),\n",
       "                                                                 ('1990',\n",
       "                                                                  '1990'),\n",
       "                                                                 ('1991',\n",
       "                                                                  '1991'),\n",
       "                                                                 ('1992',\n",
       "                                                                  '1992'),\n",
       "                                                                 ('1993',\n",
       "                                                                  '1993'),\n",
       "                                                                 ('1994',\n",
       "                                                                  '1994'),\n",
       "                                                                 ('1995',\n",
       "                                                                  '1995'),\n",
       "                                                                 ('1996',\n",
       "                                                                  '1996'),\n",
       "                                                                 ('1997',\n",
       "                                                                  '1997'),\n",
       "                                                                 ('1998',\n",
       "                                                                  '1998'),\n",
       "                                                                 ('1999',\n",
       "                                                                  '1999'),\n",
       "                                                                 ('2000',\n",
       "                                                                  '2000'),\n",
       "                                                                 ('2001',\n",
       "                                                                  '2001'),\n",
       "                                                                 ('2002',\n",
       "                                                                  '2002'),\n",
       "                                                                 ('2003',\n",
       "                                                                  '2003'),\n",
       "                                                                 ('2004',\n",
       "                                                                  '2004'),\n",
       "                                                                 ('2005',\n",
       "                                                                  '2005'),\n",
       "                                                                 ('2006',\n",
       "                                                                  '2006'),\n",
       "                                                                 ('2007',\n",
       "                                                                  '2007'),\n",
       "                                                                 ('2008',\n",
       "                                                                  '2008'),\n",
       "                                                                 ('2009',\n",
       "                                                                  '2009'),\n",
       "                                                                 ('2010',\n",
       "                                                                  '2010'),\n",
       "                                                                 ('2011',\n",
       "                                                                  '2011'),\n",
       "                                                                 ('2012',\n",
       "                                                                  '2012'),\n",
       "                                                                 ('2013',\n",
       "                                                                  '2013'),\n",
       "                                                                 ('2014',\n",
       "                                                                  '2014'),\n",
       "                                                                 ('2015',\n",
       "                                                                  '2015'),\n",
       "                                                                 ('2016',\n",
       "                                                                  '2016'),\n",
       "                                                                 ('2017',\n",
       "                                                                  '2017'),\n",
       "                                                                 ('2018',\n",
       "                                                                  '2018'),\n",
       "                                                                 ('2019',\n",
       "                                                                  '2019'),\n",
       "                                                                 ('2020',\n",
       "                                                                  '2020'),\n",
       "                                                                 ('2021',\n",
       "                                                                  '2021'),\n",
       "                                                                 ('2022',\n",
       "                                                                  '2022'),\n",
       "                                                                 ('2023',\n",
       "                                                                  '2023'),\n",
       "                                                                 ('2024',\n",
       "                                                                  '2024'),\n",
       "                                                                 ('2025',\n",
       "                                                                  '2025')]))])),\n",
       "                                     ('extension',\n",
       "                                      OrderedDict([('elimination', False),\n",
       "                                                   ('show', 'code')]))]))])),\n",
       "         ('extension',\n",
       "          OrderedDict([('px',\n",
       "                        OrderedDict([('infofile', 'None'),\n",
       "                                     ('tableid', '07459'),\n",
       "                                     ('decimals', 0),\n",
       "                                     ('official-statistics', True),\n",
       "                                     ('aggregallowed', True),\n",
       "                                     ('copyright', False),\n",
       "                                     ('language', 'en'),\n",
       "                                     ('contents', '07459: Population,'),\n",
       "                                     ('descriptiondefault', False),\n",
       "                                     ('heading', ['ContentsCode', 'Tid']),\n",
       "                                     ('stub', []),\n",
       "                                     ('matrix', 'Personer1'),\n",
       "                                     ('subject-code', 'be'),\n",
       "                                     ('subject-area', 'Population')])),\n",
       "                       ('discontinued', None),\n",
       "                       ('contact',\n",
       "                        [OrderedDict([('name', 'Magnus Haug'),\n",
       "                                      ('organization', 'Statistics Norway'),\n",
       "                                      ('phone', '40 81 14 91'),\n",
       "                                      ('mail', 'mgh@ssb.no'),\n",
       "                                      ('raw',\n",
       "                                       'Magnus Haug, Statistics Norway# +47 40 81 14 91#mgh@ssb.no')])])])),\n",
       "         ('value',\n",
       "          [4159187,\n",
       "           4175521,\n",
       "           4198289,\n",
       "           4220686,\n",
       "           4233116,\n",
       "           4249830,\n",
       "           4273634,\n",
       "           4299167,\n",
       "           4324815,\n",
       "           4348410,\n",
       "           4369957,\n",
       "           4392714,\n",
       "           4417599,\n",
       "           4445329,\n",
       "           4478497,\n",
       "           4503436,\n",
       "           4524066,\n",
       "           4552252,\n",
       "           4577457,\n",
       "           4606363,\n",
       "           4640219,\n",
       "           4681134,\n",
       "           4737171,\n",
       "           4799252,\n",
       "           4858199,\n",
       "           4920305,\n",
       "           4985870,\n",
       "           5051275,\n",
       "           5109056,\n",
       "           5165802,\n",
       "           5213985,\n",
       "           5258317,\n",
       "           5295619,\n",
       "           5328212,\n",
       "           5367580,\n",
       "           5391369,\n",
       "           5425270,\n",
       "           5488984,\n",
       "           5550203,\n",
       "           5594340])])"
      ]
     },
     "execution_count": 10,
     "metadata": {},
     "output_type": "execute_result"
    }
   ],
   "source": [
    "ds"
   ]
  },
  {
   "cell_type": "markdown",
   "id": "0c572912-7797-4422-8bd5-4a5949d1fbfd",
   "metadata": {},
   "source": [
    "Show updated date"
   ]
  },
  {
   "cell_type": "code",
   "execution_count": 11,
   "id": "abeea4c5-c3cd-475a-8125-3ecc5971e8fe",
   "metadata": {},
   "outputs": [
    {
     "data": {
      "text/plain": [
       "'2025-02-25T07:00:00Z'"
      ]
     },
     "execution_count": 11,
     "metadata": {},
     "output_type": "execute_result"
    }
   ],
   "source": [
    "ds['updated']"
   ]
  },
  {
   "cell_type": "markdown",
   "id": "e93da2b8-f8db-4c02-8a2a-d2d1a68cf1b3",
   "metadata": {},
   "source": [
    "Table ID and short tabletitle are new metadata i JSON-stat2. Get tableid (tablenumber)"
   ]
  },
  {
   "cell_type": "code",
   "execution_count": 12,
   "id": "d979ce46-6c23-44a8-ad0e-e388c7223734",
   "metadata": {},
   "outputs": [
    {
     "data": {
      "text/plain": [
       "'07459'"
      ]
     },
     "execution_count": 12,
     "metadata": {},
     "output_type": "execute_result"
    }
   ],
   "source": [
    "ds['extension']['px']['tableid']"
   ]
  },
  {
   "cell_type": "markdown",
   "id": "bc9472e1-bfc2-40b4-8513-ba549bcae92e",
   "metadata": {},
   "source": [
    "Short tabletitle is useful when generating titles eg. in charts"
   ]
  },
  {
   "cell_type": "code",
   "execution_count": 13,
   "id": "3af7e60b-9437-4790-8b32-daaaf565493c",
   "metadata": {},
   "outputs": [
    {
     "data": {
      "text/plain": [
       "'07459: Population,'"
      ]
     },
     "execution_count": 13,
     "metadata": {},
     "output_type": "execute_result"
    }
   ],
   "source": [
    "ds['extension']['px']['contents']"
   ]
  },
  {
   "cell_type": "markdown",
   "id": "5d6d4f70",
   "metadata": {},
   "source": [
    "## Alternative 2 \n",
    "### Function \"jsqToTab\" to get data via PxWebApi from a saved API-query on local file"
   ]
  },
  {
   "attachments": {
    "jsq-en.png": {
     "image/png": "[encoded data removed]"
    }
   },
   "cell_type": "markdown",
   "id": "0c3ed7dd",
   "metadata": {},
   "source": [
    "![jsq-en.png](attachment:jsq-en.png)"
   ]
  },
  {
   "cell_type": "code",
   "execution_count": 14,
   "id": "3a032b36",
   "metadata": {},
   "outputs": [],
   "source": [
    "import os"
   ]
  },
  {
   "cell_type": "code",
   "execution_count": 15,
   "id": "cdfc3329",
   "metadata": {},
   "outputs": [],
   "source": [
    "# Function jsqToTab takes 2 parameters\n",
    "# It reads files with names like ssbapitable_03013.json, where 03013 is the ID to the table. \n",
    "# The example assumes that the query file is in the same directory as the notebook.\n",
    "# This function takes the ID on stored API query (or Statbank table) as input\n",
    "# 'lang' can set language, default is Norwegian\n",
    "# the function returns two data frames, one with text and one with codes\n",
    "\n",
    "def jsqToTab(qid, lang='no'):\n",
    "\t#\n",
    "\tsavedApiQuery = json.load(open('ssbapi_table_' + qid + '.json'))\n",
    "\t# Find query and table ID\n",
    "\tapiQuery = savedApiQuery['queryObj']\n",
    "\ttabId = savedApiQuery['tableIdForQuery']\n",
    "\t# PostUrl for query\n",
    "\t# Query an endpoint API-et kcan be retrieved from Statbank.\n",
    "\tpostUrl = \"https://data.ssb.no/api/v0/\" + lang + \"/table/\" + tabId\n",
    "\tres = requests.post(postUrl, json=apiQuery)\n",
    "\t# put result in ds\n",
    "\tds = pyjstat.Dataset.read(res.text)\n",
    "\t# write result to two dataframes, one code and one text\n",
    "\tdf_id = ds.write('dataframe', naming='id')\n",
    "\tdf = ds.write('dataframe')\n",
    "\n",
    "\treturn df, df_id"
   ]
  },
  {
   "cell_type": "code",
   "execution_count": 16,
   "id": "19a46c93",
   "metadata": {},
   "outputs": [],
   "source": [
    "df, df_id = jsqToTab(\"07459\", 'en') #insert 5-digit table ID eg. 07459 and language."
   ]
  },
  {
   "cell_type": "markdown",
   "id": "db5442bd-2d9f-4279-b22e-5b44f438a212",
   "metadata": {},
   "source": [
    "Here I have used the file  *ssbapi_table_07459.json* and inserted \"07459\""
   ]
  },
  {
   "cell_type": "code",
   "execution_count": 17,
   "id": "de8fbd97",
   "metadata": {},
   "outputs": [
    {
     "data": {
      "text/html": [
       "<div>\n",
       "<style scoped>\n",
       "    .dataframe tbody tr th:only-of-type {\n",
       "        vertical-align: middle;\n",
       "    }\n",
       "\n",
       "    .dataframe tbody tr th {\n",
       "        vertical-align: top;\n",
       "    }\n",
       "\n",
       "    .dataframe thead th {\n",
       "        text-align: right;\n",
       "    }\n",
       "</style>\n",
       "<table border=\"1\" class=\"dataframe\">\n",
       "  <thead>\n",
       "    <tr style=\"text-align: right;\">\n",
       "      <th></th>\n",
       "      <th>region</th>\n",
       "      <th>sex</th>\n",
       "      <th>age</th>\n",
       "      <th>contents</th>\n",
       "      <th>year</th>\n",
       "      <th>value</th>\n",
       "    </tr>\n",
       "  </thead>\n",
       "  <tbody>\n",
       "    <tr>\n",
       "      <th>0</th>\n",
       "      <td>Halden</td>\n",
       "      <td>Females</td>\n",
       "      <td>0-9 years</td>\n",
       "      <td>Persons</td>\n",
       "      <td>2023</td>\n",
       "      <td>1453</td>\n",
       "    </tr>\n",
       "    <tr>\n",
       "      <th>1</th>\n",
       "      <td>Halden</td>\n",
       "      <td>Females</td>\n",
       "      <td>0-9 years</td>\n",
       "      <td>Persons</td>\n",
       "      <td>2024</td>\n",
       "      <td>1440</td>\n",
       "    </tr>\n",
       "    <tr>\n",
       "      <th>2</th>\n",
       "      <td>Halden</td>\n",
       "      <td>Females</td>\n",
       "      <td>10-19 years</td>\n",
       "      <td>Persons</td>\n",
       "      <td>2023</td>\n",
       "      <td>1851</td>\n",
       "    </tr>\n",
       "    <tr>\n",
       "      <th>3</th>\n",
       "      <td>Halden</td>\n",
       "      <td>Females</td>\n",
       "      <td>10-19 years</td>\n",
       "      <td>Persons</td>\n",
       "      <td>2024</td>\n",
       "      <td>1841</td>\n",
       "    </tr>\n",
       "  </tbody>\n",
       "</table>\n",
       "</div>"
      ],
      "text/plain": [
       "   region      sex          age contents  year  value\n",
       "0  Halden  Females    0-9 years  Persons  2023   1453\n",
       "1  Halden  Females    0-9 years  Persons  2024   1440\n",
       "2  Halden  Females  10-19 years  Persons  2023   1851\n",
       "3  Halden  Females  10-19 years  Persons  2024   1841"
      ]
     },
     "execution_count": 17,
     "metadata": {},
     "output_type": "execute_result"
    }
   ],
   "source": [
    "df.head(4)"
   ]
  },
  {
   "cell_type": "code",
   "execution_count": 18,
   "id": "7aca3825",
   "metadata": {},
   "outputs": [
    {
     "data": {
      "text/html": [
       "<div>\n",
       "<style scoped>\n",
       "    .dataframe tbody tr th:only-of-type {\n",
       "        vertical-align: middle;\n",
       "    }\n",
       "\n",
       "    .dataframe tbody tr th {\n",
       "        vertical-align: top;\n",
       "    }\n",
       "\n",
       "    .dataframe thead th {\n",
       "        text-align: right;\n",
       "    }\n",
       "</style>\n",
       "<table border=\"1\" class=\"dataframe\">\n",
       "  <thead>\n",
       "    <tr style=\"text-align: right;\">\n",
       "      <th></th>\n",
       "      <th>Region</th>\n",
       "      <th>Kjonn</th>\n",
       "      <th>Alder</th>\n",
       "      <th>ContentsCode</th>\n",
       "      <th>Tid</th>\n",
       "      <th>value</th>\n",
       "    </tr>\n",
       "  </thead>\n",
       "  <tbody>\n",
       "    <tr>\n",
       "      <th>0</th>\n",
       "      <td>K-3101</td>\n",
       "      <td>2</td>\n",
       "      <td>F00-09</td>\n",
       "      <td>Personer1</td>\n",
       "      <td>2023</td>\n",
       "      <td>1453</td>\n",
       "    </tr>\n",
       "    <tr>\n",
       "      <th>1</th>\n",
       "      <td>K-3101</td>\n",
       "      <td>2</td>\n",
       "      <td>F00-09</td>\n",
       "      <td>Personer1</td>\n",
       "      <td>2024</td>\n",
       "      <td>1440</td>\n",
       "    </tr>\n",
       "    <tr>\n",
       "      <th>2</th>\n",
       "      <td>K-3101</td>\n",
       "      <td>2</td>\n",
       "      <td>F10-19</td>\n",
       "      <td>Personer1</td>\n",
       "      <td>2023</td>\n",
       "      <td>1851</td>\n",
       "    </tr>\n",
       "    <tr>\n",
       "      <th>3</th>\n",
       "      <td>K-3101</td>\n",
       "      <td>2</td>\n",
       "      <td>F10-19</td>\n",
       "      <td>Personer1</td>\n",
       "      <td>2024</td>\n",
       "      <td>1841</td>\n",
       "    </tr>\n",
       "  </tbody>\n",
       "</table>\n",
       "</div>"
      ],
      "text/plain": [
       "   Region Kjonn   Alder ContentsCode   Tid  value\n",
       "0  K-3101     2  F00-09    Personer1  2023   1453\n",
       "1  K-3101     2  F00-09    Personer1  2024   1440\n",
       "2  K-3101     2  F10-19    Personer1  2023   1851\n",
       "3  K-3101     2  F10-19    Personer1  2024   1841"
      ]
     },
     "execution_count": 18,
     "metadata": {},
     "output_type": "execute_result"
    }
   ],
   "source": [
    "df_id.head(4)"
   ]
  },
  {
   "cell_type": "markdown",
   "id": "38c82803",
   "metadata": {},
   "source": [
    "df with codes is the same in Norwegian and in English"
   ]
  },
  {
   "cell_type": "code",
   "execution_count": null,
   "id": "8137a280-7bc1-4d69-8f23-f432d95d8c6c",
   "metadata": {},
   "outputs": [],
   "source": []
  }
 ],
 "metadata": {
  "kernelspec": {
   "display_name": "Python 3 (ipykernel)",
   "language": "python",
   "name": "python3"
  },
  "language_info": {
   "codemirror_mode": {
    "name": "ipython",
    "version": 3
   },
   "file_extension": ".py",
   "mimetype": "text/x-python",
   "name": "python",
   "nbconvert_exporter": "python",
   "pygments_lexer": "ipython3",
   "version": "3.12.3"
  }
 },
 "nbformat": 4,
 "nbformat_minor": 5
}
