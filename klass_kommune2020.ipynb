{
 "cells": [
  {
   "cell_type": "markdown",
   "metadata": {
    "slideshow": {
     "slide_type": "slide"
    }
   },
   "source": [
    "# Eksempler på bruk av Klass fra Python \n",
    "Klass - Klassifikasjoner og kodelister. \n",
    "Se også Klass API dokumentasjon: [Klass API guide](https://data.ssb.no/api/klass/v1/api-guide.html)"
   ]
  },
  {
   "cell_type": "markdown",
   "metadata": {
    "slideshow": {
     "slide_type": "slide"
    }
   },
   "source": [
    "### 1. Et enkelt eksempel: Dagens kommuner"
   ]
  },
  {
   "cell_type": "markdown",
   "metadata": {},
   "source": [
    "Vi importerer Python Pandas, som kan angis som pd"
   ]
  },
  {
   "cell_type": "code",
   "execution_count": 1,
   "metadata": {},
   "outputs": [],
   "source": [
    "# Pandas gjør dataanalyse i Python enklere\n",
    "import pandas as pd"
   ]
  },
  {
   "cell_type": "markdown",
   "metadata": {},
   "source": [
    "Eksempelet henter gyldige koder fra Standard for kommuneinndeling.\n",
    "\n",
    "Adressen i Klass er https://www.ssb.no/klass/klassifikasjoner/131/\n",
    "\n",
    "131 = ID til klassifikasjonen\n",
    "\n",
    "Vi henter gyldige koder som JSON via Klass API med [codesAt](https://data.ssb.no/api/klass/v1/api-guide.html#_codesat):"
   ]
  },
  {
   "cell_type": "code",
   "execution_count": 2,
   "metadata": {},
   "outputs": [],
   "source": [
    "URL1 = 'http://data.ssb.no/api/klass/v1/classifications/131/codesAt.json?date=2021-01-19'"
   ]
  },
  {
   "cell_type": "markdown",
   "metadata": {
    "slideshow": {
     "slide_type": "slide"
    }
   },
   "source": [
    "Siden dette er json kan vi bruke Pandas read_json(). Den kan ta nettadresser direkte."
   ]
  },
  {
   "cell_type": "code",
   "execution_count": 3,
   "metadata": {},
   "outputs": [
    {
     "data": {
      "text/html": [
       "<div>\n",
       "<style scoped>\n",
       "    .dataframe tbody tr th:only-of-type {\n",
       "        vertical-align: middle;\n",
       "    }\n",
       "\n",
       "    .dataframe tbody tr th {\n",
       "        vertical-align: top;\n",
       "    }\n",
       "\n",
       "    .dataframe thead th {\n",
       "        text-align: right;\n",
       "    }\n",
       "</style>\n",
       "<table border=\"1\" class=\"dataframe\">\n",
       "  <thead>\n",
       "    <tr style=\"text-align: right;\">\n",
       "      <th></th>\n",
       "      <th>codes</th>\n",
       "    </tr>\n",
       "  </thead>\n",
       "  <tbody>\n",
       "    <tr>\n",
       "      <th>0</th>\n",
       "      <td>{'code': '0301', 'parentCode': None, 'level': ...</td>\n",
       "    </tr>\n",
       "    <tr>\n",
       "      <th>1</th>\n",
       "      <td>{'code': '1101', 'parentCode': None, 'level': ...</td>\n",
       "    </tr>\n",
       "    <tr>\n",
       "      <th>2</th>\n",
       "      <td>{'code': '1103', 'parentCode': None, 'level': ...</td>\n",
       "    </tr>\n",
       "    <tr>\n",
       "      <th>3</th>\n",
       "      <td>{'code': '1106', 'parentCode': None, 'level': ...</td>\n",
       "    </tr>\n",
       "    <tr>\n",
       "      <th>4</th>\n",
       "      <td>{'code': '1108', 'parentCode': None, 'level': ...</td>\n",
       "    </tr>\n",
       "    <tr>\n",
       "      <th>...</th>\n",
       "      <td>...</td>\n",
       "    </tr>\n",
       "    <tr>\n",
       "      <th>352</th>\n",
       "      <td>{'code': '5441', 'parentCode': None, 'level': ...</td>\n",
       "    </tr>\n",
       "    <tr>\n",
       "      <th>353</th>\n",
       "      <td>{'code': '5442', 'parentCode': None, 'level': ...</td>\n",
       "    </tr>\n",
       "    <tr>\n",
       "      <th>354</th>\n",
       "      <td>{'code': '5443', 'parentCode': None, 'level': ...</td>\n",
       "    </tr>\n",
       "    <tr>\n",
       "      <th>355</th>\n",
       "      <td>{'code': '5444', 'parentCode': None, 'level': ...</td>\n",
       "    </tr>\n",
       "    <tr>\n",
       "      <th>356</th>\n",
       "      <td>{'code': '9999', 'parentCode': None, 'level': ...</td>\n",
       "    </tr>\n",
       "  </tbody>\n",
       "</table>\n",
       "<p>357 rows × 1 columns</p>\n",
       "</div>"
      ],
      "text/plain": [
       "                                                 codes\n",
       "0    {'code': '0301', 'parentCode': None, 'level': ...\n",
       "1    {'code': '1101', 'parentCode': None, 'level': ...\n",
       "2    {'code': '1103', 'parentCode': None, 'level': ...\n",
       "3    {'code': '1106', 'parentCode': None, 'level': ...\n",
       "4    {'code': '1108', 'parentCode': None, 'level': ...\n",
       "..                                                 ...\n",
       "352  {'code': '5441', 'parentCode': None, 'level': ...\n",
       "353  {'code': '5442', 'parentCode': None, 'level': ...\n",
       "354  {'code': '5443', 'parentCode': None, 'level': ...\n",
       "355  {'code': '5444', 'parentCode': None, 'level': ...\n",
       "356  {'code': '9999', 'parentCode': None, 'level': ...\n",
       "\n",
       "[357 rows x 1 columns]"
      ]
     },
     "execution_count": 3,
     "metadata": {},
     "output_type": "execute_result"
    }
   ],
   "source": [
    "dataframe1 = pd.read_json(URL1)\n",
    "dataframe1"
   ]
  },
  {
   "cell_type": "markdown",
   "metadata": {
    "slideshow": {
     "slide_type": "-"
    }
   },
   "source": [
    "Alt ligger i en kolonne 'codes'. Vi må i tillegg bruke Pandas [json_normalize](https://pandas.pydata.org/pandas-docs/stable/reference/api/pandas.json_normalize.html). "
   ]
  },
  {
   "cell_type": "markdown",
   "metadata": {
    "slideshow": {
     "slide_type": "slide"
    }
   },
   "source": [
    "Vi gir dataframe1\\['codes'\\] som input"
   ]
  },
  {
   "cell_type": "code",
   "execution_count": 4,
   "metadata": {
    "slideshow": {
     "slide_type": "-"
    }
   },
   "outputs": [
    {
     "data": {
      "text/html": [
       "<div>\n",
       "<style scoped>\n",
       "    .dataframe tbody tr th:only-of-type {\n",
       "        vertical-align: middle;\n",
       "    }\n",
       "\n",
       "    .dataframe tbody tr th {\n",
       "        vertical-align: top;\n",
       "    }\n",
       "\n",
       "    .dataframe thead th {\n",
       "        text-align: right;\n",
       "    }\n",
       "</style>\n",
       "<table border=\"1\" class=\"dataframe\">\n",
       "  <thead>\n",
       "    <tr style=\"text-align: right;\">\n",
       "      <th></th>\n",
       "      <th>code</th>\n",
       "      <th>parentCode</th>\n",
       "      <th>level</th>\n",
       "      <th>name</th>\n",
       "      <th>shortName</th>\n",
       "      <th>presentationName</th>\n",
       "    </tr>\n",
       "  </thead>\n",
       "  <tbody>\n",
       "    <tr>\n",
       "      <th>0</th>\n",
       "      <td>0301</td>\n",
       "      <td>None</td>\n",
       "      <td>1</td>\n",
       "      <td>Oslo</td>\n",
       "      <td></td>\n",
       "      <td></td>\n",
       "    </tr>\n",
       "    <tr>\n",
       "      <th>1</th>\n",
       "      <td>1101</td>\n",
       "      <td>None</td>\n",
       "      <td>1</td>\n",
       "      <td>Eigersund</td>\n",
       "      <td></td>\n",
       "      <td></td>\n",
       "    </tr>\n",
       "    <tr>\n",
       "      <th>2</th>\n",
       "      <td>1103</td>\n",
       "      <td>None</td>\n",
       "      <td>1</td>\n",
       "      <td>Stavanger</td>\n",
       "      <td></td>\n",
       "      <td></td>\n",
       "    </tr>\n",
       "    <tr>\n",
       "      <th>3</th>\n",
       "      <td>1106</td>\n",
       "      <td>None</td>\n",
       "      <td>1</td>\n",
       "      <td>Haugesund</td>\n",
       "      <td></td>\n",
       "      <td></td>\n",
       "    </tr>\n",
       "    <tr>\n",
       "      <th>4</th>\n",
       "      <td>1108</td>\n",
       "      <td>None</td>\n",
       "      <td>1</td>\n",
       "      <td>Sandnes</td>\n",
       "      <td></td>\n",
       "      <td></td>\n",
       "    </tr>\n",
       "    <tr>\n",
       "      <th>...</th>\n",
       "      <td>...</td>\n",
       "      <td>...</td>\n",
       "      <td>...</td>\n",
       "      <td>...</td>\n",
       "      <td>...</td>\n",
       "      <td>...</td>\n",
       "    </tr>\n",
       "    <tr>\n",
       "      <th>352</th>\n",
       "      <td>5441</td>\n",
       "      <td>None</td>\n",
       "      <td>1</td>\n",
       "      <td>Deatnu - Tana</td>\n",
       "      <td></td>\n",
       "      <td></td>\n",
       "    </tr>\n",
       "    <tr>\n",
       "      <th>353</th>\n",
       "      <td>5442</td>\n",
       "      <td>None</td>\n",
       "      <td>1</td>\n",
       "      <td>Unjárga - Nesseby</td>\n",
       "      <td></td>\n",
       "      <td></td>\n",
       "    </tr>\n",
       "    <tr>\n",
       "      <th>354</th>\n",
       "      <td>5443</td>\n",
       "      <td>None</td>\n",
       "      <td>1</td>\n",
       "      <td>Båtsfjord</td>\n",
       "      <td></td>\n",
       "      <td></td>\n",
       "    </tr>\n",
       "    <tr>\n",
       "      <th>355</th>\n",
       "      <td>5444</td>\n",
       "      <td>None</td>\n",
       "      <td>1</td>\n",
       "      <td>Sør-Varanger</td>\n",
       "      <td></td>\n",
       "      <td></td>\n",
       "    </tr>\n",
       "    <tr>\n",
       "      <th>356</th>\n",
       "      <td>9999</td>\n",
       "      <td>None</td>\n",
       "      <td>1</td>\n",
       "      <td>Uoppgitt</td>\n",
       "      <td></td>\n",
       "      <td></td>\n",
       "    </tr>\n",
       "  </tbody>\n",
       "</table>\n",
       "<p>357 rows × 6 columns</p>\n",
       "</div>"
      ],
      "text/plain": [
       "     code parentCode level               name shortName presentationName\n",
       "0    0301       None     1               Oslo                           \n",
       "1    1101       None     1          Eigersund                           \n",
       "2    1103       None     1          Stavanger                           \n",
       "3    1106       None     1          Haugesund                           \n",
       "4    1108       None     1            Sandnes                           \n",
       "..    ...        ...   ...                ...       ...              ...\n",
       "352  5441       None     1      Deatnu - Tana                           \n",
       "353  5442       None     1  Unjárga - Nesseby                           \n",
       "354  5443       None     1          Båtsfjord                           \n",
       "355  5444       None     1       Sør-Varanger                           \n",
       "356  9999       None     1           Uoppgitt                           \n",
       "\n",
       "[357 rows x 6 columns]"
      ]
     },
     "execution_count": 4,
     "metadata": {},
     "output_type": "execute_result"
    }
   ],
   "source": [
    "kommuner2020 = pd.json_normalize(dataframe1['codes'])\n",
    "kommuner2020"
   ]
  },
  {
   "cell_type": "markdown",
   "metadata": {
    "slideshow": {
     "slide_type": "slide"
    }
   },
   "source": [
    "### 2. Henter Standard for kommuneinndeling med endringer fra og med  1.1.2017 \n",
    " \n",
    "Url til Klass API. Nå bruker vi [codes](https://data.ssb.no/api/klass/v1/api-guide.html#_codes) med fra-og-med dato. Id er fortsatt 131 og vi angir .json slik: "
   ]
  },
  {
   "cell_type": "code",
   "execution_count": 5,
   "metadata": {},
   "outputs": [],
   "source": [
    "URL2 = 'http://data.ssb.no/api/klass/v1/classifications/131/codes.json?from=2017-01-01'"
   ]
  },
  {
   "cell_type": "markdown",
   "metadata": {},
   "source": [
    "to= parameteren for tid er ikke nødvendig i Klass API. Den kan med fordel utelukkes om en vil ha med endringer. "
   ]
  },
  {
   "cell_type": "markdown",
   "metadata": {
    "slideshow": {
     "slide_type": "slide"
    }
   },
   "source": [
    "Leser URL2 som json til dataframe2"
   ]
  },
  {
   "cell_type": "code",
   "execution_count": 6,
   "metadata": {
    "scrolled": true
   },
   "outputs": [
    {
     "data": {
      "text/html": [
       "<div>\n",
       "<style scoped>\n",
       "    .dataframe tbody tr th:only-of-type {\n",
       "        vertical-align: middle;\n",
       "    }\n",
       "\n",
       "    .dataframe tbody tr th {\n",
       "        vertical-align: top;\n",
       "    }\n",
       "\n",
       "    .dataframe thead th {\n",
       "        text-align: right;\n",
       "    }\n",
       "</style>\n",
       "<table border=\"1\" class=\"dataframe\">\n",
       "  <thead>\n",
       "    <tr style=\"text-align: right;\">\n",
       "      <th></th>\n",
       "      <th>codes</th>\n",
       "    </tr>\n",
       "  </thead>\n",
       "  <tbody>\n",
       "    <tr>\n",
       "      <th>0</th>\n",
       "      <td>{'code': '0101', 'parentCode': None, 'level': ...</td>\n",
       "    </tr>\n",
       "    <tr>\n",
       "      <th>1</th>\n",
       "      <td>{'code': '0104', 'parentCode': None, 'level': ...</td>\n",
       "    </tr>\n",
       "    <tr>\n",
       "      <th>2</th>\n",
       "      <td>{'code': '0105', 'parentCode': None, 'level': ...</td>\n",
       "    </tr>\n",
       "    <tr>\n",
       "      <th>3</th>\n",
       "      <td>{'code': '0106', 'parentCode': None, 'level': ...</td>\n",
       "    </tr>\n",
       "    <tr>\n",
       "      <th>4</th>\n",
       "      <td>{'code': '0111', 'parentCode': None, 'level': ...</td>\n",
       "    </tr>\n",
       "  </tbody>\n",
       "</table>\n",
       "</div>"
      ],
      "text/plain": [
       "                                               codes\n",
       "0  {'code': '0101', 'parentCode': None, 'level': ...\n",
       "1  {'code': '0104', 'parentCode': None, 'level': ...\n",
       "2  {'code': '0105', 'parentCode': None, 'level': ...\n",
       "3  {'code': '0106', 'parentCode': None, 'level': ...\n",
       "4  {'code': '0111', 'parentCode': None, 'level': ..."
      ]
     },
     "execution_count": 6,
     "metadata": {},
     "output_type": "execute_result"
    }
   ],
   "source": [
    "dataframe2 = pd.read_json(URL2)\n",
    "dataframe2.head()"
   ]
  },
  {
   "cell_type": "markdown",
   "metadata": {
    "slideshow": {
     "slide_type": "slide"
    }
   },
   "source": [
    "Vi bruker Pandas json_normalize"
   ]
  },
  {
   "cell_type": "code",
   "execution_count": 7,
   "metadata": {},
   "outputs": [
    {
     "data": {
      "text/html": [
       "<div>\n",
       "<style scoped>\n",
       "    .dataframe tbody tr th:only-of-type {\n",
       "        vertical-align: middle;\n",
       "    }\n",
       "\n",
       "    .dataframe tbody tr th {\n",
       "        vertical-align: top;\n",
       "    }\n",
       "\n",
       "    .dataframe thead th {\n",
       "        text-align: right;\n",
       "    }\n",
       "</style>\n",
       "<table border=\"1\" class=\"dataframe\">\n",
       "  <thead>\n",
       "    <tr style=\"text-align: right;\">\n",
       "      <th></th>\n",
       "      <th>code</th>\n",
       "      <th>parentCode</th>\n",
       "      <th>level</th>\n",
       "      <th>name</th>\n",
       "      <th>shortName</th>\n",
       "      <th>presentationName</th>\n",
       "      <th>validFromInRequestedRange</th>\n",
       "      <th>validToInRequestedRange</th>\n",
       "    </tr>\n",
       "  </thead>\n",
       "  <tbody>\n",
       "    <tr>\n",
       "      <th>0</th>\n",
       "      <td>0101</td>\n",
       "      <td>None</td>\n",
       "      <td>1</td>\n",
       "      <td>Halden</td>\n",
       "      <td></td>\n",
       "      <td></td>\n",
       "      <td>2017-01-01</td>\n",
       "      <td>2020-01-01</td>\n",
       "    </tr>\n",
       "    <tr>\n",
       "      <th>1</th>\n",
       "      <td>0104</td>\n",
       "      <td>None</td>\n",
       "      <td>1</td>\n",
       "      <td>Moss</td>\n",
       "      <td></td>\n",
       "      <td></td>\n",
       "      <td>2017-01-01</td>\n",
       "      <td>2020-01-01</td>\n",
       "    </tr>\n",
       "    <tr>\n",
       "      <th>2</th>\n",
       "      <td>0105</td>\n",
       "      <td>None</td>\n",
       "      <td>1</td>\n",
       "      <td>Sarpsborg</td>\n",
       "      <td></td>\n",
       "      <td></td>\n",
       "      <td>2017-01-01</td>\n",
       "      <td>2020-01-01</td>\n",
       "    </tr>\n",
       "    <tr>\n",
       "      <th>3</th>\n",
       "      <td>0106</td>\n",
       "      <td>None</td>\n",
       "      <td>1</td>\n",
       "      <td>Fredrikstad</td>\n",
       "      <td></td>\n",
       "      <td></td>\n",
       "      <td>2017-01-01</td>\n",
       "      <td>2020-01-01</td>\n",
       "    </tr>\n",
       "    <tr>\n",
       "      <th>4</th>\n",
       "      <td>0111</td>\n",
       "      <td>None</td>\n",
       "      <td>1</td>\n",
       "      <td>Hvaler</td>\n",
       "      <td></td>\n",
       "      <td></td>\n",
       "      <td>2017-01-01</td>\n",
       "      <td>2020-01-01</td>\n",
       "    </tr>\n",
       "    <tr>\n",
       "      <th>...</th>\n",
       "      <td>...</td>\n",
       "      <td>...</td>\n",
       "      <td>...</td>\n",
       "      <td>...</td>\n",
       "      <td>...</td>\n",
       "      <td>...</td>\n",
       "      <td>...</td>\n",
       "      <td>...</td>\n",
       "    </tr>\n",
       "    <tr>\n",
       "      <th>725</th>\n",
       "      <td>5441</td>\n",
       "      <td>None</td>\n",
       "      <td>1</td>\n",
       "      <td>Deatnu - Tana</td>\n",
       "      <td></td>\n",
       "      <td></td>\n",
       "      <td>2020-01-01</td>\n",
       "      <td>None</td>\n",
       "    </tr>\n",
       "    <tr>\n",
       "      <th>726</th>\n",
       "      <td>5442</td>\n",
       "      <td>None</td>\n",
       "      <td>1</td>\n",
       "      <td>Unjárga - Nesseby</td>\n",
       "      <td></td>\n",
       "      <td></td>\n",
       "      <td>2020-01-01</td>\n",
       "      <td>None</td>\n",
       "    </tr>\n",
       "    <tr>\n",
       "      <th>727</th>\n",
       "      <td>5443</td>\n",
       "      <td>None</td>\n",
       "      <td>1</td>\n",
       "      <td>Båtsfjord</td>\n",
       "      <td></td>\n",
       "      <td></td>\n",
       "      <td>2020-01-01</td>\n",
       "      <td>None</td>\n",
       "    </tr>\n",
       "    <tr>\n",
       "      <th>728</th>\n",
       "      <td>5444</td>\n",
       "      <td>None</td>\n",
       "      <td>1</td>\n",
       "      <td>Sør-Varanger</td>\n",
       "      <td></td>\n",
       "      <td></td>\n",
       "      <td>2020-01-01</td>\n",
       "      <td>None</td>\n",
       "    </tr>\n",
       "    <tr>\n",
       "      <th>729</th>\n",
       "      <td>9999</td>\n",
       "      <td>None</td>\n",
       "      <td>1</td>\n",
       "      <td>Uoppgitt</td>\n",
       "      <td></td>\n",
       "      <td></td>\n",
       "      <td>2017-01-01</td>\n",
       "      <td>None</td>\n",
       "    </tr>\n",
       "  </tbody>\n",
       "</table>\n",
       "<p>730 rows × 8 columns</p>\n",
       "</div>"
      ],
      "text/plain": [
       "     code parentCode level               name shortName presentationName  \\\n",
       "0    0101       None     1             Halden                              \n",
       "1    0104       None     1               Moss                              \n",
       "2    0105       None     1          Sarpsborg                              \n",
       "3    0106       None     1        Fredrikstad                              \n",
       "4    0111       None     1             Hvaler                              \n",
       "..    ...        ...   ...                ...       ...              ...   \n",
       "725  5441       None     1      Deatnu - Tana                              \n",
       "726  5442       None     1  Unjárga - Nesseby                              \n",
       "727  5443       None     1          Båtsfjord                              \n",
       "728  5444       None     1       Sør-Varanger                              \n",
       "729  9999       None     1           Uoppgitt                              \n",
       "\n",
       "    validFromInRequestedRange validToInRequestedRange  \n",
       "0                  2017-01-01              2020-01-01  \n",
       "1                  2017-01-01              2020-01-01  \n",
       "2                  2017-01-01              2020-01-01  \n",
       "3                  2017-01-01              2020-01-01  \n",
       "4                  2017-01-01              2020-01-01  \n",
       "..                        ...                     ...  \n",
       "725                2020-01-01                    None  \n",
       "726                2020-01-01                    None  \n",
       "727                2020-01-01                    None  \n",
       "728                2020-01-01                    None  \n",
       "729                2017-01-01                    None  \n",
       "\n",
       "[730 rows x 8 columns]"
      ]
     },
     "execution_count": 7,
     "metadata": {},
     "output_type": "execute_result"
    }
   ],
   "source": [
    "kommuner_fra2017 = pd.json_normalize(dataframe2['codes'])\n",
    "kommuner_fra2017"
   ]
  },
  {
   "cell_type": "markdown",
   "metadata": {},
   "source": [
    "Vi bruker drop for å fjerne unødvendige kolonner."
   ]
  },
  {
   "cell_type": "code",
   "execution_count": 9,
   "metadata": {},
   "outputs": [
    {
     "data": {
      "text/html": [
       "<div>\n",
       "<style scoped>\n",
       "    .dataframe tbody tr th:only-of-type {\n",
       "        vertical-align: middle;\n",
       "    }\n",
       "\n",
       "    .dataframe tbody tr th {\n",
       "        vertical-align: top;\n",
       "    }\n",
       "\n",
       "    .dataframe thead th {\n",
       "        text-align: right;\n",
       "    }\n",
       "</style>\n",
       "<table border=\"1\" class=\"dataframe\">\n",
       "  <thead>\n",
       "    <tr style=\"text-align: right;\">\n",
       "      <th></th>\n",
       "      <th>code</th>\n",
       "      <th>name</th>\n",
       "      <th>validFromInRequestedRange</th>\n",
       "      <th>validToInRequestedRange</th>\n",
       "    </tr>\n",
       "  </thead>\n",
       "  <tbody>\n",
       "    <tr>\n",
       "      <th>0</th>\n",
       "      <td>0101</td>\n",
       "      <td>Halden</td>\n",
       "      <td>2017-01-01</td>\n",
       "      <td>2020-01-01</td>\n",
       "    </tr>\n",
       "    <tr>\n",
       "      <th>1</th>\n",
       "      <td>0104</td>\n",
       "      <td>Moss</td>\n",
       "      <td>2017-01-01</td>\n",
       "      <td>2020-01-01</td>\n",
       "    </tr>\n",
       "    <tr>\n",
       "      <th>2</th>\n",
       "      <td>0105</td>\n",
       "      <td>Sarpsborg</td>\n",
       "      <td>2017-01-01</td>\n",
       "      <td>2020-01-01</td>\n",
       "    </tr>\n",
       "    <tr>\n",
       "      <th>3</th>\n",
       "      <td>0106</td>\n",
       "      <td>Fredrikstad</td>\n",
       "      <td>2017-01-01</td>\n",
       "      <td>2020-01-01</td>\n",
       "    </tr>\n",
       "    <tr>\n",
       "      <th>4</th>\n",
       "      <td>0111</td>\n",
       "      <td>Hvaler</td>\n",
       "      <td>2017-01-01</td>\n",
       "      <td>2020-01-01</td>\n",
       "    </tr>\n",
       "  </tbody>\n",
       "</table>\n",
       "</div>"
      ],
      "text/plain": [
       "   code         name validFromInRequestedRange validToInRequestedRange\n",
       "0  0101       Halden                2017-01-01              2020-01-01\n",
       "1  0104         Moss                2017-01-01              2020-01-01\n",
       "2  0105    Sarpsborg                2017-01-01              2020-01-01\n",
       "3  0106  Fredrikstad                2017-01-01              2020-01-01\n",
       "4  0111       Hvaler                2017-01-01              2020-01-01"
      ]
     },
     "execution_count": 9,
     "metadata": {},
     "output_type": "execute_result"
    }
   ],
   "source": [
    "kommuner_fra2017 = kommuner_fra2017.drop(columns=['parentCode', 'level', 'shortName', 'presentationName'])\n",
    "kommuner_fra2017.head()"
   ]
  },
  {
   "cell_type": "markdown",
   "metadata": {
    "slideshow": {
     "slide_type": "slide"
    }
   },
   "source": [
    "Setter code som inneholder kommunenummrene som index"
   ]
  },
  {
   "cell_type": "code",
   "execution_count": 10,
   "metadata": {},
   "outputs": [],
   "source": [
    "kommuner_fra2017 = kommuner_fra2017.set_index('code')"
   ]
  },
  {
   "cell_type": "code",
   "execution_count": 11,
   "metadata": {},
   "outputs": [
    {
     "data": {
      "text/html": [
       "<div>\n",
       "<style scoped>\n",
       "    .dataframe tbody tr th:only-of-type {\n",
       "        vertical-align: middle;\n",
       "    }\n",
       "\n",
       "    .dataframe tbody tr th {\n",
       "        vertical-align: top;\n",
       "    }\n",
       "\n",
       "    .dataframe thead th {\n",
       "        text-align: right;\n",
       "    }\n",
       "</style>\n",
       "<table border=\"1\" class=\"dataframe\">\n",
       "  <thead>\n",
       "    <tr style=\"text-align: right;\">\n",
       "      <th></th>\n",
       "      <th>name</th>\n",
       "      <th>validFromInRequestedRange</th>\n",
       "      <th>validToInRequestedRange</th>\n",
       "    </tr>\n",
       "    <tr>\n",
       "      <th>code</th>\n",
       "      <th></th>\n",
       "      <th></th>\n",
       "      <th></th>\n",
       "    </tr>\n",
       "  </thead>\n",
       "  <tbody>\n",
       "    <tr>\n",
       "      <th>5441</th>\n",
       "      <td>Deatnu - Tana</td>\n",
       "      <td>2020-01-01</td>\n",
       "      <td>None</td>\n",
       "    </tr>\n",
       "    <tr>\n",
       "      <th>5442</th>\n",
       "      <td>Unjárga - Nesseby</td>\n",
       "      <td>2020-01-01</td>\n",
       "      <td>None</td>\n",
       "    </tr>\n",
       "    <tr>\n",
       "      <th>5443</th>\n",
       "      <td>Båtsfjord</td>\n",
       "      <td>2020-01-01</td>\n",
       "      <td>None</td>\n",
       "    </tr>\n",
       "    <tr>\n",
       "      <th>5444</th>\n",
       "      <td>Sør-Varanger</td>\n",
       "      <td>2020-01-01</td>\n",
       "      <td>None</td>\n",
       "    </tr>\n",
       "    <tr>\n",
       "      <th>9999</th>\n",
       "      <td>Uoppgitt</td>\n",
       "      <td>2017-01-01</td>\n",
       "      <td>None</td>\n",
       "    </tr>\n",
       "  </tbody>\n",
       "</table>\n",
       "</div>"
      ],
      "text/plain": [
       "                   name validFromInRequestedRange validToInRequestedRange\n",
       "code                                                                     \n",
       "5441      Deatnu - Tana                2020-01-01                    None\n",
       "5442  Unjárga - Nesseby                2020-01-01                    None\n",
       "5443          Båtsfjord                2020-01-01                    None\n",
       "5444       Sør-Varanger                2020-01-01                    None\n",
       "9999           Uoppgitt                2017-01-01                    None"
      ]
     },
     "execution_count": 11,
     "metadata": {},
     "output_type": "execute_result"
    }
   ],
   "source": [
    "kommuner_fra2017.tail()"
   ]
  },
  {
   "cell_type": "markdown",
   "metadata": {
    "slideshow": {
     "slide_type": "slide"
    }
   },
   "source": [
    "Finn kommunenummer og gyldighetsperiode for Holmestrand. Se gyldighetsperiodene."
   ]
  },
  {
   "cell_type": "code",
   "execution_count": 12,
   "metadata": {},
   "outputs": [
    {
     "data": {
      "text/html": [
       "<div>\n",
       "<style scoped>\n",
       "    .dataframe tbody tr th:only-of-type {\n",
       "        vertical-align: middle;\n",
       "    }\n",
       "\n",
       "    .dataframe tbody tr th {\n",
       "        vertical-align: top;\n",
       "    }\n",
       "\n",
       "    .dataframe thead th {\n",
       "        text-align: right;\n",
       "    }\n",
       "</style>\n",
       "<table border=\"1\" class=\"dataframe\">\n",
       "  <thead>\n",
       "    <tr style=\"text-align: right;\">\n",
       "      <th></th>\n",
       "      <th>name</th>\n",
       "      <th>validFromInRequestedRange</th>\n",
       "      <th>validToInRequestedRange</th>\n",
       "    </tr>\n",
       "    <tr>\n",
       "      <th>code</th>\n",
       "      <th></th>\n",
       "      <th></th>\n",
       "      <th></th>\n",
       "    </tr>\n",
       "  </thead>\n",
       "  <tbody>\n",
       "    <tr>\n",
       "      <th>0702</th>\n",
       "      <td>Holmestrand</td>\n",
       "      <td>2017-01-01</td>\n",
       "      <td>2018-01-01</td>\n",
       "    </tr>\n",
       "    <tr>\n",
       "      <th>0715</th>\n",
       "      <td>Holmestrand</td>\n",
       "      <td>2018-01-01</td>\n",
       "      <td>2020-01-01</td>\n",
       "    </tr>\n",
       "    <tr>\n",
       "      <th>3802</th>\n",
       "      <td>Holmestrand</td>\n",
       "      <td>2020-01-01</td>\n",
       "      <td>None</td>\n",
       "    </tr>\n",
       "  </tbody>\n",
       "</table>\n",
       "</div>"
      ],
      "text/plain": [
       "             name validFromInRequestedRange validToInRequestedRange\n",
       "code                                                               \n",
       "0702  Holmestrand                2017-01-01              2018-01-01\n",
       "0715  Holmestrand                2018-01-01              2020-01-01\n",
       "3802  Holmestrand                2020-01-01                    None"
      ]
     },
     "execution_count": 12,
     "metadata": {},
     "output_type": "execute_result"
    }
   ],
   "source": [
    "kommuner_fra2017.query('name == \"Holmestrand\"')"
   ]
  },
  {
   "cell_type": "markdown",
   "metadata": {},
   "source": [
    "Spørsmål? Kontakt Jan Bruusgaard [jbr@ssb.no](mailto:jbr@ssb.no) eller [statistikkbanken@ssb.no](statistikkbanken@ssb.no)"
   ]
  }
 ],
 "metadata": {
  "celltoolbar": "Slideshow",
  "kernelspec": {
   "display_name": "Python 3",
   "language": "python",
   "name": "python3"
  },
  "language_info": {
   "codemirror_mode": {
    "name": "ipython",
    "version": 3
   },
   "file_extension": ".py",
   "mimetype": "text/x-python",
   "name": "python",
   "nbconvert_exporter": "python",
   "pygments_lexer": "ipython3",
   "version": "3.8.5"
  }
 },
 "nbformat": 4,
 "nbformat_minor": 4
}
