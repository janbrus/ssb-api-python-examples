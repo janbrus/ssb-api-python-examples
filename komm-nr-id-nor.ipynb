{
 "cells": [
  {
   "cell_type": "markdown",
   "metadata": {},
   "source": [
    "# Hvordan lage spørring som gir både kommunenavn og kommunenummer (id) fra JSON-stat"
   ]
  },
  {
   "cell_type": "markdown",
   "metadata": {},
   "source": [
    "### Importerer biblioteker\n",
    "Bruker [pyjstat](https://pypi.org/project/pyjstat/) og pandas. Pandas lastes som del av pyjstat"
   ]
  },
  {
   "cell_type": "code",
   "execution_count": 1,
   "metadata": {},
   "outputs": [],
   "source": [
    "from pyjstat import pyjstat\n",
    "import requests"
   ]
  },
  {
   "cell_type": "markdown",
   "metadata": {},
   "source": [
    "URL med tabellens metadata, som vi skal poste spørringen mot"
   ]
  },
  {
   "cell_type": "code",
   "execution_count": 2,
   "metadata": {},
   "outputs": [],
   "source": [
    "POST_URL = 'https://data.ssb.no/api/v0/no/table/07459'"
   ]
  },
  {
   "cell_type": "markdown",
   "metadata": {},
   "source": [
    "Spørring - kan også tas fra konsoll.\n",
    "0, 1 og 2-åringer i Oslo, Bergen Trondheim i 2018 og 2019"
   ]
  },
  {
   "cell_type": "code",
   "execution_count": 3,
   "metadata": {},
   "outputs": [],
   "source": [
    "json_q = {\"query\":[{\"code\":\"Region\",\"selection\":{\"filter\":\"item\",\"values\":[\"0301\",\"1103\",\"5001\"]}},\n",
    "                   {\"code\":\"Kjonn\",\"selection\":{\"filter\":\"item\",\"values\":[\"1\",\"2\"]}},\n",
    "                   {\"code\":\"Alder\",\"selection\":{\"filter\":\"item\",\"values\":[\"000\",\"001\",\"002\"]}},\n",
    "                   {\"code\":\"ContentsCode\",\"selection\":{\"filter\":\"item\",\"values\":[\"Personer1\"]}},\n",
    "                   {\"code\":\"Tid\",\"selection\":{\"filter\":\"item\",\"values\":[\"2018\",\"2019\",\"2020\"]}}\n",
    "                  ],\n",
    "          \"response\":{\"format\":\"json-stat2\"}}"
   ]
  },
  {
   "cell_type": "markdown",
   "metadata": {},
   "source": [
    "Poster spørringen"
   ]
  },
  {
   "cell_type": "code",
   "execution_count": 4,
   "metadata": {},
   "outputs": [],
   "source": [
    "res = requests.post(POST_URL, json=json_q)"
   ]
  },
  {
   "cell_type": "markdown",
   "metadata": {},
   "source": [
    "### Leser JSON-stat resultatet med biblioteket pyjstat\n",
    "Lagrer det som datasett ds."
   ]
  },
  {
   "cell_type": "code",
   "execution_count": 5,
   "metadata": {},
   "outputs": [],
   "source": [
    "ds = pyjstat.Dataset.read(res.text)"
   ]
  },
  {
   "cell_type": "code",
   "execution_count": 6,
   "metadata": {},
   "outputs": [
    {
     "data": {
      "text/plain": [
       "pyjstat.pyjstat.Dataset"
      ]
     },
     "execution_count": 6,
     "metadata": {},
     "output_type": "execute_result"
    }
   ],
   "source": [
    "type(ds)"
   ]
  },
  {
   "cell_type": "markdown",
   "metadata": {},
   "source": [
    "Se datasettet ds"
   ]
  },
  {
   "cell_type": "code",
   "execution_count": 7,
   "metadata": {},
   "outputs": [],
   "source": [
    "#ds"
   ]
  },
  {
   "cell_type": "markdown",
   "metadata": {},
   "source": [
    "### Henter noen overordnete metadata fra JSON-stat datasettet"
   ]
  },
  {
   "cell_type": "code",
   "execution_count": 8,
   "metadata": {},
   "outputs": [
    {
     "name": "stdout",
     "output_type": "stream",
     "text": [
      "07459: Befolkning, etter region, kjønn, alder, statistikkvariabel og år\n"
     ]
    }
   ],
   "source": [
    "tittel = ds['label']\n",
    "print(tittel)"
   ]
  },
  {
   "cell_type": "markdown",
   "metadata": {},
   "source": [
    "Sist Oppdatert som GMT"
   ]
  },
  {
   "cell_type": "code",
   "execution_count": 9,
   "metadata": {},
   "outputs": [
    {
     "name": "stdout",
     "output_type": "stream",
     "text": [
      "2020-02-27T07:00:00Z\n"
     ]
    }
   ],
   "source": [
    "last_update = ds['updated']\n",
    "print(last_update)"
   ]
  },
  {
   "cell_type": "markdown",
   "metadata": {},
   "source": [
    "Henter kilde"
   ]
  },
  {
   "cell_type": "code",
   "execution_count": 10,
   "metadata": {},
   "outputs": [
    {
     "name": "stdout",
     "output_type": "stream",
     "text": [
      "Statistisk sentralbyrå\n"
     ]
    }
   ],
   "source": [
    "source = ds['source']\n",
    "print(source)"
   ]
  },
  {
   "cell_type": "markdown",
   "metadata": {},
   "source": [
    "### Role gir noen snarveier, \n",
    "*men det er en liten bug i Statistikkbanken som ikke får med role - geo : 'Region' for akkurat denne tabellen, 07459*"
   ]
  },
  {
   "cell_type": "code",
   "execution_count": 11,
   "metadata": {},
   "outputs": [
    {
     "name": "stdout",
     "output_type": "stream",
     "text": [
      "OrderedDict([('time', ['Tid']), ('metric', ['ContentsCode'])])\n"
     ]
    }
   ],
   "source": [
    "ds_roles = ds['role']\n",
    "print(ds_roles)"
   ]
  },
  {
   "cell_type": "markdown",
   "metadata": {},
   "source": [
    "### Lager dataframes\n",
    "Vi må lage to dataframes, en med tekst og en med koder/ID. Pyjstat tillater bare enten/eller"
   ]
  },
  {
   "cell_type": "code",
   "execution_count": 12,
   "metadata": {},
   "outputs": [],
   "source": [
    "befolkning = ds.write('dataframe')\n",
    "befolkning_id = ds.write('dataframe', naming='id')"
   ]
  },
  {
   "cell_type": "markdown",
   "metadata": {},
   "source": [
    "Lager en ny kolonne med både kommunenummer og navn slått sammen. Kommunenummer er egentlig en streng på 4 karakter. "
   ]
  },
  {
   "cell_type": "code",
   "execution_count": 13,
   "metadata": {},
   "outputs": [
    {
     "name": "stderr",
     "output_type": "stream",
     "text": [
      "INFO:numexpr.utils:NumExpr defaulting to 8 threads.\n"
     ]
    }
   ],
   "source": [
    "befolkning['kommune'] = befolkning_id['Region'].astype(str) + ' ' + befolkning['region']"
   ]
  },
  {
   "cell_type": "markdown",
   "metadata": {},
   "source": [
    "Lager en ny dataframe som bare har med kolonnene vi ønsker, i ny rekkefølge. Merk doble [[ ]]"
   ]
  },
  {
   "cell_type": "code",
   "execution_count": 14,
   "metadata": {},
   "outputs": [
    {
     "data": {
      "text/html": [
       "<div>\n",
       "<style scoped>\n",
       "    .dataframe tbody tr th:only-of-type {\n",
       "        vertical-align: middle;\n",
       "    }\n",
       "\n",
       "    .dataframe tbody tr th {\n",
       "        vertical-align: top;\n",
       "    }\n",
       "\n",
       "    .dataframe thead th {\n",
       "        text-align: right;\n",
       "    }\n",
       "</style>\n",
       "<table border=\"1\" class=\"dataframe\">\n",
       "  <thead>\n",
       "    <tr style=\"text-align: right;\">\n",
       "      <th></th>\n",
       "      <th>kommune</th>\n",
       "      <th>kjønn</th>\n",
       "      <th>alder</th>\n",
       "      <th>år</th>\n",
       "      <th>value</th>\n",
       "    </tr>\n",
       "  </thead>\n",
       "  <tbody>\n",
       "    <tr>\n",
       "      <th>0</th>\n",
       "      <td>0301 Oslo kommune</td>\n",
       "      <td>Menn</td>\n",
       "      <td>0 år</td>\n",
       "      <td>2018</td>\n",
       "      <td>4779</td>\n",
       "    </tr>\n",
       "    <tr>\n",
       "      <th>1</th>\n",
       "      <td>0301 Oslo kommune</td>\n",
       "      <td>Menn</td>\n",
       "      <td>0 år</td>\n",
       "      <td>2019</td>\n",
       "      <td>4523</td>\n",
       "    </tr>\n",
       "    <tr>\n",
       "      <th>2</th>\n",
       "      <td>0301 Oslo kommune</td>\n",
       "      <td>Menn</td>\n",
       "      <td>0 år</td>\n",
       "      <td>2020</td>\n",
       "      <td>4647</td>\n",
       "    </tr>\n",
       "    <tr>\n",
       "      <th>3</th>\n",
       "      <td>0301 Oslo kommune</td>\n",
       "      <td>Menn</td>\n",
       "      <td>1 år</td>\n",
       "      <td>2018</td>\n",
       "      <td>4709</td>\n",
       "    </tr>\n",
       "    <tr>\n",
       "      <th>4</th>\n",
       "      <td>0301 Oslo kommune</td>\n",
       "      <td>Menn</td>\n",
       "      <td>1 år</td>\n",
       "      <td>2019</td>\n",
       "      <td>4507</td>\n",
       "    </tr>\n",
       "    <tr>\n",
       "      <th>5</th>\n",
       "      <td>0301 Oslo kommune</td>\n",
       "      <td>Menn</td>\n",
       "      <td>1 år</td>\n",
       "      <td>2020</td>\n",
       "      <td>4283</td>\n",
       "    </tr>\n",
       "    <tr>\n",
       "      <th>6</th>\n",
       "      <td>0301 Oslo kommune</td>\n",
       "      <td>Menn</td>\n",
       "      <td>2 år</td>\n",
       "      <td>2018</td>\n",
       "      <td>4498</td>\n",
       "    </tr>\n",
       "    <tr>\n",
       "      <th>7</th>\n",
       "      <td>0301 Oslo kommune</td>\n",
       "      <td>Menn</td>\n",
       "      <td>2 år</td>\n",
       "      <td>2019</td>\n",
       "      <td>4463</td>\n",
       "    </tr>\n",
       "    <tr>\n",
       "      <th>8</th>\n",
       "      <td>0301 Oslo kommune</td>\n",
       "      <td>Menn</td>\n",
       "      <td>2 år</td>\n",
       "      <td>2020</td>\n",
       "      <td>4280</td>\n",
       "    </tr>\n",
       "    <tr>\n",
       "      <th>9</th>\n",
       "      <td>0301 Oslo kommune</td>\n",
       "      <td>Kvinner</td>\n",
       "      <td>0 år</td>\n",
       "      <td>2018</td>\n",
       "      <td>4456</td>\n",
       "    </tr>\n",
       "    <tr>\n",
       "      <th>10</th>\n",
       "      <td>0301 Oslo kommune</td>\n",
       "      <td>Kvinner</td>\n",
       "      <td>0 år</td>\n",
       "      <td>2019</td>\n",
       "      <td>4479</td>\n",
       "    </tr>\n",
       "    <tr>\n",
       "      <th>11</th>\n",
       "      <td>0301 Oslo kommune</td>\n",
       "      <td>Kvinner</td>\n",
       "      <td>0 år</td>\n",
       "      <td>2020</td>\n",
       "      <td>4454</td>\n",
       "    </tr>\n",
       "    <tr>\n",
       "      <th>12</th>\n",
       "      <td>0301 Oslo kommune</td>\n",
       "      <td>Kvinner</td>\n",
       "      <td>1 år</td>\n",
       "      <td>2018</td>\n",
       "      <td>4362</td>\n",
       "    </tr>\n",
       "    <tr>\n",
       "      <th>13</th>\n",
       "      <td>0301 Oslo kommune</td>\n",
       "      <td>Kvinner</td>\n",
       "      <td>1 år</td>\n",
       "      <td>2019</td>\n",
       "      <td>4186</td>\n",
       "    </tr>\n",
       "    <tr>\n",
       "      <th>14</th>\n",
       "      <td>0301 Oslo kommune</td>\n",
       "      <td>Kvinner</td>\n",
       "      <td>1 år</td>\n",
       "      <td>2020</td>\n",
       "      <td>4159</td>\n",
       "    </tr>\n",
       "    <tr>\n",
       "      <th>15</th>\n",
       "      <td>0301 Oslo kommune</td>\n",
       "      <td>Kvinner</td>\n",
       "      <td>2 år</td>\n",
       "      <td>2018</td>\n",
       "      <td>4015</td>\n",
       "    </tr>\n",
       "    <tr>\n",
       "      <th>16</th>\n",
       "      <td>0301 Oslo kommune</td>\n",
       "      <td>Kvinner</td>\n",
       "      <td>2 år</td>\n",
       "      <td>2019</td>\n",
       "      <td>4144</td>\n",
       "    </tr>\n",
       "    <tr>\n",
       "      <th>17</th>\n",
       "      <td>0301 Oslo kommune</td>\n",
       "      <td>Kvinner</td>\n",
       "      <td>2 år</td>\n",
       "      <td>2020</td>\n",
       "      <td>3975</td>\n",
       "    </tr>\n",
       "    <tr>\n",
       "      <th>18</th>\n",
       "      <td>1103 Stavanger</td>\n",
       "      <td>Menn</td>\n",
       "      <td>0 år</td>\n",
       "      <td>2018</td>\n",
       "      <td>835</td>\n",
       "    </tr>\n",
       "    <tr>\n",
       "      <th>19</th>\n",
       "      <td>1103 Stavanger</td>\n",
       "      <td>Menn</td>\n",
       "      <td>0 år</td>\n",
       "      <td>2019</td>\n",
       "      <td>770</td>\n",
       "    </tr>\n",
       "    <tr>\n",
       "      <th>20</th>\n",
       "      <td>1103 Stavanger</td>\n",
       "      <td>Menn</td>\n",
       "      <td>0 år</td>\n",
       "      <td>2020</td>\n",
       "      <td>842</td>\n",
       "    </tr>\n",
       "    <tr>\n",
       "      <th>21</th>\n",
       "      <td>1103 Stavanger</td>\n",
       "      <td>Menn</td>\n",
       "      <td>1 år</td>\n",
       "      <td>2018</td>\n",
       "      <td>846</td>\n",
       "    </tr>\n",
       "    <tr>\n",
       "      <th>22</th>\n",
       "      <td>1103 Stavanger</td>\n",
       "      <td>Menn</td>\n",
       "      <td>1 år</td>\n",
       "      <td>2019</td>\n",
       "      <td>822</td>\n",
       "    </tr>\n",
       "    <tr>\n",
       "      <th>23</th>\n",
       "      <td>1103 Stavanger</td>\n",
       "      <td>Menn</td>\n",
       "      <td>1 år</td>\n",
       "      <td>2020</td>\n",
       "      <td>816</td>\n",
       "    </tr>\n",
       "    <tr>\n",
       "      <th>24</th>\n",
       "      <td>1103 Stavanger</td>\n",
       "      <td>Menn</td>\n",
       "      <td>2 år</td>\n",
       "      <td>2018</td>\n",
       "      <td>860</td>\n",
       "    </tr>\n",
       "    <tr>\n",
       "      <th>25</th>\n",
       "      <td>1103 Stavanger</td>\n",
       "      <td>Menn</td>\n",
       "      <td>2 år</td>\n",
       "      <td>2019</td>\n",
       "      <td>846</td>\n",
       "    </tr>\n",
       "    <tr>\n",
       "      <th>26</th>\n",
       "      <td>1103 Stavanger</td>\n",
       "      <td>Menn</td>\n",
       "      <td>2 år</td>\n",
       "      <td>2020</td>\n",
       "      <td>868</td>\n",
       "    </tr>\n",
       "    <tr>\n",
       "      <th>27</th>\n",
       "      <td>1103 Stavanger</td>\n",
       "      <td>Kvinner</td>\n",
       "      <td>0 år</td>\n",
       "      <td>2018</td>\n",
       "      <td>826</td>\n",
       "    </tr>\n",
       "    <tr>\n",
       "      <th>28</th>\n",
       "      <td>1103 Stavanger</td>\n",
       "      <td>Kvinner</td>\n",
       "      <td>0 år</td>\n",
       "      <td>2019</td>\n",
       "      <td>766</td>\n",
       "    </tr>\n",
       "    <tr>\n",
       "      <th>29</th>\n",
       "      <td>1103 Stavanger</td>\n",
       "      <td>Kvinner</td>\n",
       "      <td>0 år</td>\n",
       "      <td>2020</td>\n",
       "      <td>760</td>\n",
       "    </tr>\n",
       "    <tr>\n",
       "      <th>30</th>\n",
       "      <td>1103 Stavanger</td>\n",
       "      <td>Kvinner</td>\n",
       "      <td>1 år</td>\n",
       "      <td>2018</td>\n",
       "      <td>838</td>\n",
       "    </tr>\n",
       "    <tr>\n",
       "      <th>31</th>\n",
       "      <td>1103 Stavanger</td>\n",
       "      <td>Kvinner</td>\n",
       "      <td>1 år</td>\n",
       "      <td>2019</td>\n",
       "      <td>816</td>\n",
       "    </tr>\n",
       "    <tr>\n",
       "      <th>32</th>\n",
       "      <td>1103 Stavanger</td>\n",
       "      <td>Kvinner</td>\n",
       "      <td>1 år</td>\n",
       "      <td>2020</td>\n",
       "      <td>807</td>\n",
       "    </tr>\n",
       "    <tr>\n",
       "      <th>33</th>\n",
       "      <td>1103 Stavanger</td>\n",
       "      <td>Kvinner</td>\n",
       "      <td>2 år</td>\n",
       "      <td>2018</td>\n",
       "      <td>826</td>\n",
       "    </tr>\n",
       "    <tr>\n",
       "      <th>34</th>\n",
       "      <td>1103 Stavanger</td>\n",
       "      <td>Kvinner</td>\n",
       "      <td>2 år</td>\n",
       "      <td>2019</td>\n",
       "      <td>821</td>\n",
       "    </tr>\n",
       "    <tr>\n",
       "      <th>35</th>\n",
       "      <td>1103 Stavanger</td>\n",
       "      <td>Kvinner</td>\n",
       "      <td>2 år</td>\n",
       "      <td>2020</td>\n",
       "      <td>871</td>\n",
       "    </tr>\n",
       "    <tr>\n",
       "      <th>36</th>\n",
       "      <td>5001 Trondheim</td>\n",
       "      <td>Menn</td>\n",
       "      <td>0 år</td>\n",
       "      <td>2018</td>\n",
       "      <td>1132</td>\n",
       "    </tr>\n",
       "    <tr>\n",
       "      <th>37</th>\n",
       "      <td>5001 Trondheim</td>\n",
       "      <td>Menn</td>\n",
       "      <td>0 år</td>\n",
       "      <td>2019</td>\n",
       "      <td>1059</td>\n",
       "    </tr>\n",
       "    <tr>\n",
       "      <th>38</th>\n",
       "      <td>5001 Trondheim</td>\n",
       "      <td>Menn</td>\n",
       "      <td>0 år</td>\n",
       "      <td>2020</td>\n",
       "      <td>1194</td>\n",
       "    </tr>\n",
       "    <tr>\n",
       "      <th>39</th>\n",
       "      <td>5001 Trondheim</td>\n",
       "      <td>Menn</td>\n",
       "      <td>1 år</td>\n",
       "      <td>2018</td>\n",
       "      <td>1181</td>\n",
       "    </tr>\n",
       "    <tr>\n",
       "      <th>40</th>\n",
       "      <td>5001 Trondheim</td>\n",
       "      <td>Menn</td>\n",
       "      <td>1 år</td>\n",
       "      <td>2019</td>\n",
       "      <td>1117</td>\n",
       "    </tr>\n",
       "    <tr>\n",
       "      <th>41</th>\n",
       "      <td>5001 Trondheim</td>\n",
       "      <td>Menn</td>\n",
       "      <td>1 år</td>\n",
       "      <td>2020</td>\n",
       "      <td>1062</td>\n",
       "    </tr>\n",
       "    <tr>\n",
       "      <th>42</th>\n",
       "      <td>5001 Trondheim</td>\n",
       "      <td>Menn</td>\n",
       "      <td>2 år</td>\n",
       "      <td>2018</td>\n",
       "      <td>1175</td>\n",
       "    </tr>\n",
       "    <tr>\n",
       "      <th>43</th>\n",
       "      <td>5001 Trondheim</td>\n",
       "      <td>Menn</td>\n",
       "      <td>2 år</td>\n",
       "      <td>2019</td>\n",
       "      <td>1159</td>\n",
       "    </tr>\n",
       "    <tr>\n",
       "      <th>44</th>\n",
       "      <td>5001 Trondheim</td>\n",
       "      <td>Menn</td>\n",
       "      <td>2 år</td>\n",
       "      <td>2020</td>\n",
       "      <td>1157</td>\n",
       "    </tr>\n",
       "    <tr>\n",
       "      <th>45</th>\n",
       "      <td>5001 Trondheim</td>\n",
       "      <td>Kvinner</td>\n",
       "      <td>0 år</td>\n",
       "      <td>2018</td>\n",
       "      <td>1078</td>\n",
       "    </tr>\n",
       "    <tr>\n",
       "      <th>46</th>\n",
       "      <td>5001 Trondheim</td>\n",
       "      <td>Kvinner</td>\n",
       "      <td>0 år</td>\n",
       "      <td>2019</td>\n",
       "      <td>1023</td>\n",
       "    </tr>\n",
       "    <tr>\n",
       "      <th>47</th>\n",
       "      <td>5001 Trondheim</td>\n",
       "      <td>Kvinner</td>\n",
       "      <td>0 år</td>\n",
       "      <td>2020</td>\n",
       "      <td>1061</td>\n",
       "    </tr>\n",
       "    <tr>\n",
       "      <th>48</th>\n",
       "      <td>5001 Trondheim</td>\n",
       "      <td>Kvinner</td>\n",
       "      <td>1 år</td>\n",
       "      <td>2018</td>\n",
       "      <td>1097</td>\n",
       "    </tr>\n",
       "    <tr>\n",
       "      <th>49</th>\n",
       "      <td>5001 Trondheim</td>\n",
       "      <td>Kvinner</td>\n",
       "      <td>1 år</td>\n",
       "      <td>2019</td>\n",
       "      <td>1069</td>\n",
       "    </tr>\n",
       "    <tr>\n",
       "      <th>50</th>\n",
       "      <td>5001 Trondheim</td>\n",
       "      <td>Kvinner</td>\n",
       "      <td>1 år</td>\n",
       "      <td>2020</td>\n",
       "      <td>1053</td>\n",
       "    </tr>\n",
       "    <tr>\n",
       "      <th>51</th>\n",
       "      <td>5001 Trondheim</td>\n",
       "      <td>Kvinner</td>\n",
       "      <td>2 år</td>\n",
       "      <td>2018</td>\n",
       "      <td>1115</td>\n",
       "    </tr>\n",
       "    <tr>\n",
       "      <th>52</th>\n",
       "      <td>5001 Trondheim</td>\n",
       "      <td>Kvinner</td>\n",
       "      <td>2 år</td>\n",
       "      <td>2019</td>\n",
       "      <td>1096</td>\n",
       "    </tr>\n",
       "    <tr>\n",
       "      <th>53</th>\n",
       "      <td>5001 Trondheim</td>\n",
       "      <td>Kvinner</td>\n",
       "      <td>2 år</td>\n",
       "      <td>2020</td>\n",
       "      <td>1095</td>\n",
       "    </tr>\n",
       "  </tbody>\n",
       "</table>\n",
       "</div>"
      ],
      "text/plain": [
       "              kommune    kjønn alder    år  value\n",
       "0   0301 Oslo kommune     Menn  0 år  2018   4779\n",
       "1   0301 Oslo kommune     Menn  0 år  2019   4523\n",
       "2   0301 Oslo kommune     Menn  0 år  2020   4647\n",
       "3   0301 Oslo kommune     Menn  1 år  2018   4709\n",
       "4   0301 Oslo kommune     Menn  1 år  2019   4507\n",
       "5   0301 Oslo kommune     Menn  1 år  2020   4283\n",
       "6   0301 Oslo kommune     Menn  2 år  2018   4498\n",
       "7   0301 Oslo kommune     Menn  2 år  2019   4463\n",
       "8   0301 Oslo kommune     Menn  2 år  2020   4280\n",
       "9   0301 Oslo kommune  Kvinner  0 år  2018   4456\n",
       "10  0301 Oslo kommune  Kvinner  0 år  2019   4479\n",
       "11  0301 Oslo kommune  Kvinner  0 år  2020   4454\n",
       "12  0301 Oslo kommune  Kvinner  1 år  2018   4362\n",
       "13  0301 Oslo kommune  Kvinner  1 år  2019   4186\n",
       "14  0301 Oslo kommune  Kvinner  1 år  2020   4159\n",
       "15  0301 Oslo kommune  Kvinner  2 år  2018   4015\n",
       "16  0301 Oslo kommune  Kvinner  2 år  2019   4144\n",
       "17  0301 Oslo kommune  Kvinner  2 år  2020   3975\n",
       "18     1103 Stavanger     Menn  0 år  2018    835\n",
       "19     1103 Stavanger     Menn  0 år  2019    770\n",
       "20     1103 Stavanger     Menn  0 år  2020    842\n",
       "21     1103 Stavanger     Menn  1 år  2018    846\n",
       "22     1103 Stavanger     Menn  1 år  2019    822\n",
       "23     1103 Stavanger     Menn  1 år  2020    816\n",
       "24     1103 Stavanger     Menn  2 år  2018    860\n",
       "25     1103 Stavanger     Menn  2 år  2019    846\n",
       "26     1103 Stavanger     Menn  2 år  2020    868\n",
       "27     1103 Stavanger  Kvinner  0 år  2018    826\n",
       "28     1103 Stavanger  Kvinner  0 år  2019    766\n",
       "29     1103 Stavanger  Kvinner  0 år  2020    760\n",
       "30     1103 Stavanger  Kvinner  1 år  2018    838\n",
       "31     1103 Stavanger  Kvinner  1 år  2019    816\n",
       "32     1103 Stavanger  Kvinner  1 år  2020    807\n",
       "33     1103 Stavanger  Kvinner  2 år  2018    826\n",
       "34     1103 Stavanger  Kvinner  2 år  2019    821\n",
       "35     1103 Stavanger  Kvinner  2 år  2020    871\n",
       "36     5001 Trondheim     Menn  0 år  2018   1132\n",
       "37     5001 Trondheim     Menn  0 år  2019   1059\n",
       "38     5001 Trondheim     Menn  0 år  2020   1194\n",
       "39     5001 Trondheim     Menn  1 år  2018   1181\n",
       "40     5001 Trondheim     Menn  1 år  2019   1117\n",
       "41     5001 Trondheim     Menn  1 år  2020   1062\n",
       "42     5001 Trondheim     Menn  2 år  2018   1175\n",
       "43     5001 Trondheim     Menn  2 år  2019   1159\n",
       "44     5001 Trondheim     Menn  2 år  2020   1157\n",
       "45     5001 Trondheim  Kvinner  0 år  2018   1078\n",
       "46     5001 Trondheim  Kvinner  0 år  2019   1023\n",
       "47     5001 Trondheim  Kvinner  0 år  2020   1061\n",
       "48     5001 Trondheim  Kvinner  1 år  2018   1097\n",
       "49     5001 Trondheim  Kvinner  1 år  2019   1069\n",
       "50     5001 Trondheim  Kvinner  1 år  2020   1053\n",
       "51     5001 Trondheim  Kvinner  2 år  2018   1115\n",
       "52     5001 Trondheim  Kvinner  2 år  2019   1096\n",
       "53     5001 Trondheim  Kvinner  2 år  2020   1095"
      ]
     },
     "execution_count": 14,
     "metadata": {},
     "output_type": "execute_result"
    }
   ],
   "source": [
    "befolkning_ny = befolkning[['kommune', 'kjønn', 'alder', 'år', 'value']]\n",
    "befolkning_ny"
   ]
  },
  {
   "cell_type": "markdown",
   "metadata": {},
   "source": [
    "### Kommunereformen\n",
    "\n",
    "Merk at denne spørringen i dette eksempelet bruker rene kommunenummer, og ikke K-koder for sammenslåtte kommuner i tidsserier. \n",
    "\n",
    "En spørring som inkluderer tidsserier for kommuner som er berørt av kommunereformen, kan ikke benytte \"item\". K-koder må ha agg: og navnet på aggregeringen KommSummer istedet, \"filter\": \"agg:KommSummer\". \n",
    "\n",
    "Eksempel på en spørring for Oslo og Moss. Tallene for Oslo blir de samme som om jeg hadde brukt 0301, mens tidsserien for K-3002 Moss inkluderer kommunene som inngår i nye Moss, tidligere 0104 Moss og 0136 Rygge."
   ]
  },
  {
   "cell_type": "code",
   "execution_count": 15,
   "metadata": {},
   "outputs": [],
   "source": [
    "json_q1 = {\"query\":\n",
    "           [{\"code\":\"Region\",\"selection\":{\"filter\":\"agg:KommSummer\",\"values\":[\"K-0301\",\"K-3002\"]}},\n",
    "            {\"code\":\"Kjonn\",\"selection\":{\"filter\":\"item\",\"values\":[\"1\",\"2\"]}},\n",
    "            {\"code\":\"Alder\",\"selection\":{\"filter\":\"item\",\"values\":[\"000\",\"001\",\"002\"]}},\n",
    "            {\"code\":\"ContentsCode\",\"selection\":{\"filter\":\"item\",\"values\":[\"Personer1\"]}},\n",
    "            {\"code\":\"Tid\",\"selection\":{\"filter\":\"item\",\"values\":[\"2018\",\"2019\",\"2020\"]}}\n",
    "           ],\n",
    "           \"response\":{\"format\":\"json-stat2\"}}"
   ]
  },
  {
   "cell_type": "code",
   "execution_count": null,
   "metadata": {},
   "outputs": [],
   "source": []
  }
 ],
 "metadata": {
  "kernelspec": {
   "display_name": "Python 3",
   "language": "python",
   "name": "python3"
  },
  "language_info": {
   "codemirror_mode": {
    "name": "ipython",
    "version": 3
   },
   "file_extension": ".py",
   "mimetype": "text/x-python",
   "name": "python",
   "nbconvert_exporter": "python",
   "pygments_lexer": "ipython3",
   "version": "3.8.5"
  }
 },
 "nbformat": 4,
 "nbformat_minor": 4
}
