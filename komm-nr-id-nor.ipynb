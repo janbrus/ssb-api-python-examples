{
 "cells": [
  {
   "cell_type": "markdown",
   "metadata": {},
   "source": [
    "# Hvordan lage spørring som gir både kommunenavn og kommunenummer (id) fra JSON-stat"
   ]
  },
  {
   "cell_type": "markdown",
   "metadata": {},
   "source": [
    "### Importerer biblioteker\n",
    "Bruker [pyjstat](https://pypi.org/project/pyjstat/) og Pandas. Pandas importeres som del av pyjstat."
   ]
  },
  {
   "cell_type": "code",
   "execution_count": 1,
   "metadata": {},
   "outputs": [],
   "source": [
    "from pyjstat import pyjstat\n",
    "import requests"
   ]
  },
  {
   "cell_type": "markdown",
   "metadata": {},
   "source": [
    "URL med tabellens metadata, som vi skal poste spørringen mot"
   ]
  },
  {
   "cell_type": "code",
   "execution_count": 2,
   "metadata": {},
   "outputs": [],
   "source": [
    "POST_URL = 'https://data.ssb.no/api/v0/no/table/07459'"
   ]
  },
  {
   "cell_type": "markdown",
   "metadata": {},
   "source": [
    "Spørring - kan også tas fra konsoll.\n",
    "0, 1 og 2-åringer i Oslo, Stavanger Trondheim i 2019 - 2022. (For kommuner berørt av regionreformen se lenger ned)"
   ]
  },
  {
   "cell_type": "code",
   "execution_count": 3,
   "metadata": {},
   "outputs": [],
   "source": [
    "json_q = {\"query\":[{\"code\":\"Region\",\"selection\":{\"filter\":\"item\",\"values\":[\"0301\",\"1103\",\"5001\"]}},\n",
    "                   {\"code\":\"Kjonn\",\"selection\":{\"filter\":\"item\",\"values\":[\"1\",\"2\"]}},\n",
    "                   {\"code\":\"Alder\",\"selection\":{\"filter\":\"item\",\"values\":[\"000\",\"001\",\"002\"]}},\n",
    "                   {\"code\":\"ContentsCode\",\"selection\":{\"filter\":\"item\",\"values\":[\"Personer1\"]}},\n",
    "                   {\"code\":\"Tid\",\"selection\":{\"filter\":\"item\",\"values\":[\"2019\",\"2020\", \"2021\", \"2022\"]}}\n",
    "                  ],\n",
    "          \"response\":{\"format\":\"json-stat2\"}}"
   ]
  },
  {
   "cell_type": "markdown",
   "metadata": {},
   "source": [
    "Poster spørringen"
   ]
  },
  {
   "cell_type": "code",
   "execution_count": 4,
   "metadata": {},
   "outputs": [],
   "source": [
    "res = requests.post(POST_URL, json=json_q)"
   ]
  },
  {
   "cell_type": "markdown",
   "metadata": {},
   "source": [
    "### Leser JSON-stat resultatet med biblioteket pyjstat\n",
    "Lagrer det som datasett ds."
   ]
  },
  {
   "cell_type": "code",
   "execution_count": 5,
   "metadata": {},
   "outputs": [],
   "source": [
    "ds = pyjstat.Dataset.read(res.text)"
   ]
  },
  {
   "cell_type": "code",
   "execution_count": 6,
   "metadata": {},
   "outputs": [
    {
     "data": {
      "text/plain": [
       "pyjstat.pyjstat.Dataset"
      ]
     },
     "execution_count": 6,
     "metadata": {},
     "output_type": "execute_result"
    }
   ],
   "source": [
    "type(ds)"
   ]
  },
  {
   "cell_type": "markdown",
   "metadata": {},
   "source": [
    "Se datasettet ds"
   ]
  },
  {
   "cell_type": "code",
   "execution_count": 7,
   "metadata": {},
   "outputs": [],
   "source": [
    "#ds"
   ]
  },
  {
   "cell_type": "markdown",
   "metadata": {},
   "source": [
    "### Henter noen overordnete metadata fra JSON-stat datasettet"
   ]
  },
  {
   "cell_type": "code",
   "execution_count": 8,
   "metadata": {},
   "outputs": [
    {
     "name": "stdout",
     "output_type": "stream",
     "text": [
      "07459: Befolkning, etter region, kjønn, alder, statistikkvariabel og år\n"
     ]
    }
   ],
   "source": [
    "tittel = ds['label']\n",
    "print(tittel)"
   ]
  },
  {
   "cell_type": "markdown",
   "metadata": {},
   "source": [
    "Sist Oppdatert som GMT"
   ]
  },
  {
   "cell_type": "code",
   "execution_count": 9,
   "metadata": {},
   "outputs": [
    {
     "name": "stdout",
     "output_type": "stream",
     "text": [
      "2022-02-24T07:00:00Z\n"
     ]
    }
   ],
   "source": [
    "last_update = ds['updated']\n",
    "print(last_update)"
   ]
  },
  {
   "cell_type": "markdown",
   "metadata": {},
   "source": [
    "Henter kilde"
   ]
  },
  {
   "cell_type": "code",
   "execution_count": 10,
   "metadata": {},
   "outputs": [
    {
     "name": "stdout",
     "output_type": "stream",
     "text": [
      "Statistisk sentralbyrå\n"
     ]
    }
   ],
   "source": [
    "source = ds['source']\n",
    "print(source)"
   ]
  },
  {
   "cell_type": "markdown",
   "metadata": {},
   "source": [
    "### Role gir noen snarveier, \n",
    "*men det er en liten bug i Statistikkbanken som ikke får med role - geo : 'Region' for akkurat denne tabellen, 07459*"
   ]
  },
  {
   "cell_type": "code",
   "execution_count": 11,
   "metadata": {},
   "outputs": [
    {
     "name": "stdout",
     "output_type": "stream",
     "text": [
      "OrderedDict([('time', ['Tid']), ('metric', ['ContentsCode']), ('geo', ['Region'])])\n"
     ]
    }
   ],
   "source": [
    "ds_roles = ds['role']\n",
    "print(ds_roles)"
   ]
  },
  {
   "cell_type": "markdown",
   "metadata": {},
   "source": [
    "### Lager dataframes\n",
    "Vi må lage to dataframes, en med tekst og en med koder/ID. Pyjstat tillater bare enten/eller"
   ]
  },
  {
   "cell_type": "code",
   "execution_count": 12,
   "metadata": {},
   "outputs": [],
   "source": [
    "befolkning = ds.write('dataframe')\n",
    "befolkning_id = ds.write('dataframe', naming='id')"
   ]
  },
  {
   "cell_type": "markdown",
   "metadata": {},
   "source": [
    "Lager en ny kolonne med både kommunenummer og navn slått sammen. Kommunenummer er egentlig en streng på 4 tegn. "
   ]
  },
  {
   "cell_type": "code",
   "execution_count": 13,
   "metadata": {},
   "outputs": [],
   "source": [
    "befolkning['kommune'] = befolkning_id['Region'] + ' ' + befolkning['region']"
   ]
  },
  {
   "cell_type": "markdown",
   "metadata": {},
   "source": [
    "Lager en ny dataframe som bare har med kolonnene vi ønsker, i ny rekkefølge. Merk doble [[ ]]"
   ]
  },
  {
   "cell_type": "code",
   "execution_count": 14,
   "metadata": {},
   "outputs": [
    {
     "data": {
      "text/html": [
       "<div>\n",
       "<style scoped>\n",
       "    .dataframe tbody tr th:only-of-type {\n",
       "        vertical-align: middle;\n",
       "    }\n",
       "\n",
       "    .dataframe tbody tr th {\n",
       "        vertical-align: top;\n",
       "    }\n",
       "\n",
       "    .dataframe thead th {\n",
       "        text-align: right;\n",
       "    }\n",
       "</style>\n",
       "<table border=\"1\" class=\"dataframe\">\n",
       "  <thead>\n",
       "    <tr style=\"text-align: right;\">\n",
       "      <th></th>\n",
       "      <th>kommune</th>\n",
       "      <th>kjønn</th>\n",
       "      <th>alder</th>\n",
       "      <th>år</th>\n",
       "      <th>value</th>\n",
       "    </tr>\n",
       "  </thead>\n",
       "  <tbody>\n",
       "    <tr>\n",
       "      <th>0</th>\n",
       "      <td>0301 Oslo kommune</td>\n",
       "      <td>Menn</td>\n",
       "      <td>0 år</td>\n",
       "      <td>2019</td>\n",
       "      <td>4523</td>\n",
       "    </tr>\n",
       "    <tr>\n",
       "      <th>1</th>\n",
       "      <td>0301 Oslo kommune</td>\n",
       "      <td>Menn</td>\n",
       "      <td>0 år</td>\n",
       "      <td>2020</td>\n",
       "      <td>4647</td>\n",
       "    </tr>\n",
       "    <tr>\n",
       "      <th>2</th>\n",
       "      <td>0301 Oslo kommune</td>\n",
       "      <td>Menn</td>\n",
       "      <td>0 år</td>\n",
       "      <td>2021</td>\n",
       "      <td>4498</td>\n",
       "    </tr>\n",
       "    <tr>\n",
       "      <th>3</th>\n",
       "      <td>0301 Oslo kommune</td>\n",
       "      <td>Menn</td>\n",
       "      <td>0 år</td>\n",
       "      <td>2022</td>\n",
       "      <td>4580</td>\n",
       "    </tr>\n",
       "    <tr>\n",
       "      <th>4</th>\n",
       "      <td>0301 Oslo kommune</td>\n",
       "      <td>Menn</td>\n",
       "      <td>1 år</td>\n",
       "      <td>2019</td>\n",
       "      <td>4507</td>\n",
       "    </tr>\n",
       "    <tr>\n",
       "      <th>5</th>\n",
       "      <td>0301 Oslo kommune</td>\n",
       "      <td>Menn</td>\n",
       "      <td>1 år</td>\n",
       "      <td>2020</td>\n",
       "      <td>4283</td>\n",
       "    </tr>\n",
       "    <tr>\n",
       "      <th>6</th>\n",
       "      <td>0301 Oslo kommune</td>\n",
       "      <td>Menn</td>\n",
       "      <td>1 år</td>\n",
       "      <td>2021</td>\n",
       "      <td>4320</td>\n",
       "    </tr>\n",
       "    <tr>\n",
       "      <th>7</th>\n",
       "      <td>0301 Oslo kommune</td>\n",
       "      <td>Menn</td>\n",
       "      <td>1 år</td>\n",
       "      <td>2022</td>\n",
       "      <td>4097</td>\n",
       "    </tr>\n",
       "    <tr>\n",
       "      <th>8</th>\n",
       "      <td>0301 Oslo kommune</td>\n",
       "      <td>Menn</td>\n",
       "      <td>2 år</td>\n",
       "      <td>2019</td>\n",
       "      <td>4463</td>\n",
       "    </tr>\n",
       "    <tr>\n",
       "      <th>9</th>\n",
       "      <td>0301 Oslo kommune</td>\n",
       "      <td>Menn</td>\n",
       "      <td>2 år</td>\n",
       "      <td>2020</td>\n",
       "      <td>4280</td>\n",
       "    </tr>\n",
       "    <tr>\n",
       "      <th>10</th>\n",
       "      <td>0301 Oslo kommune</td>\n",
       "      <td>Menn</td>\n",
       "      <td>2 år</td>\n",
       "      <td>2021</td>\n",
       "      <td>3973</td>\n",
       "    </tr>\n",
       "    <tr>\n",
       "      <th>11</th>\n",
       "      <td>0301 Oslo kommune</td>\n",
       "      <td>Menn</td>\n",
       "      <td>2 år</td>\n",
       "      <td>2022</td>\n",
       "      <td>4008</td>\n",
       "    </tr>\n",
       "    <tr>\n",
       "      <th>12</th>\n",
       "      <td>0301 Oslo kommune</td>\n",
       "      <td>Kvinner</td>\n",
       "      <td>0 år</td>\n",
       "      <td>2019</td>\n",
       "      <td>4479</td>\n",
       "    </tr>\n",
       "    <tr>\n",
       "      <th>13</th>\n",
       "      <td>0301 Oslo kommune</td>\n",
       "      <td>Kvinner</td>\n",
       "      <td>0 år</td>\n",
       "      <td>2020</td>\n",
       "      <td>4454</td>\n",
       "    </tr>\n",
       "    <tr>\n",
       "      <th>14</th>\n",
       "      <td>0301 Oslo kommune</td>\n",
       "      <td>Kvinner</td>\n",
       "      <td>0 år</td>\n",
       "      <td>2021</td>\n",
       "      <td>4345</td>\n",
       "    </tr>\n",
       "  </tbody>\n",
       "</table>\n",
       "</div>"
      ],
      "text/plain": [
       "              kommune    kjønn alder    år  value\n",
       "0   0301 Oslo kommune     Menn  0 år  2019   4523\n",
       "1   0301 Oslo kommune     Menn  0 år  2020   4647\n",
       "2   0301 Oslo kommune     Menn  0 år  2021   4498\n",
       "3   0301 Oslo kommune     Menn  0 år  2022   4580\n",
       "4   0301 Oslo kommune     Menn  1 år  2019   4507\n",
       "5   0301 Oslo kommune     Menn  1 år  2020   4283\n",
       "6   0301 Oslo kommune     Menn  1 år  2021   4320\n",
       "7   0301 Oslo kommune     Menn  1 år  2022   4097\n",
       "8   0301 Oslo kommune     Menn  2 år  2019   4463\n",
       "9   0301 Oslo kommune     Menn  2 år  2020   4280\n",
       "10  0301 Oslo kommune     Menn  2 år  2021   3973\n",
       "11  0301 Oslo kommune     Menn  2 år  2022   4008\n",
       "12  0301 Oslo kommune  Kvinner  0 år  2019   4479\n",
       "13  0301 Oslo kommune  Kvinner  0 år  2020   4454\n",
       "14  0301 Oslo kommune  Kvinner  0 år  2021   4345"
      ]
     },
     "execution_count": 14,
     "metadata": {},
     "output_type": "execute_result"
    }
   ],
   "source": [
    "befolkning_ny = befolkning[['kommune', 'kjønn', 'alder', 'år', 'value']]\n",
    "befolkning_ny.head(15)"
   ]
  },
  {
   "cell_type": "markdown",
   "metadata": {},
   "source": [
    "### Kommunereformen\n",
    "\n",
    "Merk at spørringen i eksempelet over bruker rene kommunenummer, og ikke K-koder for sammenslåtte kommuner i tidsserier. \n",
    "\n",
    "En spørring som inkluderer tidsserier for kommuner som er berørt av kommunereformen, kan ikke benytte \"item\". K-koder må ha **agg:** og navnet på aggregeringen KommSummer istedet, \"filter\": \"agg:KommSummer\". Benytter også \"agg:FemAarigGruppering\" på alder.\n",
    "\n",
    "Eksempel på en spørring for Oslo og Moss. Tallene for Oslo blir de samme som om jeg hadde brukt 0301, mens tidsserien for K-3002 Moss inkluderer kommunene som inngår i nye Moss, tidligere 0104 Moss og 0136 Rygge."
   ]
  },
  {
   "cell_type": "code",
   "execution_count": 15,
   "metadata": {},
   "outputs": [],
   "source": [
    "json_q1 = {\"query\":\n",
    "           [{\"code\":\"Region\",\"selection\":{\"filter\":\"agg:KommSummer\",\"values\":[\"K-0301\",\"K-3002\"]}},\n",
    "            {\"code\":\"Kjonn\",\"selection\":{\"filter\":\"item\",\"values\":[\"1\",\"2\"]}},\n",
    "            {\"code\":\"Alder\",\"selection\":{\"filter\":\"agg:FemAarigGruppering\", \"values\":[\"F00-04\", \"F05-09\"]}},\n",
    "            {\"code\":\"ContentsCode\",\"selection\":{\"filter\":\"item\",\"values\":[\"Personer1\"]}},\n",
    "            {\"code\":\"Tid\",\"selection\":{\"filter\":\"item\",\"values\":[\"2018\",\"2019\",\"2020\", \"2021\"]}}\n",
    "           ],\n",
    "           \"response\":{\"format\":\"json-stat2\"}}"
   ]
  },
  {
   "cell_type": "markdown",
   "metadata": {},
   "source": [
    "# samme som over men med ny spørring"
   ]
  },
  {
   "cell_type": "code",
   "execution_count": 16,
   "metadata": {},
   "outputs": [
    {
     "data": {
      "text/html": [
       "<div>\n",
       "<style scoped>\n",
       "    .dataframe tbody tr th:only-of-type {\n",
       "        vertical-align: middle;\n",
       "    }\n",
       "\n",
       "    .dataframe tbody tr th {\n",
       "        vertical-align: top;\n",
       "    }\n",
       "\n",
       "    .dataframe thead th {\n",
       "        text-align: right;\n",
       "    }\n",
       "</style>\n",
       "<table border=\"1\" class=\"dataframe\">\n",
       "  <thead>\n",
       "    <tr style=\"text-align: right;\">\n",
       "      <th></th>\n",
       "      <th>region</th>\n",
       "      <th>kjønn</th>\n",
       "      <th>alder</th>\n",
       "      <th>statistikkvariabel</th>\n",
       "      <th>år</th>\n",
       "      <th>value</th>\n",
       "    </tr>\n",
       "  </thead>\n",
       "  <tbody>\n",
       "    <tr>\n",
       "      <th>0</th>\n",
       "      <td>Moss</td>\n",
       "      <td>Menn</td>\n",
       "      <td>0-4 år</td>\n",
       "      <td>Personer</td>\n",
       "      <td>2018</td>\n",
       "      <td>1239</td>\n",
       "    </tr>\n",
       "    <tr>\n",
       "      <th>1</th>\n",
       "      <td>Moss</td>\n",
       "      <td>Menn</td>\n",
       "      <td>0-4 år</td>\n",
       "      <td>Personer</td>\n",
       "      <td>2019</td>\n",
       "      <td>1248</td>\n",
       "    </tr>\n",
       "    <tr>\n",
       "      <th>2</th>\n",
       "      <td>Moss</td>\n",
       "      <td>Menn</td>\n",
       "      <td>0-4 år</td>\n",
       "      <td>Personer</td>\n",
       "      <td>2020</td>\n",
       "      <td>1201</td>\n",
       "    </tr>\n",
       "    <tr>\n",
       "      <th>3</th>\n",
       "      <td>Moss</td>\n",
       "      <td>Menn</td>\n",
       "      <td>0-4 år</td>\n",
       "      <td>Personer</td>\n",
       "      <td>2021</td>\n",
       "      <td>1151</td>\n",
       "    </tr>\n",
       "    <tr>\n",
       "      <th>4</th>\n",
       "      <td>Moss</td>\n",
       "      <td>Menn</td>\n",
       "      <td>5-9 år</td>\n",
       "      <td>Personer</td>\n",
       "      <td>2018</td>\n",
       "      <td>1408</td>\n",
       "    </tr>\n",
       "  </tbody>\n",
       "</table>\n",
       "</div>"
      ],
      "text/plain": [
       "  region kjønn   alder statistikkvariabel    år  value\n",
       "0   Moss  Menn  0-4 år           Personer  2018   1239\n",
       "1   Moss  Menn  0-4 år           Personer  2019   1248\n",
       "2   Moss  Menn  0-4 år           Personer  2020   1201\n",
       "3   Moss  Menn  0-4 år           Personer  2021   1151\n",
       "4   Moss  Menn  5-9 år           Personer  2018   1408"
      ]
     },
     "execution_count": 16,
     "metadata": {},
     "output_type": "execute_result"
    }
   ],
   "source": [
    "res1 = requests.post(POST_URL, json=json_q1)\n",
    "ds1 = pyjstat.Dataset.read(res1.text)\n",
    "befolkning1 = ds1.write('dataframe')\n",
    "befolkning1.head()"
   ]
  },
  {
   "cell_type": "code",
   "execution_count": 17,
   "metadata": {},
   "outputs": [
    {
     "data": {
      "text/html": [
       "<div>\n",
       "<style scoped>\n",
       "    .dataframe tbody tr th:only-of-type {\n",
       "        vertical-align: middle;\n",
       "    }\n",
       "\n",
       "    .dataframe tbody tr th {\n",
       "        vertical-align: top;\n",
       "    }\n",
       "\n",
       "    .dataframe thead th {\n",
       "        text-align: right;\n",
       "    }\n",
       "</style>\n",
       "<table border=\"1\" class=\"dataframe\">\n",
       "  <thead>\n",
       "    <tr style=\"text-align: right;\">\n",
       "      <th></th>\n",
       "      <th>Region</th>\n",
       "      <th>Kjonn</th>\n",
       "      <th>Alder</th>\n",
       "      <th>ContentsCode</th>\n",
       "      <th>Tid</th>\n",
       "      <th>value</th>\n",
       "    </tr>\n",
       "  </thead>\n",
       "  <tbody>\n",
       "    <tr>\n",
       "      <th>0</th>\n",
       "      <td>K-3002</td>\n",
       "      <td>1</td>\n",
       "      <td>F00-04</td>\n",
       "      <td>Personer1</td>\n",
       "      <td>2018</td>\n",
       "      <td>1239</td>\n",
       "    </tr>\n",
       "    <tr>\n",
       "      <th>1</th>\n",
       "      <td>K-3002</td>\n",
       "      <td>1</td>\n",
       "      <td>F00-04</td>\n",
       "      <td>Personer1</td>\n",
       "      <td>2019</td>\n",
       "      <td>1248</td>\n",
       "    </tr>\n",
       "    <tr>\n",
       "      <th>2</th>\n",
       "      <td>K-3002</td>\n",
       "      <td>1</td>\n",
       "      <td>F00-04</td>\n",
       "      <td>Personer1</td>\n",
       "      <td>2020</td>\n",
       "      <td>1201</td>\n",
       "    </tr>\n",
       "    <tr>\n",
       "      <th>3</th>\n",
       "      <td>K-3002</td>\n",
       "      <td>1</td>\n",
       "      <td>F00-04</td>\n",
       "      <td>Personer1</td>\n",
       "      <td>2021</td>\n",
       "      <td>1151</td>\n",
       "    </tr>\n",
       "    <tr>\n",
       "      <th>4</th>\n",
       "      <td>K-3002</td>\n",
       "      <td>1</td>\n",
       "      <td>F05-09</td>\n",
       "      <td>Personer1</td>\n",
       "      <td>2018</td>\n",
       "      <td>1408</td>\n",
       "    </tr>\n",
       "  </tbody>\n",
       "</table>\n",
       "</div>"
      ],
      "text/plain": [
       "   Region Kjonn   Alder ContentsCode   Tid  value\n",
       "0  K-3002     1  F00-04    Personer1  2018   1239\n",
       "1  K-3002     1  F00-04    Personer1  2019   1248\n",
       "2  K-3002     1  F00-04    Personer1  2020   1201\n",
       "3  K-3002     1  F00-04    Personer1  2021   1151\n",
       "4  K-3002     1  F05-09    Personer1  2018   1408"
      ]
     },
     "execution_count": 17,
     "metadata": {},
     "output_type": "execute_result"
    }
   ],
   "source": [
    "befolkning_id1 = ds1.write('dataframe', naming='id')\n",
    "befolkning_id1.head()"
   ]
  },
  {
   "cell_type": "markdown",
   "metadata": {},
   "source": [
    "(...)"
   ]
  }
 ],
 "metadata": {
  "kernelspec": {
   "display_name": "Python 3 (ipykernel)",
   "language": "python",
   "name": "python3"
  },
  "language_info": {
   "codemirror_mode": {
    "name": "ipython",
    "version": 3
   },
   "file_extension": ".py",
   "mimetype": "text/x-python",
   "name": "python",
   "nbconvert_exporter": "python",
   "pygments_lexer": "ipython3",
   "version": "3.10.6"
  }
 },
 "nbformat": 4,
 "nbformat_minor": 4
}
