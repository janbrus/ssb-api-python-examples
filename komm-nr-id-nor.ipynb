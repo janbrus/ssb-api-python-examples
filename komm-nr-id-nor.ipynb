{
 "cells": [
  {
   "cell_type": "markdown",
   "metadata": {},
   "source": [
    "# Hvordan lage spørring som gir både kommunenavn og kommunenummer (id) fra JSON-stat"
   ]
  },
  {
   "cell_type": "markdown",
   "metadata": {},
   "source": [
    "### Importerer biblioteker\n",
    "Bruker [pyjstat](https://pypi.org/project/pyjstat/) og pandas. Pandas lastes som del av pyjstat"
   ]
  },
  {
   "cell_type": "code",
   "execution_count": 1,
   "metadata": {},
   "outputs": [],
   "source": [
    "from pyjstat import pyjstat\n",
    "import requests"
   ]
  },
  {
   "cell_type": "markdown",
   "metadata": {},
   "source": [
    "URL med tabellens metadata, som vi skal poste spørringen mot"
   ]
  },
  {
   "cell_type": "code",
   "execution_count": 2,
   "metadata": {},
   "outputs": [],
   "source": [
    "POST_URL = 'https://data.ssb.no/api/v0/no/table/07459'"
   ]
  },
  {
   "cell_type": "markdown",
   "metadata": {},
   "source": [
    "Spørring - kan også tas fra konsoll.\n",
    "0, 1 og 2-åringer i Oslo, Bergen Trondheim i 2018 og 2019"
   ]
  },
  {
   "cell_type": "code",
   "execution_count": 16,
   "metadata": {},
   "outputs": [],
   "source": [
    "json_q = {\"query\":[{\"code\":\"Region\",\"selection\":{\"filter\":\"item\",\"values\":[\"0301\",\"1103\",\"5001\"]}},\n",
    "                   {\"code\":\"Kjonn\",\"selection\":{\"filter\":\"item\",\"values\":[\"1\",\"2\"]}},\n",
    "                   {\"code\":\"Alder\",\"selection\":{\"filter\":\"item\",\"values\":[\"000\",\"001\",\"002\"]}},\n",
    "                   {\"code\":\"ContentsCode\",\"selection\":{\"filter\":\"item\",\"values\":[\"Personer1\"]}},\n",
    "                   {\"code\":\"Tid\",\"selection\":{\"filter\":\"item\",\"values\":[\"2018\",\"2019\",\"2020\"]}}\n",
    "                  ],\n",
    "          \"response\":{\"format\":\"json-stat2\"}}"
   ]
  },
  {
   "cell_type": "markdown",
   "metadata": {},
   "source": [
    "Poster spørringen"
   ]
  },
  {
   "cell_type": "code",
   "execution_count": 17,
   "metadata": {},
   "outputs": [],
   "source": [
    "res = requests.post(POST_URL, json=json_q)"
   ]
  },
  {
   "cell_type": "markdown",
   "metadata": {},
   "source": [
    "### Leser JSON-stat resultatet med biblioteket pyjstat\n",
    "Lagrer det som datasett ds."
   ]
  },
  {
   "cell_type": "code",
   "execution_count": 18,
   "metadata": {},
   "outputs": [],
   "source": [
    "ds = pyjstat.Dataset.read(res.text)"
   ]
  },
  {
   "cell_type": "code",
   "execution_count": 19,
   "metadata": {},
   "outputs": [
    {
     "data": {
      "text/plain": [
       "pyjstat.pyjstat.Dataset"
      ]
     },
     "execution_count": 19,
     "metadata": {},
     "output_type": "execute_result"
    }
   ],
   "source": [
    "type(ds)"
   ]
  },
  {
   "cell_type": "markdown",
   "metadata": {},
   "source": [
    "Se datasettet ds"
   ]
  },
  {
   "cell_type": "code",
   "execution_count": 20,
   "metadata": {},
   "outputs": [
    {
     "data": {
      "text/plain": [
       "Dataset([('class', 'dataset'),\n",
       "         ('label',\n",
       "          '07459: Befolkning, etter region, kjønn, alder, statistikkvariabel og år'),\n",
       "         ('source', 'Statistisk sentralbyrå'),\n",
       "         ('updated', '2020-02-27T07:00:00Z'),\n",
       "         ('id', ['Region', 'Kjonn', 'Alder', 'ContentsCode', 'Tid']),\n",
       "         ('size', [3, 2, 3, 1, 3]),\n",
       "         ('dimension',\n",
       "          OrderedDict([('Region',\n",
       "                        OrderedDict([('label', 'region'),\n",
       "                                     ('category',\n",
       "                                      OrderedDict([('index',\n",
       "                                                    OrderedDict([('0301', 0),\n",
       "                                                                 ('1103', 1),\n",
       "                                                                 ('5001',\n",
       "                                                                  2)])),\n",
       "                                                   ('label',\n",
       "                                                    OrderedDict([('0301',\n",
       "                                                                  'Oslo kommune'),\n",
       "                                                                 ('1103',\n",
       "                                                                  'Stavanger'),\n",
       "                                                                 ('5001',\n",
       "                                                                  'Trondheim')]))])),\n",
       "                                     ('link',\n",
       "                                      OrderedDict([('describedby',\n",
       "                                                    [OrderedDict([('extension',\n",
       "                                                                   OrderedDict([('Region',\n",
       "                                                                                 'urn:ssb:classification:klass:104 urn:ssb:classification:klass:131')]))])])]))])),\n",
       "                       ('Kjonn',\n",
       "                        OrderedDict([('label', 'kjønn'),\n",
       "                                     ('category',\n",
       "                                      OrderedDict([('index',\n",
       "                                                    OrderedDict([('1', 0),\n",
       "                                                                 ('2', 1)])),\n",
       "                                                   ('label',\n",
       "                                                    OrderedDict([('1', 'Menn'),\n",
       "                                                                 ('2',\n",
       "                                                                  'Kvinner')]))])),\n",
       "                                     ('link',\n",
       "                                      OrderedDict([('describedby',\n",
       "                                                    [OrderedDict([('extension',\n",
       "                                                                   OrderedDict([('Kjonn',\n",
       "                                                                                 'urn:ssb:classification:klass:2')]))])])]))])),\n",
       "                       ('Alder',\n",
       "                        OrderedDict([('label', 'alder'),\n",
       "                                     ('category',\n",
       "                                      OrderedDict([('index',\n",
       "                                                    OrderedDict([('000', 0),\n",
       "                                                                 ('001', 1),\n",
       "                                                                 ('002', 2)])),\n",
       "                                                   ('label',\n",
       "                                                    OrderedDict([('000',\n",
       "                                                                  '0 år'),\n",
       "                                                                 ('001',\n",
       "                                                                  '1 år'),\n",
       "                                                                 ('002',\n",
       "                                                                  '2 år')]))])),\n",
       "                                     ('link',\n",
       "                                      OrderedDict([('describedby',\n",
       "                                                    [OrderedDict([('extension',\n",
       "                                                                   OrderedDict([('Alder',\n",
       "                                                                                 'urn:ssb:classification:klass:282')]))])])]))])),\n",
       "                       ('ContentsCode',\n",
       "                        OrderedDict([('label', 'statistikkvariabel'),\n",
       "                                     ('category',\n",
       "                                      OrderedDict([('index',\n",
       "                                                    OrderedDict([('Personer1',\n",
       "                                                                  0)])),\n",
       "                                                   ('label',\n",
       "                                                    OrderedDict([('Personer1',\n",
       "                                                                  'Personer')])),\n",
       "                                                   ('unit',\n",
       "                                                    OrderedDict([('Personer1',\n",
       "                                                                  OrderedDict([('base',\n",
       "                                                                                'personer'),\n",
       "                                                                               ('decimals',\n",
       "                                                                                0)]))]))]))])),\n",
       "                       ('Tid',\n",
       "                        OrderedDict([('label', 'år'),\n",
       "                                     ('category',\n",
       "                                      OrderedDict([('index',\n",
       "                                                    OrderedDict([('2018', 0),\n",
       "                                                                 ('2019', 1),\n",
       "                                                                 ('2020',\n",
       "                                                                  2)])),\n",
       "                                                   ('label',\n",
       "                                                    OrderedDict([('2018',\n",
       "                                                                  '2018'),\n",
       "                                                                 ('2019',\n",
       "                                                                  '2019'),\n",
       "                                                                 ('2020',\n",
       "                                                                  '2020')]))]))]))])),\n",
       "         ('value',\n",
       "          [4779,\n",
       "           4523,\n",
       "           4647,\n",
       "           4709,\n",
       "           4507,\n",
       "           4283,\n",
       "           4498,\n",
       "           4463,\n",
       "           4280,\n",
       "           4456,\n",
       "           4479,\n",
       "           4454,\n",
       "           4362,\n",
       "           4186,\n",
       "           4159,\n",
       "           4015,\n",
       "           4144,\n",
       "           3975,\n",
       "           835,\n",
       "           770,\n",
       "           842,\n",
       "           846,\n",
       "           822,\n",
       "           816,\n",
       "           860,\n",
       "           846,\n",
       "           868,\n",
       "           826,\n",
       "           766,\n",
       "           760,\n",
       "           838,\n",
       "           816,\n",
       "           807,\n",
       "           826,\n",
       "           821,\n",
       "           871,\n",
       "           1132,\n",
       "           1059,\n",
       "           1194,\n",
       "           1181,\n",
       "           1117,\n",
       "           1062,\n",
       "           1175,\n",
       "           1159,\n",
       "           1157,\n",
       "           1078,\n",
       "           1023,\n",
       "           1061,\n",
       "           1097,\n",
       "           1069,\n",
       "           1053,\n",
       "           1115,\n",
       "           1096,\n",
       "           1095]),\n",
       "         ('role',\n",
       "          OrderedDict([('time', ['Tid']), ('metric', ['ContentsCode'])])),\n",
       "         ('version', '2.0')])"
      ]
     },
     "execution_count": 20,
     "metadata": {},
     "output_type": "execute_result"
    }
   ],
   "source": [
    "ds"
   ]
  },
  {
   "cell_type": "markdown",
   "metadata": {},
   "source": [
    "### Henter noen overordnete metadata fra JSON-stat datasettet"
   ]
  },
  {
   "cell_type": "code",
   "execution_count": 21,
   "metadata": {},
   "outputs": [
    {
     "name": "stdout",
     "output_type": "stream",
     "text": [
      "07459: Befolkning, etter region, kjønn, alder, statistikkvariabel og år\n"
     ]
    }
   ],
   "source": [
    "tittel = ds['label']\n",
    "print(tittel)"
   ]
  },
  {
   "cell_type": "markdown",
   "metadata": {},
   "source": [
    "Sist Oppdatert som GMT"
   ]
  },
  {
   "cell_type": "code",
   "execution_count": 22,
   "metadata": {},
   "outputs": [
    {
     "name": "stdout",
     "output_type": "stream",
     "text": [
      "2020-02-27T07:00:00Z\n"
     ]
    }
   ],
   "source": [
    "last_update = ds['updated']\n",
    "print(last_update)"
   ]
  },
  {
   "cell_type": "markdown",
   "metadata": {},
   "source": [
    "Henter kilde"
   ]
  },
  {
   "cell_type": "code",
   "execution_count": 23,
   "metadata": {},
   "outputs": [
    {
     "name": "stdout",
     "output_type": "stream",
     "text": [
      "Statistisk sentralbyrå\n"
     ]
    }
   ],
   "source": [
    "source = ds['source']\n",
    "print(source)"
   ]
  },
  {
   "cell_type": "markdown",
   "metadata": {},
   "source": [
    "### Role gir noen snarveier, \n",
    "*men det er en liten bug i Statistikkbanken som ikke får med role - geo : 'Region' for denne tabellen*"
   ]
  },
  {
   "cell_type": "code",
   "execution_count": 24,
   "metadata": {},
   "outputs": [
    {
     "name": "stdout",
     "output_type": "stream",
     "text": [
      "OrderedDict([('time', ['Tid']), ('metric', ['ContentsCode'])])\n"
     ]
    }
   ],
   "source": [
    "ds_roles = ds['role']\n",
    "print(ds_roles)"
   ]
  },
  {
   "cell_type": "markdown",
   "metadata": {},
   "source": [
    "### Lager dataframes\n",
    "Vi må lage to dataframes, en med tekst og en med ID. Pyjstat tillater bare enten/eller"
   ]
  },
  {
   "cell_type": "code",
   "execution_count": 25,
   "metadata": {},
   "outputs": [],
   "source": [
    "befolkning = ds.write('dataframe')\n",
    "befolkning_id = ds.write('dataframe', naming='id')"
   ]
  },
  {
   "cell_type": "markdown",
   "metadata": {},
   "source": [
    "Lager en ny kolonne med både kommunenummer og navn slått sammen"
   ]
  },
  {
   "cell_type": "code",
   "execution_count": 26,
   "metadata": {},
   "outputs": [],
   "source": [
    "befolkning['kommune'] = befolkning_id['Region'] + ' ' + befolkning['region']"
   ]
  },
  {
   "cell_type": "markdown",
   "metadata": {},
   "source": [
    "Lager en ny dataframe som bare har med kolonnene vi ønsker, i ny rekkefølge. Merk doble [[ ]]"
   ]
  },
  {
   "cell_type": "code",
   "execution_count": 27,
   "metadata": {},
   "outputs": [],
   "source": [
    "befolkning_ny = befolkning[['kommune', 'kjønn', 'alder', 'år', 'value']]"
   ]
  },
  {
   "cell_type": "code",
   "execution_count": 28,
   "metadata": {},
   "outputs": [
    {
     "name": "stdout",
     "output_type": "stream",
     "text": [
      "              kommune    kjønn alder    år  value\n",
      "0   0301 Oslo kommune     Menn  0 år  2018   4779\n",
      "1   0301 Oslo kommune     Menn  0 år  2019   4523\n",
      "2   0301 Oslo kommune     Menn  0 år  2020   4647\n",
      "3   0301 Oslo kommune     Menn  1 år  2018   4709\n",
      "4   0301 Oslo kommune     Menn  1 år  2019   4507\n",
      "5   0301 Oslo kommune     Menn  1 år  2020   4283\n",
      "6   0301 Oslo kommune     Menn  2 år  2018   4498\n",
      "7   0301 Oslo kommune     Menn  2 år  2019   4463\n",
      "8   0301 Oslo kommune     Menn  2 år  2020   4280\n",
      "9   0301 Oslo kommune  Kvinner  0 år  2018   4456\n",
      "10  0301 Oslo kommune  Kvinner  0 år  2019   4479\n",
      "11  0301 Oslo kommune  Kvinner  0 år  2020   4454\n",
      "12  0301 Oslo kommune  Kvinner  1 år  2018   4362\n",
      "13  0301 Oslo kommune  Kvinner  1 år  2019   4186\n",
      "14  0301 Oslo kommune  Kvinner  1 år  2020   4159\n",
      "15  0301 Oslo kommune  Kvinner  2 år  2018   4015\n",
      "16  0301 Oslo kommune  Kvinner  2 år  2019   4144\n",
      "17  0301 Oslo kommune  Kvinner  2 år  2020   3975\n",
      "18     1103 Stavanger     Menn  0 år  2018    835\n",
      "19     1103 Stavanger     Menn  0 år  2019    770\n",
      "20     1103 Stavanger     Menn  0 år  2020    842\n",
      "21     1103 Stavanger     Menn  1 år  2018    846\n",
      "22     1103 Stavanger     Menn  1 år  2019    822\n",
      "23     1103 Stavanger     Menn  1 år  2020    816\n",
      "24     1103 Stavanger     Menn  2 år  2018    860\n",
      "25     1103 Stavanger     Menn  2 år  2019    846\n",
      "26     1103 Stavanger     Menn  2 år  2020    868\n",
      "27     1103 Stavanger  Kvinner  0 år  2018    826\n",
      "28     1103 Stavanger  Kvinner  0 år  2019    766\n",
      "29     1103 Stavanger  Kvinner  0 år  2020    760\n",
      "30     1103 Stavanger  Kvinner  1 år  2018    838\n",
      "31     1103 Stavanger  Kvinner  1 år  2019    816\n",
      "32     1103 Stavanger  Kvinner  1 år  2020    807\n",
      "33     1103 Stavanger  Kvinner  2 år  2018    826\n",
      "34     1103 Stavanger  Kvinner  2 år  2019    821\n",
      "35     1103 Stavanger  Kvinner  2 år  2020    871\n",
      "36     5001 Trondheim     Menn  0 år  2018   1132\n",
      "37     5001 Trondheim     Menn  0 år  2019   1059\n",
      "38     5001 Trondheim     Menn  0 år  2020   1194\n",
      "39     5001 Trondheim     Menn  1 år  2018   1181\n",
      "40     5001 Trondheim     Menn  1 år  2019   1117\n",
      "41     5001 Trondheim     Menn  1 år  2020   1062\n",
      "42     5001 Trondheim     Menn  2 år  2018   1175\n",
      "43     5001 Trondheim     Menn  2 år  2019   1159\n",
      "44     5001 Trondheim     Menn  2 år  2020   1157\n",
      "45     5001 Trondheim  Kvinner  0 år  2018   1078\n",
      "46     5001 Trondheim  Kvinner  0 år  2019   1023\n",
      "47     5001 Trondheim  Kvinner  0 år  2020   1061\n",
      "48     5001 Trondheim  Kvinner  1 år  2018   1097\n",
      "49     5001 Trondheim  Kvinner  1 år  2019   1069\n",
      "50     5001 Trondheim  Kvinner  1 år  2020   1053\n",
      "51     5001 Trondheim  Kvinner  2 år  2018   1115\n",
      "52     5001 Trondheim  Kvinner  2 år  2019   1096\n",
      "53     5001 Trondheim  Kvinner  2 år  2020   1095\n"
     ]
    }
   ],
   "source": [
    "print(befolkning_ny)"
   ]
  },
  {
   "cell_type": "markdown",
   "metadata": {},
   "source": [
    "### Kommunereformen\n",
    "\n",
    "Merk at denne spørringen i dette eksempelet bruker rene kommunenummer, og ikke K-koder for sammenslåtte kommuner i tidsserier. \n",
    "\n",
    "En spørring som inkluderer tidsserier for kommuner som er berørt av kommunereformen, kan ikke benytte \"item\". K-koder må ha agg: og navnet på aggregeringen KommSummer istedet, \"filter\": \"agg:KommSummer\". \n",
    "\n",
    "Eksempel på en spørring for Oslo og Halden. Tallene for Oslo er de samme, mens tidsserien for Halden inkluderer kommunene som inngår i nye Halden."
   ]
  },
  {
   "cell_type": "code",
   "execution_count": 29,
   "metadata": {},
   "outputs": [],
   "source": [
    "json_q1 = {\"query\":\n",
    "           [{\"code\":\"Region\",\"selection\":{\"filter\":\"agg:KommSummer\",\"values\":[\"K-0301\",\"K-3001\"]}},\n",
    "            {\"code\":\"Kjonn\",\"selection\":{\"filter\":\"item\",\"values\":[\"1\",\"2\"]}},\n",
    "            {\"code\":\"Alder\",\"selection\":{\"filter\":\"item\",\"values\":[\"000\",\"001\",\"002\"]}},\n",
    "            {\"code\":\"ContentsCode\",\"selection\":{\"filter\":\"item\",\"values\":[\"Personer1\"]}},\n",
    "            {\"code\":\"Tid\",\"selection\":{\"filter\":\"item\",\"values\":[\"2018\",\"2019\",\"2020\"]}}\n",
    "           ],\n",
    "           \"response\":{\"format\":\"json-stat2\"}}"
   ]
  },
  {
   "cell_type": "code",
   "execution_count": null,
   "metadata": {},
   "outputs": [],
   "source": []
  }
 ],
 "metadata": {
  "kernelspec": {
   "display_name": "Python 3",
   "language": "python",
   "name": "python3"
  },
  "language_info": {
   "codemirror_mode": {
    "name": "ipython",
    "version": 3
   },
   "file_extension": ".py",
   "mimetype": "text/x-python",
   "name": "python",
   "nbconvert_exporter": "python",
   "pygments_lexer": "ipython3",
   "version": "3.8.5"
  }
 },
 "nbformat": 4,
 "nbformat_minor": 4
}
