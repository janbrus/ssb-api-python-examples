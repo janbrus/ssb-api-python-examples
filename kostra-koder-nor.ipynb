{
 "cells": [
  {
   "cell_type": "markdown",
   "metadata": {
    "cell_id": "eb745bba-34e0-454d-af7f-f589b315ed9e"
   },
   "source": [
    "# Hente KOSTRA koder for arter og funksjoner via Klass API"
   ]
  },
  {
   "cell_type": "markdown",
   "metadata": {
    "cell_id": "f113a0af-03c8-487e-89b3-8d01619396b5",
    "tags": []
   },
   "source": [
    "### Importerer nødvendige biblioteker"
   ]
  },
  {
   "cell_type": "code",
   "execution_count": 1,
   "metadata": {
    "cell_id": "670507b8-9460-443e-8c4b-cfb5211583ca"
   },
   "outputs": [],
   "source": [
    "import pandas as pd\n",
    "import requests"
   ]
  },
  {
   "cell_type": "markdown",
   "metadata": {
    "cell_id": "825623b5-b0ca-4400-a26b-28d6e260ac5d",
    "tags": []
   },
   "source": [
    "### Hente data fra json url og se innholdet"
   ]
  },
  {
   "cell_type": "code",
   "execution_count": 2,
   "metadata": {
    "cell_id": "98045048-15fc-42c1-aa2c-8180733823a6"
   },
   "outputs": [],
   "source": [
    "url = 'https://data.ssb.no/api/klass/v1/versions/795.json' # regnskapsarter versjon 2016- \n",
    "\n",
    "# 'http://data.ssb.no/api/klass/v1/versions/1204.json' - regnskapsfunksjoner 2019-\n",
    "# 'http://data.ssb.no/api/klass/v1/versions/795.json' # regnskapsarter versjon 2016- "
   ]
  },
  {
   "cell_type": "code",
   "execution_count": 3,
   "metadata": {
    "cell_id": "fc52b65d-83df-4927-a41f-8f19ce365bd1"
   },
   "outputs": [],
   "source": [
    "r = requests.get(url = url)"
   ]
  },
  {
   "cell_type": "code",
   "execution_count": 4,
   "metadata": {
    "cell_id": "84c979b9-efb5-484d-b116-d967b78c30e1"
   },
   "outputs": [
    {
     "data": {
      "text/plain": [
       "requests.models.Response"
      ]
     },
     "execution_count": 4,
     "metadata": {},
     "output_type": "execute_result"
    }
   ],
   "source": [
    "type(r)"
   ]
  },
  {
   "cell_type": "markdown",
   "metadata": {
    "cell_id": "ebc9ca4e-ec82-41fb-b920-b2251271f939"
   },
   "source": [
    "### Det enkleste her er å bruke request for json() for å konvertere det til en dictionary"
   ]
  },
  {
   "cell_type": "code",
   "execution_count": 5,
   "metadata": {
    "cell_id": "71236af8-f076-493e-90e0-5fda1d08a57b"
   },
   "outputs": [],
   "source": [
    "# request av json og se evt. på innholdet\n",
    "dataset = r.json()\n",
    "# dataset "
   ]
  },
  {
   "cell_type": "code",
   "execution_count": 6,
   "metadata": {
    "cell_id": "67a4b7ad-6943-40f6-b61e-e14679be37c9"
   },
   "outputs": [
    {
     "data": {
      "text/plain": [
       "dict"
      ]
     },
     "execution_count": 6,
     "metadata": {},
     "output_type": "execute_result"
    }
   ],
   "source": [
    "# sjekke at uttrekket er endret fra json til en dictionary (dict)\n",
    "type(dataset)"
   ]
  },
  {
   "cell_type": "markdown",
   "metadata": {
    "cell_id": "f76feaa0-cfdd-4f69-b50c-a99cdb8e8c36"
   },
   "source": [
    "### Begrenser uttrekket til dimensjonen med classificationItems og henter noen få felt til dataframe df"
   ]
  },
  {
   "cell_type": "code",
   "execution_count": 7,
   "metadata": {
    "cell_id": "bfdf490b-cbcf-4cea-9e1f-95293305bb7b"
   },
   "outputs": [],
   "source": [
    "classItems = (dataset['classificationItems'])"
   ]
  },
  {
   "cell_type": "code",
   "execution_count": 8,
   "metadata": {},
   "outputs": [
    {
     "data": {
      "text/plain": [
       "{'code': '010',\n",
       " 'parentCode': '',\n",
       " 'level': '1',\n",
       " 'name': 'Fastlønn',\n",
       " 'shortName': None,\n",
       " 'notes': ''}"
      ]
     },
     "execution_count": 8,
     "metadata": {},
     "output_type": "execute_result"
    }
   ],
   "source": [
    "classItems[0]"
   ]
  },
  {
   "cell_type": "code",
   "execution_count": 9,
   "metadata": {
    "cell_id": "ba406fdf-a2de-49d6-9b68-8e1d0b50542b"
   },
   "outputs": [],
   "source": [
    "df = pd.DataFrame(classItems, columns =['code', 'name', 'notes'])"
   ]
  },
  {
   "cell_type": "code",
   "execution_count": 10,
   "metadata": {
    "cell_id": "e8a1de22-f36a-4d90-be3a-66bf8005989b"
   },
   "outputs": [
    {
     "data": {
      "text/html": [
       "<div>\n",
       "<style scoped>\n",
       "    .dataframe tbody tr th:only-of-type {\n",
       "        vertical-align: middle;\n",
       "    }\n",
       "\n",
       "    .dataframe tbody tr th {\n",
       "        vertical-align: top;\n",
       "    }\n",
       "\n",
       "    .dataframe thead th {\n",
       "        text-align: right;\n",
       "    }\n",
       "</style>\n",
       "<table border=\"1\" class=\"dataframe\">\n",
       "  <thead>\n",
       "    <tr style=\"text-align: right;\">\n",
       "      <th></th>\n",
       "      <th>code</th>\n",
       "      <th>name</th>\n",
       "      <th>notes</th>\n",
       "    </tr>\n",
       "  </thead>\n",
       "  <tbody>\n",
       "    <tr>\n",
       "      <th>0</th>\n",
       "      <td>010</td>\n",
       "      <td>Fastlønn</td>\n",
       "      <td></td>\n",
       "    </tr>\n",
       "    <tr>\n",
       "      <th>1</th>\n",
       "      <td>020</td>\n",
       "      <td>Lønn til vikarer</td>\n",
       "      <td></td>\n",
       "    </tr>\n",
       "    <tr>\n",
       "      <th>2</th>\n",
       "      <td>030</td>\n",
       "      <td>Lønn til ekstrahjelp</td>\n",
       "      <td></td>\n",
       "    </tr>\n",
       "    <tr>\n",
       "      <th>3</th>\n",
       "      <td>040</td>\n",
       "      <td>Overtidslønn</td>\n",
       "      <td></td>\n",
       "    </tr>\n",
       "    <tr>\n",
       "      <th>4</th>\n",
       "      <td>050</td>\n",
       "      <td>Annen lønn og trekkpliktige godtgjørelser</td>\n",
       "      <td></td>\n",
       "    </tr>\n",
       "  </tbody>\n",
       "</table>\n",
       "</div>"
      ],
      "text/plain": [
       "  code                                       name notes\n",
       "0  010                                   Fastlønn      \n",
       "1  020                           Lønn til vikarer      \n",
       "2  030                       Lønn til ekstrahjelp      \n",
       "3  040                               Overtidslønn      \n",
       "4  050  Annen lønn og trekkpliktige godtgjørelser      "
      ]
     },
     "execution_count": 10,
     "metadata": {},
     "output_type": "execute_result"
    }
   ],
   "source": [
    "# se på de første 5 radene av dataframe ved å bruke .head()\n",
    "df.head()"
   ]
  },
  {
   "cell_type": "code",
   "execution_count": 11,
   "metadata": {
    "cell_id": "6adfb570-3cf6-4d14-91a1-e44ab1a937d2"
   },
   "outputs": [
    {
     "data": {
      "text/html": [
       "<div>\n",
       "<style scoped>\n",
       "    .dataframe tbody tr th:only-of-type {\n",
       "        vertical-align: middle;\n",
       "    }\n",
       "\n",
       "    .dataframe tbody tr th {\n",
       "        vertical-align: top;\n",
       "    }\n",
       "\n",
       "    .dataframe thead th {\n",
       "        text-align: right;\n",
       "    }\n",
       "</style>\n",
       "<table border=\"1\" class=\"dataframe\">\n",
       "  <thead>\n",
       "    <tr style=\"text-align: right;\">\n",
       "      <th></th>\n",
       "      <th>code</th>\n",
       "      <th>name</th>\n",
       "      <th>notes</th>\n",
       "    </tr>\n",
       "  </thead>\n",
       "  <tbody>\n",
       "    <tr>\n",
       "      <th>280</th>\n",
       "      <td>AGI30</td>\n",
       "      <td>Salgsinntekter (i investering)</td>\n",
       "      <td>Begrepet viser (fylkes-)kommunens salgsinntekt...</td>\n",
       "    </tr>\n",
       "    <tr>\n",
       "      <th>281</th>\n",
       "      <td>AGI31</td>\n",
       "      <td>Refusjons- og overføringsinntekter inkl. rente...</td>\n",
       "      <td>Begrepet viser refusjons- og overføringsinntek...</td>\n",
       "    </tr>\n",
       "    <tr>\n",
       "      <th>282</th>\n",
       "      <td>AGI32</td>\n",
       "      <td>Sum finansieringstransaksjoner (C )</td>\n",
       "      <td>Begrepet omfatter (fylkes-)kommunens finansier...</td>\n",
       "    </tr>\n",
       "    <tr>\n",
       "      <th>283</th>\n",
       "      <td>AGI33</td>\n",
       "      <td>Finansieringsbehov (D= B+C+A)</td>\n",
       "      <td>Begrepet beskriver (fylkes-)kommunens finansie...</td>\n",
       "    </tr>\n",
       "    <tr>\n",
       "      <th>284</th>\n",
       "      <td>AGI34</td>\n",
       "      <td>Sum finansiering (E )</td>\n",
       "      <td>Begrepet viser hvordan (fylkes-)kommunen finan...</td>\n",
       "    </tr>\n",
       "    <tr>\n",
       "      <th>285</th>\n",
       "      <td>AGI35</td>\n",
       "      <td>Udekket/udisponert (F=D-E)</td>\n",
       "      <td>Begrepet omfatter (fylkes-)kommunens resultat ...</td>\n",
       "    </tr>\n",
       "    <tr>\n",
       "      <th>286</th>\n",
       "      <td>AGI36</td>\n",
       "      <td>Bruk av lån inkl. aksjer, andeler og utlån (ne...</td>\n",
       "      <td>Begrepet omfatter netto bruk av lån inkludert ...</td>\n",
       "    </tr>\n",
       "    <tr>\n",
       "      <th>287</th>\n",
       "      <td>AGI37</td>\n",
       "      <td>Kjøp av tjenester som erstatter (fylkes-)kommu...</td>\n",
       "      <td>Begrepet omfatter alle utgifter i investerings...</td>\n",
       "    </tr>\n",
       "    <tr>\n",
       "      <th>288</th>\n",
       "      <td>AGID1</td>\n",
       "      <td>Overskudd før lån og avsetninger</td>\n",
       "      <td>Begrepet omfatter brutto driftsresultat inkl. ...</td>\n",
       "    </tr>\n",
       "    <tr>\n",
       "      <th>289</th>\n",
       "      <td>AGID2</td>\n",
       "      <td>Bruk av fond/avsetning til fond, drift og inve...</td>\n",
       "      <td>Begrepet omfatter bruk av fond minus avsetning...</td>\n",
       "    </tr>\n",
       "    <tr>\n",
       "      <th>290</th>\n",
       "      <td>AI620</td>\n",
       "      <td>Annet salg av varer og tjenester, gebyrer o.l....</td>\n",
       "      <td></td>\n",
       "    </tr>\n",
       "    <tr>\n",
       "      <th>291</th>\n",
       "      <td>AI660</td>\n",
       "      <td>Salg av driftsmidler (i investeringsregnskapet</td>\n",
       "      <td></td>\n",
       "    </tr>\n",
       "    <tr>\n",
       "      <th>292</th>\n",
       "      <td>AI729</td>\n",
       "      <td>Kompensasjon for merverdiavgift i investerings...</td>\n",
       "      <td></td>\n",
       "    </tr>\n",
       "    <tr>\n",
       "      <th>293</th>\n",
       "      <td>AI770</td>\n",
       "      <td>Refusjon fra andre (private) (I)</td>\n",
       "      <td></td>\n",
       "    </tr>\n",
       "    <tr>\n",
       "      <th>294</th>\n",
       "      <td>AI905</td>\n",
       "      <td>Utbytte og eieruttak</td>\n",
       "      <td></td>\n",
       "    </tr>\n",
       "  </tbody>\n",
       "</table>\n",
       "</div>"
      ],
      "text/plain": [
       "      code                                               name  \\\n",
       "280  AGI30                     Salgsinntekter (i investering)   \n",
       "281  AGI31  Refusjons- og overføringsinntekter inkl. rente...   \n",
       "282  AGI32                Sum finansieringstransaksjoner (C )   \n",
       "283  AGI33                      Finansieringsbehov (D= B+C+A)   \n",
       "284  AGI34                              Sum finansiering (E )   \n",
       "285  AGI35                         Udekket/udisponert (F=D-E)   \n",
       "286  AGI36  Bruk av lån inkl. aksjer, andeler og utlån (ne...   \n",
       "287  AGI37  Kjøp av tjenester som erstatter (fylkes-)kommu...   \n",
       "288  AGID1                   Overskudd før lån og avsetninger   \n",
       "289  AGID2  Bruk av fond/avsetning til fond, drift og inve...   \n",
       "290  AI620  Annet salg av varer og tjenester, gebyrer o.l....   \n",
       "291  AI660     Salg av driftsmidler (i investeringsregnskapet   \n",
       "292  AI729  Kompensasjon for merverdiavgift i investerings...   \n",
       "293  AI770                   Refusjon fra andre (private) (I)   \n",
       "294  AI905                               Utbytte og eieruttak   \n",
       "\n",
       "                                                 notes  \n",
       "280  Begrepet viser (fylkes-)kommunens salgsinntekt...  \n",
       "281  Begrepet viser refusjons- og overføringsinntek...  \n",
       "282  Begrepet omfatter (fylkes-)kommunens finansier...  \n",
       "283  Begrepet beskriver (fylkes-)kommunens finansie...  \n",
       "284  Begrepet viser hvordan (fylkes-)kommunen finan...  \n",
       "285  Begrepet omfatter (fylkes-)kommunens resultat ...  \n",
       "286  Begrepet omfatter netto bruk av lån inkludert ...  \n",
       "287  Begrepet omfatter alle utgifter i investerings...  \n",
       "288  Begrepet omfatter brutto driftsresultat inkl. ...  \n",
       "289  Begrepet omfatter bruk av fond minus avsetning...  \n",
       "290                                                     \n",
       "291                                                     \n",
       "292                                                     \n",
       "293                                                     \n",
       "294                                                     "
      ]
     },
     "execution_count": 11,
     "metadata": {},
     "output_type": "execute_result"
    }
   ],
   "source": [
    "# se på de 15 siste radene av dataframe ved å bruke .tail()\n",
    "df.tail(15)"
   ]
  }
 ],
 "metadata": {
  "deepnote_execution_queue": [],
  "deepnote_notebook_id": "bcdd9619-5192-4443-834f-658888f84d77",
  "kernelspec": {
   "display_name": "Python 3 (ipykernel)",
   "language": "python",
   "name": "python3"
  },
  "language_info": {
   "codemirror_mode": {
    "name": "ipython",
    "version": 3
   },
   "file_extension": ".py",
   "mimetype": "text/x-python",
   "name": "python",
   "nbconvert_exporter": "python",
   "pygments_lexer": "ipython3",
   "version": "3.10.6"
  }
 },
 "nbformat": 4,
 "nbformat_minor": 4
}
