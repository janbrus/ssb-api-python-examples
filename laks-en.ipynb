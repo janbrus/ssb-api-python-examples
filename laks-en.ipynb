{
 "cells": [
  {
   "cell_type": "markdown",
   "metadata": {},
   "source": [
    "# SSB API: Create your own dataset - http POST eksempel\n",
    "\n",
    "### How to use PxWebApi and our reccommended output format JSON-stat \n",
    "We show the dataset Export of salmon by week using Matplotlib\n"
   ]
  },
  {
   "cell_type": "markdown",
   "metadata": {},
   "source": [
    " [pyjstat](https://pypi.org/project/pyjstat/) is a package made for the JSON-stat format, and includes Pandas as pd. (pip install pyjstat)"
   ]
  },
  {
   "cell_type": "code",
   "execution_count": 1,
   "metadata": {},
   "outputs": [],
   "source": [
    "#Show chart inside of the notebook\n",
    "%matplotlib inline \n",
    "import requests\n",
    "from pyjstat import pyjstat"
   ]
  },
  {
   "cell_type": "code",
   "execution_count": 2,
   "metadata": {},
   "outputs": [],
   "source": [
    "def findfreq(ts):\n",
    "    frekvenser = ['måned', 'kvartal', 'uke', 'år', 'year', 'quarter', 'month', 'week']\n",
    "    frekvens = ''\n",
    "    frek_no = ''\n",
    "    freq_en = ''\n",
    "    for w in ts.columns:\n",
    "        if w in frekvenser:\n",
    "            frekvens = w\n",
    "                   \n",
    "    if frekvens == ('måned') or ('month'):\n",
    "        frek_no = 'M'\n",
    "        freq_en = 'M'\n",
    "    elif frekvens == ('kvartal') or ('quarter'):\n",
    "        frek_no = 'K'\n",
    "        frek_en = 'Q'\n",
    "    elif frekvens == ('uke') or ('week'):\n",
    "        frek_no = 'U'\n",
    "        frek_en = 'W'\n",
    "    else:\n",
    "        frek_no = ''\n",
    "        frek_en = 'A'\n",
    "    return frekvens, frek_no, freq_en"
   ]
  },
  {
   "cell_type": "markdown",
   "metadata": {},
   "source": [
    "POST URL for the query. Only the URL returns metadata for the table. Here the table is Export of salmon"
   ]
  },
  {
   "cell_type": "code",
   "execution_count": 3,
   "metadata": {},
   "outputs": [],
   "source": [
    "EXAMPLE_URL = 'http://data.ssb.no/api/v0/en/table/03024'"
   ]
  },
  {
   "cell_type": "markdown",
   "metadata": {},
   "source": [
    "JSON Spørring, siste 53 uker. Kan tas fra konsoll."
   ]
  },
  {
   "cell_type": "code",
   "execution_count": 4,
   "metadata": {},
   "outputs": [],
   "source": [
    "payload = {\n",
    "    \"query\": [\n",
    "        {\n",
    "            \"code\": \"VareGrupper2\",\n",
    "            \"selection\": {\n",
    "                \"filter\": \"item\",\n",
    "                \"values\": [\"01\",\"02\"]\n",
    "            }\n",
    "        },\n",
    "        {\n",
    "            \"code\": \"ContentsCode\",\n",
    "            \"selection\": {\n",
    "                \"filter\": \"item\",\n",
    "                \"values\": [\"Vekt\", \"Kilopris\"]\n",
    "            }\n",
    "        },\n",
    "        {\n",
    "            \"code\": \"Tid\",\n",
    "            \"selection\": {\n",
    "                \"filter\": \"top\",\n",
    "                \"values\": [\"53\"]\n",
    "            }\n",
    "        }\n",
    "    ],\n",
    "    \"response\": {\n",
    "        \"format\": \"json-stat2\"\n",
    "    }\n",
    "}"
   ]
  },
  {
   "cell_type": "markdown",
   "metadata": {},
   "source": [
    "POST payload"
   ]
  },
  {
   "cell_type": "code",
   "execution_count": 5,
   "metadata": {},
   "outputs": [],
   "source": [
    "result = requests.post(EXAMPLE_URL, json = payload)"
   ]
  },
  {
   "cell_type": "markdown",
   "metadata": {},
   "source": [
    "Print resultat returns only http status code. Should be 200 if OK."
   ]
  },
  {
   "cell_type": "code",
   "execution_count": 6,
   "metadata": {},
   "outputs": [
    {
     "name": "stdout",
     "output_type": "stream",
     "text": [
      "<Response [200]>\n"
     ]
    }
   ],
   "source": [
    "print(result)"
   ]
  },
  {
   "cell_type": "markdown",
   "metadata": {},
   "source": [
    "The rest of result is in the object dataset"
   ]
  },
  {
   "cell_type": "code",
   "execution_count": 7,
   "metadata": {},
   "outputs": [],
   "source": [
    "dataset = pyjstat.Dataset.read(result.text)"
   ]
  },
  {
   "cell_type": "code",
   "execution_count": 8,
   "metadata": {},
   "outputs": [
    {
     "data": {
      "text/plain": [
       "pyjstat.pyjstat.Dataset"
      ]
     },
     "execution_count": 8,
     "metadata": {},
     "output_type": "execute_result"
    }
   ],
   "source": [
    "type(dataset)"
   ]
  },
  {
   "cell_type": "markdown",
   "metadata": {},
   "source": [
    "The dataset is written to a Pandas dataframe.  "
   ]
  },
  {
   "cell_type": "code",
   "execution_count": 9,
   "metadata": {},
   "outputs": [],
   "source": [
    "df = dataset.write('dataframe')"
   ]
  },
  {
   "cell_type": "markdown",
   "metadata": {},
   "source": [
    "Information about the dataframe "
   ]
  },
  {
   "cell_type": "code",
   "execution_count": 10,
   "metadata": {},
   "outputs": [
    {
     "name": "stdout",
     "output_type": "stream",
     "text": [
      "<class 'pandas.core.frame.DataFrame'>\n",
      "RangeIndex: 212 entries, 0 to 211\n",
      "Data columns (total 4 columns):\n",
      " #   Column           Non-Null Count  Dtype  \n",
      "---  ------           --------------  -----  \n",
      " 0   commodity group  212 non-null    object \n",
      " 1   contents         212 non-null    object \n",
      " 2   week             212 non-null    object \n",
      " 3   value            212 non-null    float64\n",
      "dtypes: float64(1), object(3)\n",
      "memory usage: 6.8+ KB\n"
     ]
    }
   ],
   "source": [
    "df.info()"
   ]
  },
  {
   "cell_type": "code",
   "execution_count": 11,
   "metadata": {},
   "outputs": [
    {
     "data": {
      "text/html": [
       "<div>\n",
       "<style scoped>\n",
       "    .dataframe tbody tr th:only-of-type {\n",
       "        vertical-align: middle;\n",
       "    }\n",
       "\n",
       "    .dataframe tbody tr th {\n",
       "        vertical-align: top;\n",
       "    }\n",
       "\n",
       "    .dataframe thead th {\n",
       "        text-align: right;\n",
       "    }\n",
       "</style>\n",
       "<table border=\"1\" class=\"dataframe\">\n",
       "  <thead>\n",
       "    <tr style=\"text-align: right;\">\n",
       "      <th></th>\n",
       "      <th>commodity group</th>\n",
       "      <th>contents</th>\n",
       "      <th>week</th>\n",
       "      <th>value</th>\n",
       "    </tr>\n",
       "  </thead>\n",
       "  <tbody>\n",
       "    <tr>\n",
       "      <th>0</th>\n",
       "      <td>Fish-farm bred salmon, fresh or chilled</td>\n",
       "      <td>Weight (tonnes)</td>\n",
       "      <td>2020U03</td>\n",
       "      <td>17512.0</td>\n",
       "    </tr>\n",
       "    <tr>\n",
       "      <th>1</th>\n",
       "      <td>Fish-farm bred salmon, fresh or chilled</td>\n",
       "      <td>Weight (tonnes)</td>\n",
       "      <td>2020U04</td>\n",
       "      <td>16034.0</td>\n",
       "    </tr>\n",
       "    <tr>\n",
       "      <th>2</th>\n",
       "      <td>Fish-farm bred salmon, fresh or chilled</td>\n",
       "      <td>Weight (tonnes)</td>\n",
       "      <td>2020U05</td>\n",
       "      <td>16259.0</td>\n",
       "    </tr>\n",
       "    <tr>\n",
       "      <th>3</th>\n",
       "      <td>Fish-farm bred salmon, fresh or chilled</td>\n",
       "      <td>Weight (tonnes)</td>\n",
       "      <td>2020U06</td>\n",
       "      <td>15452.0</td>\n",
       "    </tr>\n",
       "    <tr>\n",
       "      <th>4</th>\n",
       "      <td>Fish-farm bred salmon, fresh or chilled</td>\n",
       "      <td>Weight (tonnes)</td>\n",
       "      <td>2020U07</td>\n",
       "      <td>17375.0</td>\n",
       "    </tr>\n",
       "  </tbody>\n",
       "</table>\n",
       "</div>"
      ],
      "text/plain": [
       "                           commodity group         contents     week    value\n",
       "0  Fish-farm bred salmon, fresh or chilled  Weight (tonnes)  2020U03  17512.0\n",
       "1  Fish-farm bred salmon, fresh or chilled  Weight (tonnes)  2020U04  16034.0\n",
       "2  Fish-farm bred salmon, fresh or chilled  Weight (tonnes)  2020U05  16259.0\n",
       "3  Fish-farm bred salmon, fresh or chilled  Weight (tonnes)  2020U06  15452.0\n",
       "4  Fish-farm bred salmon, fresh or chilled  Weight (tonnes)  2020U07  17375.0"
      ]
     },
     "execution_count": 11,
     "metadata": {},
     "output_type": "execute_result"
    }
   ],
   "source": [
    "df.head()"
   ]
  },
  {
   "cell_type": "code",
   "execution_count": 12,
   "metadata": {},
   "outputs": [],
   "source": [
    "frekvens, frek_no, freq_en = findfreq(df)"
   ]
  },
  {
   "cell_type": "code",
   "execution_count": 13,
   "metadata": {
    "scrolled": true
   },
   "outputs": [
    {
     "data": {
      "text/html": [
       "<div>\n",
       "<style scoped>\n",
       "    .dataframe tbody tr th:only-of-type {\n",
       "        vertical-align: middle;\n",
       "    }\n",
       "\n",
       "    .dataframe tbody tr th {\n",
       "        vertical-align: top;\n",
       "    }\n",
       "\n",
       "    .dataframe thead th {\n",
       "        text-align: right;\n",
       "    }\n",
       "</style>\n",
       "<table border=\"1\" class=\"dataframe\">\n",
       "  <thead>\n",
       "    <tr style=\"text-align: right;\">\n",
       "      <th></th>\n",
       "      <th>commodity group</th>\n",
       "      <th>contents</th>\n",
       "      <th>week</th>\n",
       "      <th>value</th>\n",
       "    </tr>\n",
       "  </thead>\n",
       "  <tbody>\n",
       "    <tr>\n",
       "      <th>210</th>\n",
       "      <td>Fish-farm bred salmon, frozen</td>\n",
       "      <td>Price per kilo (NOK)</td>\n",
       "      <td>2021U01</td>\n",
       "      <td>53.57</td>\n",
       "    </tr>\n",
       "    <tr>\n",
       "      <th>211</th>\n",
       "      <td>Fish-farm bred salmon, frozen</td>\n",
       "      <td>Price per kilo (NOK)</td>\n",
       "      <td>2021U02</td>\n",
       "      <td>47.37</td>\n",
       "    </tr>\n",
       "  </tbody>\n",
       "</table>\n",
       "</div>"
      ],
      "text/plain": [
       "                   commodity group              contents     week  value\n",
       "210  Fish-farm bred salmon, frozen  Price per kilo (NOK)  2021U01  53.57\n",
       "211  Fish-farm bred salmon, frozen  Price per kilo (NOK)  2021U02  47.37"
      ]
     },
     "execution_count": 13,
     "metadata": {},
     "output_type": "execute_result"
    }
   ],
   "source": [
    "df.tail(2)"
   ]
  },
  {
   "cell_type": "markdown",
   "metadata": {},
   "source": [
    "Use of plot in Pandas. not a successful plot - why?"
   ]
  },
  {
   "cell_type": "code",
   "execution_count": 14,
   "metadata": {},
   "outputs": [
    {
     "data": {
      "text/plain": [
       "<AxesSubplot:xlabel='week'>"
      ]
     },
     "execution_count": 14,
     "metadata": {},
     "output_type": "execute_result"
    },
    {
     "data": {
      "image/png": "[encoded data removed]",
      "text/plain": [
       "<Figure size 432x288 with 1 Axes>"
      ]
     },
     "metadata": {
      "needs_background": "light"
     },
     "output_type": "display_data"
    }
   ],
   "source": [
    "df.plot(x='week', y='value')"
   ]
  },
  {
   "cell_type": "markdown",
   "metadata": {},
   "source": [
    "Make a dataframe with only prices (and not weght/tonnes)"
   ]
  },
  {
   "cell_type": "code",
   "execution_count": 15,
   "metadata": {},
   "outputs": [],
   "source": [
    "df_price = df[df['contents'] == 'Price per kilo (NOK)']\n"
   ]
  },
  {
   "cell_type": "markdown",
   "metadata": {},
   "source": [
    "Det er to varegrupper fersk og frossen. Lager to plot med groupby "
   ]
  },
  {
   "cell_type": "code",
   "execution_count": 16,
   "metadata": {},
   "outputs": [
    {
     "data": {
      "text/plain": [
       "commodity group\n",
       "Fish-farm bred salmon, fresh or chilled    AxesSubplot(0.125,0.125;0.775x0.755)\n",
       "Fish-farm bred salmon, frozen              AxesSubplot(0.125,0.125;0.775x0.755)\n",
       "dtype: object"
      ]
     },
     "execution_count": 16,
     "metadata": {},
     "output_type": "execute_result"
    },
    {
     "data": {
      "image/png": "[encoded data removed]",
      "text/plain": [
       "<Figure size 864x432 with 1 Axes>"
      ]
     },
     "metadata": {
      "needs_background": "light"
     },
     "output_type": "display_data"
    },
    {
     "data": {
      "image/png": "[encoded data removed]",
      "text/plain": [
       "<Figure size 864x432 with 1 Axes>"
      ]
     },
     "metadata": {
      "needs_background": "light"
     },
     "output_type": "display_data"
    }
   ],
   "source": [
    "df_price.groupby('commodity group').plot(x='week', y='value', marker=\"o\", color=\"r\", figsize=(12, 6))"
   ]
  },
  {
   "cell_type": "markdown",
   "metadata": {},
   "source": [
    "Make a dataframe only with price on fresh salmon"
   ]
  },
  {
   "cell_type": "code",
   "execution_count": 17,
   "metadata": {},
   "outputs": [],
   "source": [
    "df_fresh = df_price[df_price['commodity group'] == 'Fish-farm bred salmon, fresh or chilled']"
   ]
  },
  {
   "cell_type": "code",
   "execution_count": 18,
   "metadata": {},
   "outputs": [
    {
     "data": {
      "text/plain": [
       "<AxesSubplot:xlabel='week'>"
      ]
     },
     "execution_count": 18,
     "metadata": {},
     "output_type": "execute_result"
    },
    {
     "data": {
      "image/png": "[encoded data removed]",
      "text/plain": [
       "<Figure size 432x288 with 1 Axes>"
      ]
     },
     "metadata": {
      "needs_background": "light"
     },
     "output_type": "display_data"
    }
   ],
   "source": [
    "df_fresh.plot(x='week', y='value', marker=\"x\", color=\"g\")"
   ]
  },
  {
   "cell_type": "code",
   "execution_count": null,
   "metadata": {},
   "outputs": [],
   "source": []
  }
 ],
 "metadata": {
  "kernelspec": {
   "display_name": "Python 3",
   "language": "python",
   "name": "python3"
  },
  "language_info": {
   "codemirror_mode": {
    "name": "ipython",
    "version": 3
   },
   "file_extension": ".py",
   "mimetype": "text/x-python",
   "name": "python",
   "nbconvert_exporter": "python",
   "pygments_lexer": "ipython3",
   "version": "3.8.5"
  }
 },
 "nbformat": 4,
 "nbformat_minor": 4
}
