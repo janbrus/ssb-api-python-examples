{
 "cells": [
  {
   "cell_type": "markdown",
   "metadata": {},
   "source": [
    "# Query that returns both text(name) and code(ID) from JSON-stat\n",
    "## Example HS-codes in foreign trade"
   ]
  },
  {
   "cell_type": "markdown",
   "metadata": {},
   "source": [
    "### Import libraries\n",
    "Use [pyjstat](https://pypi.org/project/pyjstat/) library for JSON-stat and pandas. Pandas is loaded as part of av pyjstat"
   ]
  },
  {
   "cell_type": "code",
   "execution_count": 1,
   "metadata": {},
   "outputs": [],
   "source": [
    "from pyjstat import pyjstat\n",
    "import requests"
   ]
  },
  {
   "cell_type": "markdown",
   "metadata": {},
   "source": [
    "### URL with the table's metadata, where we post the query"
   ]
  },
  {
   "cell_type": "code",
   "execution_count": 2,
   "metadata": {},
   "outputs": [],
   "source": [
    "tabid = \"08799\" # \n",
    "lang = \"en\" # language code can also be \"no\"\n",
    "POST_URL = \"https://data.ssb.no/api/v0/\" + lang + \"/table/\" + tabid # 'https://data.ssb.no/api/v0/en/table/08799'"
   ]
  },
  {
   "cell_type": "markdown",
   "metadata": {},
   "source": [
    "### Query, can be taken from the console: \n",
    "Import / export all commodity codes (HS) to US latest month, ca. 65.000 cells. Max limit for one query in PxWebApi is 800.000 cells, incl. empty cells."
   ]
  },
  {
   "cell_type": "code",
   "execution_count": 3,
   "metadata": {},
   "outputs": [],
   "source": [
    "json_q = {\n",
    "  \"query\": [\n",
    "    {\n",
    "      \"code\": \"Varekoder\",\n",
    "      \"selection\": {\n",
    "        \"filter\": \"all\",\n",
    "        \"values\": [\n",
    "          \"*\"\n",
    "        ]\n",
    "      }\n",
    "    },\n",
    "    {\n",
    "      \"code\": \"ImpEks\",\n",
    "      \"selection\": {\n",
    "        \"filter\": \"item\",\n",
    "        \"values\": [\n",
    "          \"1\",\n",
    "          \"2\"\n",
    "        ]\n",
    "      }\n",
    "    },\n",
    "    {\n",
    "      \"code\": \"Land\",\n",
    "      \"selection\": {\n",
    "        \"filter\": \"item\",\n",
    "        \"values\": [\n",
    "          \"US\"\n",
    "        ]\n",
    "      }\n",
    "    },\n",
    "    {\n",
    "      \"code\": \"ContentsCode\",\n",
    "      \"selection\": {\n",
    "        \"filter\": \"item\",\n",
    "        \"values\": [\n",
    "          \"Mengde1\",\n",
    "          \"Verdi\",\n",
    "          \"Mengde2\"\n",
    "        ]\n",
    "      }\n",
    "    },\n",
    "    {\n",
    "      \"code\": \"Tid\",\n",
    "      \"selection\": {\n",
    "        \"filter\": \"top\",\n",
    "        \"values\": [\n",
    "          \"1\"\n",
    "        ]\n",
    "      }\n",
    "    }\n",
    "  ],\n",
    "  \"response\": {\n",
    "    \"format\": \"json-stat2\"\n",
    "  }\n",
    "}\n"
   ]
  },
  {
   "cell_type": "markdown",
   "metadata": {},
   "source": [
    "### Post query"
   ]
  },
  {
   "cell_type": "code",
   "execution_count": 4,
   "metadata": {},
   "outputs": [],
   "source": [
    "res = requests.post(POST_URL, json=json_q)"
   ]
  },
  {
   "cell_type": "markdown",
   "metadata": {},
   "source": [
    "### Read JSON-stat result using the library pyjstat\n",
    "Saved it as dataset ds."
   ]
  },
  {
   "cell_type": "code",
   "execution_count": 5,
   "metadata": {},
   "outputs": [],
   "source": [
    "ds = pyjstat.Dataset.read(res.text)"
   ]
  },
  {
   "cell_type": "code",
   "execution_count": 6,
   "metadata": {},
   "outputs": [
    {
     "data": {
      "text/plain": [
       "pyjstat.pyjstat.Dataset"
      ]
     },
     "execution_count": 6,
     "metadata": {},
     "output_type": "execute_result"
    }
   ],
   "source": [
    "type(ds)"
   ]
  },
  {
   "cell_type": "markdown",
   "metadata": {},
   "source": [
    "Check dataset ds, large"
   ]
  },
  {
   "cell_type": "code",
   "execution_count": 7,
   "metadata": {},
   "outputs": [],
   "source": [
    "#ds"
   ]
  },
  {
   "cell_type": "markdown",
   "metadata": {},
   "source": [
    "### Get some main metadata from the JSON-stat dataset"
   ]
  },
  {
   "cell_type": "code",
   "execution_count": 8,
   "metadata": {},
   "outputs": [
    {
     "name": "stdout",
     "output_type": "stream",
     "text": [
      "08799: External trade in goods, by commodity number, imports/exports, country, contents and month\n"
     ]
    }
   ],
   "source": [
    "title = ds['label']\n",
    "print(title)"
   ]
  },
  {
   "cell_type": "markdown",
   "metadata": {},
   "source": [
    "Last update as GMT"
   ]
  },
  {
   "cell_type": "code",
   "execution_count": 9,
   "metadata": {},
   "outputs": [
    {
     "name": "stdout",
     "output_type": "stream",
     "text": [
      "2024-12-16T07:00:00Z\n"
     ]
    }
   ],
   "source": [
    "last_update = ds['updated']\n",
    "print(last_update)"
   ]
  },
  {
   "cell_type": "markdown",
   "metadata": {},
   "source": [
    "Get source"
   ]
  },
  {
   "cell_type": "code",
   "execution_count": 10,
   "metadata": {},
   "outputs": [
    {
     "name": "stdout",
     "output_type": "stream",
     "text": [
      "Statistics Norway\n"
     ]
    }
   ],
   "source": [
    "source = ds['source']\n",
    "print(source)"
   ]
  },
  {
   "cell_type": "markdown",
   "metadata": {},
   "source": [
    "Footnotes"
   ]
  },
  {
   "cell_type": "code",
   "execution_count": 11,
   "metadata": {},
   "outputs": [
    {
     "name": "stdout",
     "output_type": "stream",
     "text": [
      "[\"Information about the validity and annual changes in the commodity numbers can be found at   <a target='_top' href='https://www.ssb.no/en/utenriksokonomi/varefortegnelse/commodity-list-external-trade'>Commodity List External Trade</a>.\\n<br>\\n\\nFrom 2006 on the following countries had their belonging to continent changed - Cyprus from Asia to Europe, and Armenia, Georgia, Kyrgyzstan, Kazakhstan, Tajikistan, Turkmenistan and Uzbekistan from Europe to Asia. However, in the selections of countries in the pull-down menu for European/Asian countries it is the present classification that will be shown for the whole time period (Cypros belonging to Europe and the other countries to Asia).\\n\\n<br /><br />\\nStatistics Norway do not publish figures for the trade region previously Comecon  after 2011. Former Comecon (only European Comecon countries in the Norwegian trade statistics): Armenia, Azerbaijan, Bulgaria, Estonia, Georgia, Belarus, Kazakhstan, Kyrgyzstan, Latvia, Lithuania, Moldova, Poland, Romania, Russia, Slovakia, Czech Republic, Tajikistan, Turkmenistan, Ukraine, Hungary, Uzbekistan.\", \"For more information, see <a href='https://www.ssb.no/en/muh#om-statistikken-v2'>About the statistics</a>.\", \"Import figures on commodity number 2403.9990 and 2403.9991 in the period 2005-2013 is wrong, <a href='http://www.ssb.no/en/utenriksokonomi/artikler-og-publikasjoner/revised-import-figures-on-snuff'>read more about corrected figures</a>\", 'When publishing statistics for a new month of measurement, figures for the previous months in the same year are also revised. Furthermore, the figures for all months of the year are revised twice more: First time in May the following year (year t + 1), before final figures are published in May one year later (year t + 2).', '12 February 2022 all the commodity codes were changed. The 8-digit commodity codes now have an addition that shows the year when each code was first used.', 'The data material in the External trade in goods statistics is very extensive, and at the most detailed level the quality can vary. The quality will be affected by errors in reported data. Users of the statistics must take this into account when using detailed figures. Commodity numbers with little trade, measured in value, will be more prone to errors than commodity numbers with a lot of trade. Furthermore, the statistical variables weight and quantity have poorer quality than value. Goods with restrictions and trade to particular countries are, however, monitored more closely.<br>\\n\\nStatistics Norway is required to report detailed figures to Eurostat, and therefore finds it appropriate that the figures are also published to Norwegian users, despite the varying quality.\\n']\n"
     ]
    }
   ],
   "source": [
    "if 'note' in ds:\n",
    "\tnote = ds['note']\n",
    "\tprint(note)"
   ]
  },
  {
   "cell_type": "markdown",
   "metadata": {},
   "source": [
    "Role gives some shortcuts"
   ]
  },
  {
   "cell_type": "code",
   "execution_count": 12,
   "metadata": {},
   "outputs": [
    {
     "name": "stdout",
     "output_type": "stream",
     "text": [
      "OrderedDict({'time': ['Tid'], 'geo': ['Land'], 'metric': ['ContentsCode']})\n"
     ]
    }
   ],
   "source": [
    "ds_roles = ds['role']\n",
    "print(ds_roles)"
   ]
  },
  {
   "cell_type": "markdown",
   "metadata": {},
   "source": [
    "### Make dataframes\n",
    "We have to make two dataframes, one with text and one with id. Pyjstat returns 'label' by default."
   ]
  },
  {
   "cell_type": "code",
   "execution_count": 13,
   "metadata": {},
   "outputs": [],
   "source": [
    "hstrade = ds.write('dataframe')\n",
    "hstrade_id = ds.write('dataframe', naming='id')"
   ]
  },
  {
   "cell_type": "code",
   "execution_count": 14,
   "metadata": {},
   "outputs": [
    {
     "data": {
      "text/html": [
       "<div>\n",
       "<style scoped>\n",
       "    .dataframe tbody tr th:only-of-type {\n",
       "        vertical-align: middle;\n",
       "    }\n",
       "\n",
       "    .dataframe tbody tr th {\n",
       "        vertical-align: top;\n",
       "    }\n",
       "\n",
       "    .dataframe thead th {\n",
       "        text-align: right;\n",
       "    }\n",
       "</style>\n",
       "<table border=\"1\" class=\"dataframe\">\n",
       "  <thead>\n",
       "    <tr style=\"text-align: right;\">\n",
       "      <th></th>\n",
       "      <th>commodity number</th>\n",
       "      <th>imports/exports</th>\n",
       "      <th>country</th>\n",
       "      <th>contents</th>\n",
       "      <th>month</th>\n",
       "      <th>value</th>\n",
       "    </tr>\n",
       "  </thead>\n",
       "  <tbody>\n",
       "    <tr>\n",
       "      <th>0</th>\n",
       "      <td>Subgroup of: 170490 Sugar confectionery not co...</td>\n",
       "      <td>Imports</td>\n",
       "      <td>United States of America</td>\n",
       "      <td>Quantity 1 (Q1)</td>\n",
       "      <td>2024M11</td>\n",
       "      <td>0</td>\n",
       "    </tr>\n",
       "    <tr>\n",
       "      <th>1</th>\n",
       "      <td>Subgroup of: 170490 Sugar confectionery not co...</td>\n",
       "      <td>Imports</td>\n",
       "      <td>United States of America</td>\n",
       "      <td>Value (NOK)</td>\n",
       "      <td>2024M11</td>\n",
       "      <td>0</td>\n",
       "    </tr>\n",
       "    <tr>\n",
       "      <th>2</th>\n",
       "      <td>Subgroup of: 170490 Sugar confectionery not co...</td>\n",
       "      <td>Imports</td>\n",
       "      <td>United States of America</td>\n",
       "      <td>Quantity 2 (Q2)</td>\n",
       "      <td>2024M11</td>\n",
       "      <td>0</td>\n",
       "    </tr>\n",
       "    <tr>\n",
       "      <th>3</th>\n",
       "      <td>Subgroup of: 170490 Sugar confectionery not co...</td>\n",
       "      <td>Exports</td>\n",
       "      <td>United States of America</td>\n",
       "      <td>Quantity 1 (Q1)</td>\n",
       "      <td>2024M11</td>\n",
       "      <td>0</td>\n",
       "    </tr>\n",
       "    <tr>\n",
       "      <th>4</th>\n",
       "      <td>Subgroup of: 170490 Sugar confectionery not co...</td>\n",
       "      <td>Exports</td>\n",
       "      <td>United States of America</td>\n",
       "      <td>Value (NOK)</td>\n",
       "      <td>2024M11</td>\n",
       "      <td>0</td>\n",
       "    </tr>\n",
       "  </tbody>\n",
       "</table>\n",
       "</div>"
      ],
      "text/plain": [
       "                                    commodity number imports/exports  \\\n",
       "0  Subgroup of: 170490 Sugar confectionery not co...         Imports   \n",
       "1  Subgroup of: 170490 Sugar confectionery not co...         Imports   \n",
       "2  Subgroup of: 170490 Sugar confectionery not co...         Imports   \n",
       "3  Subgroup of: 170490 Sugar confectionery not co...         Exports   \n",
       "4  Subgroup of: 170490 Sugar confectionery not co...         Exports   \n",
       "\n",
       "                    country         contents    month  value  \n",
       "0  United States of America  Quantity 1 (Q1)  2024M11      0  \n",
       "1  United States of America      Value (NOK)  2024M11      0  \n",
       "2  United States of America  Quantity 2 (Q2)  2024M11      0  \n",
       "3  United States of America  Quantity 1 (Q1)  2024M11      0  \n",
       "4  United States of America      Value (NOK)  2024M11      0  "
      ]
     },
     "execution_count": 14,
     "metadata": {},
     "output_type": "execute_result"
    }
   ],
   "source": [
    "hstrade.head()"
   ]
  },
  {
   "cell_type": "code",
   "execution_count": 15,
   "metadata": {},
   "outputs": [
    {
     "data": {
      "text/html": [
       "<div>\n",
       "<style scoped>\n",
       "    .dataframe tbody tr th:only-of-type {\n",
       "        vertical-align: middle;\n",
       "    }\n",
       "\n",
       "    .dataframe tbody tr th {\n",
       "        vertical-align: top;\n",
       "    }\n",
       "\n",
       "    .dataframe thead th {\n",
       "        text-align: right;\n",
       "    }\n",
       "</style>\n",
       "<table border=\"1\" class=\"dataframe\">\n",
       "  <thead>\n",
       "    <tr style=\"text-align: right;\">\n",
       "      <th></th>\n",
       "      <th>Varekoder</th>\n",
       "      <th>ImpEks</th>\n",
       "      <th>Land</th>\n",
       "      <th>ContentsCode</th>\n",
       "      <th>Tid</th>\n",
       "      <th>value</th>\n",
       "    </tr>\n",
       "  </thead>\n",
       "  <tbody>\n",
       "    <tr>\n",
       "      <th>0</th>\n",
       "      <td>17049092_1995</td>\n",
       "      <td>1</td>\n",
       "      <td>US</td>\n",
       "      <td>Mengde1</td>\n",
       "      <td>2024M11</td>\n",
       "      <td>0</td>\n",
       "    </tr>\n",
       "    <tr>\n",
       "      <th>1</th>\n",
       "      <td>17049092_1995</td>\n",
       "      <td>1</td>\n",
       "      <td>US</td>\n",
       "      <td>Verdi</td>\n",
       "      <td>2024M11</td>\n",
       "      <td>0</td>\n",
       "    </tr>\n",
       "    <tr>\n",
       "      <th>2</th>\n",
       "      <td>17049092_1995</td>\n",
       "      <td>1</td>\n",
       "      <td>US</td>\n",
       "      <td>Mengde2</td>\n",
       "      <td>2024M11</td>\n",
       "      <td>0</td>\n",
       "    </tr>\n",
       "    <tr>\n",
       "      <th>3</th>\n",
       "      <td>17049092_1995</td>\n",
       "      <td>2</td>\n",
       "      <td>US</td>\n",
       "      <td>Mengde1</td>\n",
       "      <td>2024M11</td>\n",
       "      <td>0</td>\n",
       "    </tr>\n",
       "    <tr>\n",
       "      <th>4</th>\n",
       "      <td>17049092_1995</td>\n",
       "      <td>2</td>\n",
       "      <td>US</td>\n",
       "      <td>Verdi</td>\n",
       "      <td>2024M11</td>\n",
       "      <td>0</td>\n",
       "    </tr>\n",
       "  </tbody>\n",
       "</table>\n",
       "</div>"
      ],
      "text/plain": [
       "       Varekoder ImpEks Land ContentsCode      Tid  value\n",
       "0  17049092_1995      1   US      Mengde1  2024M11      0\n",
       "1  17049092_1995      1   US        Verdi  2024M11      0\n",
       "2  17049092_1995      1   US      Mengde2  2024M11      0\n",
       "3  17049092_1995      2   US      Mengde1  2024M11      0\n",
       "4  17049092_1995      2   US        Verdi  2024M11      0"
      ]
     },
     "execution_count": 15,
     "metadata": {},
     "output_type": "execute_result"
    }
   ],
   "source": [
    "hstrade_id.head()"
   ]
  },
  {
   "cell_type": "markdown",
   "metadata": {},
   "source": [
    "### Make new column with ID and label concatinated"
   ]
  },
  {
   "cell_type": "code",
   "execution_count": 16,
   "metadata": {},
   "outputs": [],
   "source": [
    "hstrade['hstrade_combi'] = hstrade_id['Varekoder'] + ' ' + hstrade['commodity number']"
   ]
  },
  {
   "cell_type": "code",
   "execution_count": 17,
   "metadata": {},
   "outputs": [
    {
     "data": {
      "text/plain": [
       "Index(['commodity number', 'imports/exports', 'country', 'contents', 'month',\n",
       "       'value', 'hstrade_combi'],\n",
       "      dtype='object')"
      ]
     },
     "execution_count": 17,
     "metadata": {},
     "output_type": "execute_result"
    }
   ],
   "source": [
    "hstrade.columns"
   ]
  },
  {
   "cell_type": "markdown",
   "metadata": {},
   "source": [
    "### Make new dataframe with only the colums we want in new order. Mark double [[ ]]"
   ]
  },
  {
   "cell_type": "code",
   "execution_count": 18,
   "metadata": {},
   "outputs": [],
   "source": [
    "hstrade_new = hstrade[['hstrade_combi', 'imports/exports', 'country', 'contents', 'month',\n",
    "       'value']]"
   ]
  },
  {
   "cell_type": "code",
   "execution_count": 19,
   "metadata": {},
   "outputs": [
    {
     "data": {
      "text/html": [
       "<div>\n",
       "<style scoped>\n",
       "    .dataframe tbody tr th:only-of-type {\n",
       "        vertical-align: middle;\n",
       "    }\n",
       "\n",
       "    .dataframe tbody tr th {\n",
       "        vertical-align: top;\n",
       "    }\n",
       "\n",
       "    .dataframe thead th {\n",
       "        text-align: right;\n",
       "    }\n",
       "</style>\n",
       "<table border=\"1\" class=\"dataframe\">\n",
       "  <thead>\n",
       "    <tr style=\"text-align: right;\">\n",
       "      <th></th>\n",
       "      <th>hstrade_combi</th>\n",
       "      <th>imports/exports</th>\n",
       "      <th>country</th>\n",
       "      <th>contents</th>\n",
       "      <th>month</th>\n",
       "      <th>value</th>\n",
       "    </tr>\n",
       "  </thead>\n",
       "  <tbody>\n",
       "    <tr>\n",
       "      <th>79999</th>\n",
       "      <td>99999999_1988 Total, all commodities not for p...</td>\n",
       "      <td>Imports</td>\n",
       "      <td>United States of America</td>\n",
       "      <td>Value (NOK)</td>\n",
       "      <td>2024M11</td>\n",
       "      <td>2000616</td>\n",
       "    </tr>\n",
       "    <tr>\n",
       "      <th>80000</th>\n",
       "      <td>99999999_1988 Total, all commodities not for p...</td>\n",
       "      <td>Imports</td>\n",
       "      <td>United States of America</td>\n",
       "      <td>Quantity 2 (Q2)</td>\n",
       "      <td>2024M11</td>\n",
       "      <td>0</td>\n",
       "    </tr>\n",
       "    <tr>\n",
       "      <th>80001</th>\n",
       "      <td>99999999_1988 Total, all commodities not for p...</td>\n",
       "      <td>Exports</td>\n",
       "      <td>United States of America</td>\n",
       "      <td>Quantity 1 (Q1)</td>\n",
       "      <td>2024M11</td>\n",
       "      <td>65335483</td>\n",
       "    </tr>\n",
       "    <tr>\n",
       "      <th>80002</th>\n",
       "      <td>99999999_1988 Total, all commodities not for p...</td>\n",
       "      <td>Exports</td>\n",
       "      <td>United States of America</td>\n",
       "      <td>Value (NOK)</td>\n",
       "      <td>2024M11</td>\n",
       "      <td>459597701</td>\n",
       "    </tr>\n",
       "    <tr>\n",
       "      <th>80003</th>\n",
       "      <td>99999999_1988 Total, all commodities not for p...</td>\n",
       "      <td>Exports</td>\n",
       "      <td>United States of America</td>\n",
       "      <td>Quantity 2 (Q2)</td>\n",
       "      <td>2024M11</td>\n",
       "      <td>0</td>\n",
       "    </tr>\n",
       "  </tbody>\n",
       "</table>\n",
       "</div>"
      ],
      "text/plain": [
       "                                           hstrade_combi imports/exports  \\\n",
       "79999  99999999_1988 Total, all commodities not for p...         Imports   \n",
       "80000  99999999_1988 Total, all commodities not for p...         Imports   \n",
       "80001  99999999_1988 Total, all commodities not for p...         Exports   \n",
       "80002  99999999_1988 Total, all commodities not for p...         Exports   \n",
       "80003  99999999_1988 Total, all commodities not for p...         Exports   \n",
       "\n",
       "                        country         contents    month      value  \n",
       "79999  United States of America      Value (NOK)  2024M11    2000616  \n",
       "80000  United States of America  Quantity 2 (Q2)  2024M11          0  \n",
       "80001  United States of America  Quantity 1 (Q1)  2024M11   65335483  \n",
       "80002  United States of America      Value (NOK)  2024M11  459597701  \n",
       "80003  United States of America  Quantity 2 (Q2)  2024M11          0  "
      ]
     },
     "execution_count": 19,
     "metadata": {},
     "output_type": "execute_result"
    }
   ],
   "source": [
    "hstrade_new.tail()"
   ]
  }
 ],
 "metadata": {
  "kernelspec": {
   "display_name": "Python 3 (ipykernel)",
   "language": "python",
   "name": "python3"
  },
  "language_info": {
   "codemirror_mode": {
    "name": "ipython",
    "version": 3
   },
   "file_extension": ".py",
   "mimetype": "text/x-python",
   "name": "python",
   "nbconvert_exporter": "python",
   "pygments_lexer": "ipython3",
   "version": "3.12.3"
  }
 },
 "nbformat": 4,
 "nbformat_minor": 4
}
