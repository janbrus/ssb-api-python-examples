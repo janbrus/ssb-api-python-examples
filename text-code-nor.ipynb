{
 "cells": [
  {
   "cell_type": "markdown",
   "metadata": {},
   "source": [
    "# Spørring som både gir tekst(navn) og kode(ID) fra JSON-stat\n",
    "### eksempel HS-koder utenrikshandel"
   ]
  },
  {
   "cell_type": "markdown",
   "metadata": {},
   "source": [
    "### Importerer biblioteker\n",
    "Bruker [pyjstat](https://pypi.org/project/pyjstat/) og pandas. Pandas lastes som del av pyjstat"
   ]
  },
  {
   "cell_type": "code",
   "execution_count": 1,
   "metadata": {},
   "outputs": [],
   "source": [
    "from pyjstat import pyjstat\n",
    "import requests"
   ]
  },
  {
   "cell_type": "markdown",
   "metadata": {},
   "source": [
    "### URL med tabellens metadata, som vi skal poste spørringen mot"
   ]
  },
  {
   "cell_type": "code",
   "execution_count": 2,
   "metadata": {},
   "outputs": [],
   "source": [
    "tabid = \"08799\" # kam endres til årstabellen 08801, uten andre endringer\n",
    "lang = \"no\" # language code can also be \"en\"\n",
    "POST_URL = \"https://data.ssb.no/api/v0/\" + lang + \"/table/\" + tabid  # 'https://data.ssb.no/api/v0/no/table/08799'"
   ]
  },
  {
   "cell_type": "markdown",
   "metadata": {},
   "source": [
    "Spørring, kan tas fra konsoll: Import / eksport alle varekoder til US siste måned, ca. 65000 celler. Max grense for en spørring i PxWebApi er 800.000 celler, inkl tomme celler"
   ]
  },
  {
   "cell_type": "code",
   "execution_count": 3,
   "metadata": {},
   "outputs": [],
   "source": [
    "json_q = {\n",
    "  \"query\": [\n",
    "    {\n",
    "      \"code\": \"Varekoder\",\n",
    "      \"selection\": {\n",
    "        \"filter\": \"all\",\n",
    "        \"values\": [\n",
    "          \"*\"\n",
    "        ]\n",
    "      }\n",
    "    },\n",
    "    {\n",
    "      \"code\": \"ImpEks\",\n",
    "      \"selection\": {\n",
    "        \"filter\": \"item\",\n",
    "        \"values\": [\n",
    "          \"1\",\n",
    "          \"2\"\n",
    "        ]\n",
    "      }\n",
    "    },\n",
    "    {\n",
    "      \"code\": \"Land\",\n",
    "      \"selection\": {\n",
    "        \"filter\": \"item\",\n",
    "        \"values\": [\n",
    "          \"US\"\n",
    "        ]\n",
    "      }\n",
    "    },\n",
    "    {\n",
    "      \"code\": \"ContentsCode\",\n",
    "      \"selection\": {\n",
    "        \"filter\": \"item\",\n",
    "        \"values\": [\n",
    "          \"Mengde1\",\n",
    "          \"Verdi\",\n",
    "          \"Mengde2\"\n",
    "        ]\n",
    "      }\n",
    "    },\n",
    "    {\n",
    "      \"code\": \"Tid\",\n",
    "      \"selection\": {\n",
    "        \"filter\": \"top\",\n",
    "        \"values\": [\n",
    "          \"1\"\n",
    "        ]\n",
    "      }\n",
    "    }\n",
    "  ],\n",
    "  \"response\": {\n",
    "    \"format\": \"json-stat2\"\n",
    "  }\n",
    "}\n"
   ]
  },
  {
   "cell_type": "markdown",
   "metadata": {},
   "source": [
    "### Poster spørringen"
   ]
  },
  {
   "cell_type": "code",
   "execution_count": 4,
   "metadata": {},
   "outputs": [],
   "source": [
    "res = requests.post(POST_URL, json=json_q)"
   ]
  },
  {
   "cell_type": "markdown",
   "metadata": {},
   "source": [
    "### Leser JSON-stat resultatet med biblioteket pyjstat\n",
    "Lagrer det som datasett ds."
   ]
  },
  {
   "cell_type": "code",
   "execution_count": 5,
   "metadata": {},
   "outputs": [],
   "source": [
    "ds = pyjstat.Dataset.read(res.text)"
   ]
  },
  {
   "cell_type": "code",
   "execution_count": 6,
   "metadata": {},
   "outputs": [
    {
     "data": {
      "text/plain": [
       "pyjstat.pyjstat.Dataset"
      ]
     },
     "execution_count": 6,
     "metadata": {},
     "output_type": "execute_result"
    }
   ],
   "source": [
    "type(ds)"
   ]
  },
  {
   "cell_type": "markdown",
   "metadata": {},
   "source": [
    "Se datasettet ds"
   ]
  },
  {
   "cell_type": "code",
   "execution_count": 7,
   "metadata": {},
   "outputs": [],
   "source": [
    "# ds"
   ]
  },
  {
   "cell_type": "markdown",
   "metadata": {},
   "source": [
    "### Henter noen overordnete metadata fra JSON-stat datasettet. \n",
    "#### Nytt: Flere metadata i 2024"
   ]
  },
  {
   "cell_type": "code",
   "execution_count": 8,
   "metadata": {},
   "outputs": [
    {
     "name": "stdout",
     "output_type": "stream",
     "text": [
      "08799: Utenrikshandel med varer, etter varenummer, import/eksport, land, statistikkvariabel og måned\n"
     ]
    }
   ],
   "source": [
    "tittel = ds['label']\n",
    "print(tittel)"
   ]
  },
  {
   "cell_type": "markdown",
   "metadata": {},
   "source": [
    "Sist Oppdatert som GMT"
   ]
  },
  {
   "cell_type": "code",
   "execution_count": 9,
   "metadata": {},
   "outputs": [
    {
     "name": "stdout",
     "output_type": "stream",
     "text": [
      "2024-12-16T07:00:00Z\n"
     ]
    }
   ],
   "source": [
    "last_update = ds['updated']\n",
    "print(last_update)"
   ]
  },
  {
   "cell_type": "markdown",
   "metadata": {},
   "source": [
    "Henter kilde"
   ]
  },
  {
   "cell_type": "code",
   "execution_count": 10,
   "metadata": {},
   "outputs": [
    {
     "name": "stdout",
     "output_type": "stream",
     "text": [
      "Statistisk sentralbyrå\n"
     ]
    }
   ],
   "source": [
    "source = ds['source']\n",
    "print(source)"
   ]
  },
  {
   "cell_type": "markdown",
   "metadata": {},
   "source": [
    "Roles gir noen snarveier til IDene på faste dimensjoner i datasettet"
   ]
  },
  {
   "cell_type": "code",
   "execution_count": 11,
   "metadata": {},
   "outputs": [
    {
     "name": "stdout",
     "output_type": "stream",
     "text": [
      "OrderedDict({'time': ['Tid'], 'geo': ['Land'], 'metric': ['ContentsCode']})\n"
     ]
    }
   ],
   "source": [
    "ds_roles = ds['role']\n",
    "print(ds_roles)"
   ]
  },
  {
   "cell_type": "markdown",
   "metadata": {},
   "source": [
    "Nye metadata i JSON-stat2 er tableid (tabellnummer), kort tabelltittel og noter"
   ]
  },
  {
   "cell_type": "code",
   "execution_count": 12,
   "metadata": {},
   "outputs": [
    {
     "name": "stdout",
     "output_type": "stream",
     "text": [
      "08799\n"
     ]
    }
   ],
   "source": [
    "table_id = ds['extension']['px']['tableid']\n",
    "print(table_id)"
   ]
  },
  {
   "cell_type": "code",
   "execution_count": 13,
   "metadata": {},
   "outputs": [
    {
     "name": "stdout",
     "output_type": "stream",
     "text": [
      "08799: Utenrikshandel med varer,\n"
     ]
    }
   ],
   "source": [
    "kort_tit = ds['extension']['px']['contents']\n",
    "print(kort_tit)"
   ]
  },
  {
   "cell_type": "code",
   "execution_count": null,
   "metadata": {},
   "outputs": [],
   "source": []
  },
  {
   "cell_type": "markdown",
   "metadata": {},
   "source": [
    "### Lager dataframes\n",
    "Vi må lage to dataframes, en med tekst og en med ID. Pyjstat tillater bare enten/eller"
   ]
  },
  {
   "cell_type": "code",
   "execution_count": 14,
   "metadata": {},
   "outputs": [],
   "source": [
    "hstrade = ds.write('dataframe')\n",
    "hstrade_id = ds.write('dataframe', naming='id')"
   ]
  },
  {
   "cell_type": "code",
   "execution_count": 15,
   "metadata": {},
   "outputs": [
    {
     "data": {
      "text/html": [
       "<div>\n",
       "<style scoped>\n",
       "    .dataframe tbody tr th:only-of-type {\n",
       "        vertical-align: middle;\n",
       "    }\n",
       "\n",
       "    .dataframe tbody tr th {\n",
       "        vertical-align: top;\n",
       "    }\n",
       "\n",
       "    .dataframe thead th {\n",
       "        text-align: right;\n",
       "    }\n",
       "</style>\n",
       "<table border=\"1\" class=\"dataframe\">\n",
       "  <thead>\n",
       "    <tr style=\"text-align: right;\">\n",
       "      <th></th>\n",
       "      <th>varenummer</th>\n",
       "      <th>import/eksport</th>\n",
       "      <th>land</th>\n",
       "      <th>statistikkvariabel</th>\n",
       "      <th>måned</th>\n",
       "      <th>value</th>\n",
       "    </tr>\n",
       "  </thead>\n",
       "  <tbody>\n",
       "    <tr>\n",
       "      <th>0</th>\n",
       "      <td>Pastiller, sukkertøy og drops, uten innh av ka...</td>\n",
       "      <td>Import</td>\n",
       "      <td>USA</td>\n",
       "      <td>Mengde 1 (M1)</td>\n",
       "      <td>2024M11</td>\n",
       "      <td>0</td>\n",
       "    </tr>\n",
       "    <tr>\n",
       "      <th>1</th>\n",
       "      <td>Pastiller, sukkertøy og drops, uten innh av ka...</td>\n",
       "      <td>Import</td>\n",
       "      <td>USA</td>\n",
       "      <td>Verdi (kr)</td>\n",
       "      <td>2024M11</td>\n",
       "      <td>0</td>\n",
       "    </tr>\n",
       "    <tr>\n",
       "      <th>2</th>\n",
       "      <td>Pastiller, sukkertøy og drops, uten innh av ka...</td>\n",
       "      <td>Import</td>\n",
       "      <td>USA</td>\n",
       "      <td>Mengde 2 (M2)</td>\n",
       "      <td>2024M11</td>\n",
       "      <td>0</td>\n",
       "    </tr>\n",
       "    <tr>\n",
       "      <th>3</th>\n",
       "      <td>Pastiller, sukkertøy og drops, uten innh av ka...</td>\n",
       "      <td>Eksport</td>\n",
       "      <td>USA</td>\n",
       "      <td>Mengde 1 (M1)</td>\n",
       "      <td>2024M11</td>\n",
       "      <td>0</td>\n",
       "    </tr>\n",
       "    <tr>\n",
       "      <th>4</th>\n",
       "      <td>Pastiller, sukkertøy og drops, uten innh av ka...</td>\n",
       "      <td>Eksport</td>\n",
       "      <td>USA</td>\n",
       "      <td>Verdi (kr)</td>\n",
       "      <td>2024M11</td>\n",
       "      <td>0</td>\n",
       "    </tr>\n",
       "  </tbody>\n",
       "</table>\n",
       "</div>"
      ],
      "text/plain": [
       "                                          varenummer import/eksport land  \\\n",
       "0  Pastiller, sukkertøy og drops, uten innh av ka...         Import  USA   \n",
       "1  Pastiller, sukkertøy og drops, uten innh av ka...         Import  USA   \n",
       "2  Pastiller, sukkertøy og drops, uten innh av ka...         Import  USA   \n",
       "3  Pastiller, sukkertøy og drops, uten innh av ka...        Eksport  USA   \n",
       "4  Pastiller, sukkertøy og drops, uten innh av ka...        Eksport  USA   \n",
       "\n",
       "  statistikkvariabel    måned  value  \n",
       "0      Mengde 1 (M1)  2024M11      0  \n",
       "1         Verdi (kr)  2024M11      0  \n",
       "2      Mengde 2 (M2)  2024M11      0  \n",
       "3      Mengde 1 (M1)  2024M11      0  \n",
       "4         Verdi (kr)  2024M11      0  "
      ]
     },
     "execution_count": 15,
     "metadata": {},
     "output_type": "execute_result"
    }
   ],
   "source": [
    "hstrade.head()"
   ]
  },
  {
   "cell_type": "code",
   "execution_count": 16,
   "metadata": {},
   "outputs": [
    {
     "data": {
      "text/html": [
       "<div>\n",
       "<style scoped>\n",
       "    .dataframe tbody tr th:only-of-type {\n",
       "        vertical-align: middle;\n",
       "    }\n",
       "\n",
       "    .dataframe tbody tr th {\n",
       "        vertical-align: top;\n",
       "    }\n",
       "\n",
       "    .dataframe thead th {\n",
       "        text-align: right;\n",
       "    }\n",
       "</style>\n",
       "<table border=\"1\" class=\"dataframe\">\n",
       "  <thead>\n",
       "    <tr style=\"text-align: right;\">\n",
       "      <th></th>\n",
       "      <th>Varekoder</th>\n",
       "      <th>ImpEks</th>\n",
       "      <th>Land</th>\n",
       "      <th>ContentsCode</th>\n",
       "      <th>Tid</th>\n",
       "      <th>value</th>\n",
       "    </tr>\n",
       "  </thead>\n",
       "  <tbody>\n",
       "    <tr>\n",
       "      <th>0</th>\n",
       "      <td>17049092_1995</td>\n",
       "      <td>1</td>\n",
       "      <td>US</td>\n",
       "      <td>Mengde1</td>\n",
       "      <td>2024M11</td>\n",
       "      <td>0</td>\n",
       "    </tr>\n",
       "    <tr>\n",
       "      <th>1</th>\n",
       "      <td>17049092_1995</td>\n",
       "      <td>1</td>\n",
       "      <td>US</td>\n",
       "      <td>Verdi</td>\n",
       "      <td>2024M11</td>\n",
       "      <td>0</td>\n",
       "    </tr>\n",
       "    <tr>\n",
       "      <th>2</th>\n",
       "      <td>17049092_1995</td>\n",
       "      <td>1</td>\n",
       "      <td>US</td>\n",
       "      <td>Mengde2</td>\n",
       "      <td>2024M11</td>\n",
       "      <td>0</td>\n",
       "    </tr>\n",
       "    <tr>\n",
       "      <th>3</th>\n",
       "      <td>17049092_1995</td>\n",
       "      <td>2</td>\n",
       "      <td>US</td>\n",
       "      <td>Mengde1</td>\n",
       "      <td>2024M11</td>\n",
       "      <td>0</td>\n",
       "    </tr>\n",
       "    <tr>\n",
       "      <th>4</th>\n",
       "      <td>17049092_1995</td>\n",
       "      <td>2</td>\n",
       "      <td>US</td>\n",
       "      <td>Verdi</td>\n",
       "      <td>2024M11</td>\n",
       "      <td>0</td>\n",
       "    </tr>\n",
       "  </tbody>\n",
       "</table>\n",
       "</div>"
      ],
      "text/plain": [
       "       Varekoder ImpEks Land ContentsCode      Tid  value\n",
       "0  17049092_1995      1   US      Mengde1  2024M11      0\n",
       "1  17049092_1995      1   US        Verdi  2024M11      0\n",
       "2  17049092_1995      1   US      Mengde2  2024M11      0\n",
       "3  17049092_1995      2   US      Mengde1  2024M11      0\n",
       "4  17049092_1995      2   US        Verdi  2024M11      0"
      ]
     },
     "execution_count": 16,
     "metadata": {},
     "output_type": "execute_result"
    }
   ],
   "source": [
    "hstrade_id.head()"
   ]
  },
  {
   "cell_type": "markdown",
   "metadata": {},
   "source": [
    "### Lager en ny kolonne med både HS varekode og tekst slått sammen"
   ]
  },
  {
   "cell_type": "code",
   "execution_count": 17,
   "metadata": {},
   "outputs": [],
   "source": [
    "hstrade['hstrade_combi'] = hstrade_id['Varekoder'] + ' ' + hstrade['varenummer']"
   ]
  },
  {
   "cell_type": "code",
   "execution_count": 18,
   "metadata": {},
   "outputs": [
    {
     "data": {
      "text/plain": [
       "Index(['varenummer', 'import/eksport', 'land', 'statistikkvariabel', 'måned',\n",
       "       'value', 'hstrade_combi'],\n",
       "      dtype='object')"
      ]
     },
     "execution_count": 18,
     "metadata": {},
     "output_type": "execute_result"
    }
   ],
   "source": [
    "hstrade.columns"
   ]
  },
  {
   "cell_type": "markdown",
   "metadata": {},
   "source": [
    "### Lager en ny dataframe som bare har med kolonnene vi ønsker, i ny rekkefølge. \n",
    "Merk doble [[ ]] for å lage dataframe"
   ]
  },
  {
   "cell_type": "code",
   "execution_count": 19,
   "metadata": {},
   "outputs": [],
   "source": [
    "hstrade_new = hstrade[['hstrade_combi', 'import/eksport', 'land', 'statistikkvariabel', 'måned',\n",
    "       'value']]"
   ]
  },
  {
   "cell_type": "code",
   "execution_count": 20,
   "metadata": {},
   "outputs": [
    {
     "data": {
      "text/html": [
       "<div>\n",
       "<style scoped>\n",
       "    .dataframe tbody tr th:only-of-type {\n",
       "        vertical-align: middle;\n",
       "    }\n",
       "\n",
       "    .dataframe tbody tr th {\n",
       "        vertical-align: top;\n",
       "    }\n",
       "\n",
       "    .dataframe thead th {\n",
       "        text-align: right;\n",
       "    }\n",
       "</style>\n",
       "<table border=\"1\" class=\"dataframe\">\n",
       "  <thead>\n",
       "    <tr style=\"text-align: right;\">\n",
       "      <th></th>\n",
       "      <th>hstrade_combi</th>\n",
       "      <th>import/eksport</th>\n",
       "      <th>land</th>\n",
       "      <th>statistikkvariabel</th>\n",
       "      <th>måned</th>\n",
       "      <th>value</th>\n",
       "    </tr>\n",
       "  </thead>\n",
       "  <tbody>\n",
       "    <tr>\n",
       "      <th>79994</th>\n",
       "      <td>99319900_2007 Utenlandsk proviant/forbruksart ...</td>\n",
       "      <td>Import</td>\n",
       "      <td>USA</td>\n",
       "      <td>Mengde 2 (M2)</td>\n",
       "      <td>2024M11</td>\n",
       "      <td>0</td>\n",
       "    </tr>\n",
       "    <tr>\n",
       "      <th>79995</th>\n",
       "      <td>99319900_2007 Utenlandsk proviant/forbruksart ...</td>\n",
       "      <td>Eksport</td>\n",
       "      <td>USA</td>\n",
       "      <td>Mengde 1 (M1)</td>\n",
       "      <td>2024M11</td>\n",
       "      <td>0</td>\n",
       "    </tr>\n",
       "    <tr>\n",
       "      <th>79996</th>\n",
       "      <td>99319900_2007 Utenlandsk proviant/forbruksart ...</td>\n",
       "      <td>Eksport</td>\n",
       "      <td>USA</td>\n",
       "      <td>Verdi (kr)</td>\n",
       "      <td>2024M11</td>\n",
       "      <td>0</td>\n",
       "    </tr>\n",
       "    <tr>\n",
       "      <th>79997</th>\n",
       "      <td>99319900_2007 Utenlandsk proviant/forbruksart ...</td>\n",
       "      <td>Eksport</td>\n",
       "      <td>USA</td>\n",
       "      <td>Mengde 2 (M2)</td>\n",
       "      <td>2024M11</td>\n",
       "      <td>0</td>\n",
       "    </tr>\n",
       "    <tr>\n",
       "      <th>79998</th>\n",
       "      <td>99999999_1988 Sum alle varenumre med restriksj...</td>\n",
       "      <td>Import</td>\n",
       "      <td>USA</td>\n",
       "      <td>Mengde 1 (M1)</td>\n",
       "      <td>2024M11</td>\n",
       "      <td>152028</td>\n",
       "    </tr>\n",
       "    <tr>\n",
       "      <th>79999</th>\n",
       "      <td>99999999_1988 Sum alle varenumre med restriksj...</td>\n",
       "      <td>Import</td>\n",
       "      <td>USA</td>\n",
       "      <td>Verdi (kr)</td>\n",
       "      <td>2024M11</td>\n",
       "      <td>2000616</td>\n",
       "    </tr>\n",
       "    <tr>\n",
       "      <th>80000</th>\n",
       "      <td>99999999_1988 Sum alle varenumre med restriksj...</td>\n",
       "      <td>Import</td>\n",
       "      <td>USA</td>\n",
       "      <td>Mengde 2 (M2)</td>\n",
       "      <td>2024M11</td>\n",
       "      <td>0</td>\n",
       "    </tr>\n",
       "    <tr>\n",
       "      <th>80001</th>\n",
       "      <td>99999999_1988 Sum alle varenumre med restriksj...</td>\n",
       "      <td>Eksport</td>\n",
       "      <td>USA</td>\n",
       "      <td>Mengde 1 (M1)</td>\n",
       "      <td>2024M11</td>\n",
       "      <td>65335483</td>\n",
       "    </tr>\n",
       "    <tr>\n",
       "      <th>80002</th>\n",
       "      <td>99999999_1988 Sum alle varenumre med restriksj...</td>\n",
       "      <td>Eksport</td>\n",
       "      <td>USA</td>\n",
       "      <td>Verdi (kr)</td>\n",
       "      <td>2024M11</td>\n",
       "      <td>459597701</td>\n",
       "    </tr>\n",
       "    <tr>\n",
       "      <th>80003</th>\n",
       "      <td>99999999_1988 Sum alle varenumre med restriksj...</td>\n",
       "      <td>Eksport</td>\n",
       "      <td>USA</td>\n",
       "      <td>Mengde 2 (M2)</td>\n",
       "      <td>2024M11</td>\n",
       "      <td>0</td>\n",
       "    </tr>\n",
       "  </tbody>\n",
       "</table>\n",
       "</div>"
      ],
      "text/plain": [
       "                                           hstrade_combi import/eksport land  \\\n",
       "79994  99319900_2007 Utenlandsk proviant/forbruksart ...         Import  USA   \n",
       "79995  99319900_2007 Utenlandsk proviant/forbruksart ...        Eksport  USA   \n",
       "79996  99319900_2007 Utenlandsk proviant/forbruksart ...        Eksport  USA   \n",
       "79997  99319900_2007 Utenlandsk proviant/forbruksart ...        Eksport  USA   \n",
       "79998  99999999_1988 Sum alle varenumre med restriksj...         Import  USA   \n",
       "79999  99999999_1988 Sum alle varenumre med restriksj...         Import  USA   \n",
       "80000  99999999_1988 Sum alle varenumre med restriksj...         Import  USA   \n",
       "80001  99999999_1988 Sum alle varenumre med restriksj...        Eksport  USA   \n",
       "80002  99999999_1988 Sum alle varenumre med restriksj...        Eksport  USA   \n",
       "80003  99999999_1988 Sum alle varenumre med restriksj...        Eksport  USA   \n",
       "\n",
       "      statistikkvariabel    måned      value  \n",
       "79994      Mengde 2 (M2)  2024M11          0  \n",
       "79995      Mengde 1 (M1)  2024M11          0  \n",
       "79996         Verdi (kr)  2024M11          0  \n",
       "79997      Mengde 2 (M2)  2024M11          0  \n",
       "79998      Mengde 1 (M1)  2024M11     152028  \n",
       "79999         Verdi (kr)  2024M11    2000616  \n",
       "80000      Mengde 2 (M2)  2024M11          0  \n",
       "80001      Mengde 1 (M1)  2024M11   65335483  \n",
       "80002         Verdi (kr)  2024M11  459597701  \n",
       "80003      Mengde 2 (M2)  2024M11          0  "
      ]
     },
     "execution_count": 20,
     "metadata": {},
     "output_type": "execute_result"
    }
   ],
   "source": [
    "hstrade_new.tail(10)"
   ]
  },
  {
   "cell_type": "markdown",
   "metadata": {},
   "source": [
    "## Fotnoter"
   ]
  },
  {
   "cell_type": "markdown",
   "metadata": {},
   "source": [
    "Fotnoter er nytt i JSON-stat2. Fra SSB statstikkbank er det klare svakheter i formatering. Det er ikke entydig skilletegn notene og forstyrrende koder for visuell formatering. Det er uklart om  beste praksis vil være \"nøstet liste\" eller ikke.  For koden her har jeg fått bistand av \"Claude\"."
   ]
  },
  {
   "cell_type": "code",
   "execution_count": 21,
   "metadata": {},
   "outputs": [
    {
     "name": "stdout",
     "output_type": "stream",
     "text": [
      "[\"For informasjon om gyldighet for og årlige endringer i varenummere, se  <a target='_top' href='http://www.ssb.no/emner/09/05/nos_varefortegn/main.html'>Statistisk varefortegnelse for utenrikshandelen</a>.\\n<br>\\n\\nFra og med 2006 fikk følgende land endret tilhørighet til verdensdel - Kypros fra Asia til Europa, og Armenia, Aserbajdsjan, Georgia, Kirgisistan, Kasakhstan, Tadsjikistan, Turkmenistan og Usbekistan fra Europa til Asia. I utvalgene av enkeltland i nedtrekksmenyen for Europeiske land/Asiatiske land er det den nåværende inndelingen som vises for hele tidsperioden (Kypros hører med til Europa og de andre landene til Asia ).\\n<br /><br />\\nSSB publiserer ikke tall for handelsområdet tidligere Comecon etter 2011.Grupperingen og besto (i handelsstatistikken) kun av europeiske Comecon-land: Armenia, Aserbajdsjan, Bulgaria, Estland, Georgia, Hviterussland, Kasakhstan, Kirgisistan, Latvia, Litauen, Moldova, Polen, Romania, Russland, Slovakia, Tsjekkia, Tadsjikistan, Turkmenistan, Ukraina, Ungarn, Usbekistan.\", \"For mer informasjon, se <a href='https://www.ssb.no/muh#om-statistikken-v2'>Om statistikken</a>.\", \"Import for varenummer 2403.9991 og 2403.9990 i perioden 2005-2013 er feil,  <a href='http://www.ssb.no/utenriksokonomi/artikler-og-publikasjoner/korrigerte-tall-for-import-av-snus'>les mer om korrigerte tall</a>\", 'Ved publisering av statistikk for en ny målemåned revideres samtidig tallene for de foregående månedene i samme år. Videre revideres tallene for alle månedene i året ytterligere to ganger: Første gang i mai påfølgende år (år t+1), før endelige tall publiseres i mai ett år senere (år t+2).', 'Den 12.2.2022 ble alle varekodene endret. De 8-sifrete varekodene har nå en tilføyelse som viser årstallet da varekoden ble tatt i bruk.', 'Datamaterialet i Utenrikshandel med varer er svært omfattende, og på det mest detaljerte nivået vil kvaliteten kunne variere. Kvalitet vil påvirkes av feil i innrapporterte data. Brukere av statistikken må derfor utøve skjønn når detaljerte tall anvendes. Varenummer med liten handel, målt i verdi, vil være mer utsatt for feil enn varenummer med mye handel. Videre har statistikkvariablene vekt og mengde dårligere kvalitet enn verdi. Varer med restriksjoner og handel til spesielle land følges imidlertid nøyere opp.<br>\\n\\nSSB er pålagt å rapportere detaljerte tall til Eurostat, og finner det derfor hensiktsmessig at tallene også offentliggjøres til norske brukere til tross for varierende kvalitet.']\n"
     ]
    }
   ],
   "source": [
    "if 'note' in ds:\n",
    "    note = ds['note']\n",
    "    print(note)"
   ]
  },
  {
   "cell_type": "code",
   "execution_count": 22,
   "metadata": {},
   "outputs": [],
   "source": [
    "# re er for regulære uttrykk - brukes for søk/erstatt\n",
    "import re\n",
    "\n",
    "def clean_text(text_list):\n",
    "    \"\"\"\n",
    "    Fjerner \\n, <br> og <br /> fra tekster\n",
    "    \"\"\"\n",
    "    cleaned_list = []\n",
    "    for text in text_list:\n",
    "        # Fjern \\n, <br> og <br />\n",
    "        cleaned_text = re.sub(r'\\\\n|<br\\s*/?>', ' ', text)\n",
    "        \n",
    "        # Fjern ekstra mellomrom\n",
    "        cleaned_text = re.sub(r'\\s+', ' ', cleaned_text).strip()\n",
    "        \n",
    "        cleaned_list.append(cleaned_text)\n",
    "    \n",
    "    return cleaned_list"
   ]
  },
  {
   "cell_type": "markdown",
   "metadata": {},
   "source": [
    "Spitter flere fotnoter i flere lister."
   ]
  },
  {
   "cell_type": "code",
   "execution_count": 23,
   "metadata": {},
   "outputs": [],
   "source": [
    "def split_note(text_list):\n",
    "    \"\"\"\n",
    "    Splitter tekster og returnerer separate lister\n",
    "    \"\"\"\n",
    "    # Leter etter: \" eller ' - komma mellomrom - \" eller ' \n",
    "    split_pattern = r'(?:\"|\\')\\s*(?:\"|\\')'\n",
    "    \n",
    "    # Lag en liste for alle notene\n",
    "    list_of_lists = []\n",
    "\n",
    "   # Gå gjennom hver tekst i input-listen\n",
    "    for text in text_list:\n",
    "        # Liste for å lagre hver fotnote\n",
    "        parts_of_text = []\n",
    "        \n",
    "        # Del opp teksten ved anførselstegn-mønsteret\n",
    "        raw_parts = re.split(split_pattern, text)\n",
    "                      \n",
    "        # Gå gjennom hver del\n",
    "        for part in raw_parts:\n",
    "            # Fjern mellomrom i start og slutt\n",
    "            cleaned_part = part.strip()\n",
    "            \n",
    "            # Hvis delen ikke er tom etter rensing\n",
    "            if cleaned_part:\n",
    "                # Legg til i listen for denne teksten\n",
    "                parts_of_text.append(cleaned_part)\n",
    "        \n",
    "        # Legg til denne tekstens deler i hovedlisten\n",
    "        list_of_lists.append(parts_of_text)\n",
    "    \n",
    "\n",
    "    return list_of_lists"
   ]
  },
  {
   "cell_type": "code",
   "execution_count": 24,
   "metadata": {},
   "outputs": [
    {
     "name": "stdout",
     "output_type": "stream",
     "text": [
      "[\"For informasjon om gyldighet for og årlige endringer i varenummere, se <a target='_top' href='http://www.ssb.no/emner/09/05/nos_varefortegn/main.html'>Statistisk varefortegnelse for utenrikshandelen</a>. Fra og med 2006 fikk følgende land endret tilhørighet til verdensdel - Kypros fra Asia til Europa, og Armenia, Aserbajdsjan, Georgia, Kirgisistan, Kasakhstan, Tadsjikistan, Turkmenistan og Usbekistan fra Europa til Asia. I utvalgene av enkeltland i nedtrekksmenyen for Europeiske land/Asiatiske land er det den nåværende inndelingen som vises for hele tidsperioden (Kypros hører med til Europa og de andre landene til Asia ). SSB publiserer ikke tall for handelsområdet tidligere Comecon etter 2011.Grupperingen og besto (i handelsstatistikken) kun av europeiske Comecon-land: Armenia, Aserbajdsjan, Bulgaria, Estland, Georgia, Hviterussland, Kasakhstan, Kirgisistan, Latvia, Litauen, Moldova, Polen, Romania, Russland, Slovakia, Tsjekkia, Tadsjikistan, Turkmenistan, Ukraina, Ungarn, Usbekistan.\", \"For mer informasjon, se <a href='https://www.ssb.no/muh#om-statistikken-v2'>Om statistikken</a>.\", \"Import for varenummer 2403.9991 og 2403.9990 i perioden 2005-2013 er feil, <a href='http://www.ssb.no/utenriksokonomi/artikler-og-publikasjoner/korrigerte-tall-for-import-av-snus'>les mer om korrigerte tall</a>\", 'Ved publisering av statistikk for en ny målemåned revideres samtidig tallene for de foregående månedene i samme år. Videre revideres tallene for alle månedene i året ytterligere to ganger: Første gang i mai påfølgende år (år t+1), før endelige tall publiseres i mai ett år senere (år t+2).', 'Den 12.2.2022 ble alle varekodene endret. De 8-sifrete varekodene har nå en tilføyelse som viser årstallet da varekoden ble tatt i bruk.', 'Datamaterialet i Utenrikshandel med varer er svært omfattende, og på det mest detaljerte nivået vil kvaliteten kunne variere. Kvalitet vil påvirkes av feil i innrapporterte data. Brukere av statistikken må derfor utøve skjønn når detaljerte tall anvendes. Varenummer med liten handel, målt i verdi, vil være mer utsatt for feil enn varenummer med mye handel. Videre har statistikkvariablene vekt og mengde dårligere kvalitet enn verdi. Varer med restriksjoner og handel til spesielle land følges imidlertid nøyere opp. SSB er pålagt å rapportere detaljerte tall til Eurostat, og finner det derfor hensiktsmessig at tallene også offentliggjøres til norske brukere til tross for varierende kvalitet.']\n"
     ]
    }
   ],
   "source": [
    "renset_note = clean_text(note)\n",
    "print(renset_note)"
   ]
  },
  {
   "cell_type": "code",
   "execution_count": 25,
   "metadata": {},
   "outputs": [
    {
     "name": "stdout",
     "output_type": "stream",
     "text": [
      "[[\"For informasjon om gyldighet for og årlige endringer i varenummere, se <a target='_top' href='http://www.ssb.no/emner/09/05/nos_varefortegn/main.html'>Statistisk varefortegnelse for utenrikshandelen</a>. Fra og med 2006 fikk følgende land endret tilhørighet til verdensdel - Kypros fra Asia til Europa, og Armenia, Aserbajdsjan, Georgia, Kirgisistan, Kasakhstan, Tadsjikistan, Turkmenistan og Usbekistan fra Europa til Asia. I utvalgene av enkeltland i nedtrekksmenyen for Europeiske land/Asiatiske land er det den nåværende inndelingen som vises for hele tidsperioden (Kypros hører med til Europa og de andre landene til Asia ). SSB publiserer ikke tall for handelsområdet tidligere Comecon etter 2011.Grupperingen og besto (i handelsstatistikken) kun av europeiske Comecon-land: Armenia, Aserbajdsjan, Bulgaria, Estland, Georgia, Hviterussland, Kasakhstan, Kirgisistan, Latvia, Litauen, Moldova, Polen, Romania, Russland, Slovakia, Tsjekkia, Tadsjikistan, Turkmenistan, Ukraina, Ungarn, Usbekistan.\"], [\"For mer informasjon, se <a href='https://www.ssb.no/muh#om-statistikken-v2'>Om statistikken</a>.\"], [\"Import for varenummer 2403.9991 og 2403.9990 i perioden 2005-2013 er feil, <a href='http://www.ssb.no/utenriksokonomi/artikler-og-publikasjoner/korrigerte-tall-for-import-av-snus'>les mer om korrigerte tall</a>\"], ['Ved publisering av statistikk for en ny målemåned revideres samtidig tallene for de foregående månedene i samme år. Videre revideres tallene for alle månedene i året ytterligere to ganger: Første gang i mai påfølgende år (år t+1), før endelige tall publiseres i mai ett år senere (år t+2).'], ['Den 12.2.2022 ble alle varekodene endret. De 8-sifrete varekodene har nå en tilføyelse som viser årstallet da varekoden ble tatt i bruk.'], ['Datamaterialet i Utenrikshandel med varer er svært omfattende, og på det mest detaljerte nivået vil kvaliteten kunne variere. Kvalitet vil påvirkes av feil i innrapporterte data. Brukere av statistikken må derfor utøve skjønn når detaljerte tall anvendes. Varenummer med liten handel, målt i verdi, vil være mer utsatt for feil enn varenummer med mye handel. Videre har statistikkvariablene vekt og mengde dårligere kvalitet enn verdi. Varer med restriksjoner og handel til spesielle land følges imidlertid nøyere opp. SSB er pålagt å rapportere detaljerte tall til Eurostat, og finner det derfor hensiktsmessig at tallene også offentliggjøres til norske brukere til tross for varierende kvalitet.']]\n"
     ]
    }
   ],
   "source": [
    "noter = split_note(renset_note)\n",
    "print(noter)"
   ]
  },
  {
   "cell_type": "code",
   "execution_count": 26,
   "metadata": {},
   "outputs": [
    {
     "name": "stdout",
     "output_type": "stream",
     "text": [
      "Resultat: Teksten ble delt i disse delene:\n",
      "\n",
      "Fotnote 1:\n",
      "  For informasjon om gyldighet for og årlige endringer i varenummere, se <a target='_top' href='http://www.ssb.no/emner/09/05/nos_varefortegn/main.html'>Statistisk varefortegnelse for utenrikshandelen</a>. Fra og med 2006 fikk følgende land endret tilhørighet til verdensdel - Kypros fra Asia til Europa, og Armenia, Aserbajdsjan, Georgia, Kirgisistan, Kasakhstan, Tadsjikistan, Turkmenistan og Usbekistan fra Europa til Asia. I utvalgene av enkeltland i nedtrekksmenyen for Europeiske land/Asiatiske land er det den nåværende inndelingen som vises for hele tidsperioden (Kypros hører med til Europa og de andre landene til Asia ). SSB publiserer ikke tall for handelsområdet tidligere Comecon etter 2011.Grupperingen og besto (i handelsstatistikken) kun av europeiske Comecon-land: Armenia, Aserbajdsjan, Bulgaria, Estland, Georgia, Hviterussland, Kasakhstan, Kirgisistan, Latvia, Litauen, Moldova, Polen, Romania, Russland, Slovakia, Tsjekkia, Tadsjikistan, Turkmenistan, Ukraina, Ungarn, Usbekistan.\n",
      "\n",
      "Fotnote 2:\n",
      "  For mer informasjon, se <a href='https://www.ssb.no/muh#om-statistikken-v2'>Om statistikken</a>.\n",
      "\n",
      "Fotnote 3:\n",
      "  Import for varenummer 2403.9991 og 2403.9990 i perioden 2005-2013 er feil, <a href='http://www.ssb.no/utenriksokonomi/artikler-og-publikasjoner/korrigerte-tall-for-import-av-snus'>les mer om korrigerte tall</a>\n",
      "\n",
      "Fotnote 4:\n",
      "  Ved publisering av statistikk for en ny målemåned revideres samtidig tallene for de foregående månedene i samme år. Videre revideres tallene for alle månedene i året ytterligere to ganger: Første gang i mai påfølgende år (år t+1), før endelige tall publiseres i mai ett år senere (år t+2).\n",
      "\n",
      "Fotnote 5:\n",
      "  Den 12.2.2022 ble alle varekodene endret. De 8-sifrete varekodene har nå en tilføyelse som viser årstallet da varekoden ble tatt i bruk.\n",
      "\n",
      "Fotnote 6:\n",
      "  Datamaterialet i Utenrikshandel med varer er svært omfattende, og på det mest detaljerte nivået vil kvaliteten kunne variere. Kvalitet vil påvirkes av feil i innrapporterte data. Brukere av statistikken må derfor utøve skjønn når detaljerte tall anvendes. Varenummer med liten handel, målt i verdi, vil være mer utsatt for feil enn varenummer med mye handel. Videre har statistikkvariablene vekt og mengde dårligere kvalitet enn verdi. Varer med restriksjoner og handel til spesielle land følges imidlertid nøyere opp. SSB er pålagt å rapportere detaljerte tall til Eurostat, og finner det derfor hensiktsmessig at tallene også offentliggjøres til norske brukere til tross for varierende kvalitet.\n"
     ]
    }
   ],
   "source": [
    "print(\"Resultat: Teksten ble delt i disse delene:\")\n",
    "for i, sublist in enumerate(noter, 1):\n",
    "    print(f\"\\nFotnote {i}:\")\n",
    "    for j, part in enumerate(sublist, 1):\n",
    "        print(f\"  {part}\")"
   ]
  },
  {
   "cell_type": "code",
   "execution_count": null,
   "metadata": {},
   "outputs": [],
   "source": []
  }
 ],
 "metadata": {
  "kernelspec": {
   "display_name": "Python 3 (ipykernel)",
   "language": "python",
   "name": "python3"
  },
  "language_info": {
   "codemirror_mode": {
    "name": "ipython",
    "version": 3
   },
   "file_extension": ".py",
   "mimetype": "text/x-python",
   "name": "python",
   "nbconvert_exporter": "python",
   "pygments_lexer": "ipython3",
   "version": "3.12.3"
  }
 },
 "nbformat": 4,
 "nbformat_minor": 4
}
