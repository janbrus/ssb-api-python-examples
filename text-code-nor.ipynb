{
 "cells": [
  {
   "cell_type": "markdown",
   "metadata": {},
   "source": [
    "# Spørring som både gir tekst(navn) og kode(ID) fra JSON-stat\n",
    "### eksempel HS-koder utenrikshandel"
   ]
  },
  {
   "cell_type": "markdown",
   "metadata": {},
   "source": [
    "### Importerer biblioteker\n",
    "Bruker [pyjstat](https://pypi.org/project/pyjstat/) og pandas. Pandas lastes som del av pyjstat"
   ]
  },
  {
   "cell_type": "code",
   "execution_count": 1,
   "metadata": {},
   "outputs": [],
   "source": [
    "from pyjstat import pyjstat\n",
    "import requests"
   ]
  },
  {
   "cell_type": "markdown",
   "metadata": {},
   "source": [
    "### URL med tabellens metadata, som vi skal poste spørringen mot"
   ]
  },
  {
   "cell_type": "code",
   "execution_count": 2,
   "metadata": {},
   "outputs": [],
   "source": [
    "tabid = \"08799\" # kam endres til årstabellen 08801, uten andre endringer\n",
    "lang = \"no\" # language code can also be \"en\"\n",
    "POST_URL = \"https://data.ssb.no/api/v0/\" + lang + \"/table/\" + tabid  # 'https://data.ssb.no/api/v0/no/table/08799'"
   ]
  },
  {
   "cell_type": "markdown",
   "metadata": {},
   "source": [
    "Spørring, kan tas fra konsoll: Import / eksport alle varekoder til US siste måned, ca. 65000 celler. Max grense for en spørring i PxWebApi er 800.000 celler, inkl tomme celler"
   ]
  },
  {
   "cell_type": "code",
   "execution_count": 3,
   "metadata": {},
   "outputs": [],
   "source": [
    "json_q = {\n",
    "  \"query\": [\n",
    "    {\n",
    "      \"code\": \"Varekoder\",\n",
    "      \"selection\": {\n",
    "        \"filter\": \"all\",\n",
    "        \"values\": [\n",
    "          \"*\"\n",
    "        ]\n",
    "      }\n",
    "    },\n",
    "    {\n",
    "      \"code\": \"ImpEks\",\n",
    "      \"selection\": {\n",
    "        \"filter\": \"item\",\n",
    "        \"values\": [\n",
    "          \"1\",\n",
    "          \"2\"\n",
    "        ]\n",
    "      }\n",
    "    },\n",
    "    {\n",
    "      \"code\": \"Land\",\n",
    "      \"selection\": {\n",
    "        \"filter\": \"item\",\n",
    "        \"values\": [\n",
    "          \"US\"\n",
    "        ]\n",
    "      }\n",
    "    },\n",
    "    {\n",
    "      \"code\": \"ContentsCode\",\n",
    "      \"selection\": {\n",
    "        \"filter\": \"item\",\n",
    "        \"values\": [\n",
    "          \"Mengde1\",\n",
    "          \"Verdi\",\n",
    "          \"Mengde2\"\n",
    "        ]\n",
    "      }\n",
    "    },\n",
    "    {\n",
    "      \"code\": \"Tid\",\n",
    "      \"selection\": {\n",
    "        \"filter\": \"top\",\n",
    "        \"values\": [\n",
    "          \"1\"\n",
    "        ]\n",
    "      }\n",
    "    }\n",
    "  ],\n",
    "  \"response\": {\n",
    "    \"format\": \"json-stat2\"\n",
    "  }\n",
    "}\n"
   ]
  },
  {
   "cell_type": "markdown",
   "metadata": {},
   "source": [
    "### Poster spørringen"
   ]
  },
  {
   "cell_type": "code",
   "execution_count": 4,
   "metadata": {},
   "outputs": [],
   "source": [
    "res = requests.post(POST_URL, json=json_q)"
   ]
  },
  {
   "cell_type": "markdown",
   "metadata": {},
   "source": [
    "### Leser JSON-stat resultatet med biblioteket pyjstat\n",
    "Lagrer det som datasett ds."
   ]
  },
  {
   "cell_type": "code",
   "execution_count": 5,
   "metadata": {},
   "outputs": [],
   "source": [
    "ds = pyjstat.Dataset.read(res.text)"
   ]
  },
  {
   "cell_type": "code",
   "execution_count": 6,
   "metadata": {},
   "outputs": [
    {
     "data": {
      "text/plain": [
       "pyjstat.pyjstat.Dataset"
      ]
     },
     "execution_count": 6,
     "metadata": {},
     "output_type": "execute_result"
    }
   ],
   "source": [
    "type(ds)"
   ]
  },
  {
   "cell_type": "markdown",
   "metadata": {},
   "source": [
    "Se datasettet ds"
   ]
  },
  {
   "cell_type": "code",
   "execution_count": 7,
   "metadata": {},
   "outputs": [],
   "source": [
    "# ds"
   ]
  },
  {
   "cell_type": "markdown",
   "metadata": {},
   "source": [
    "### Henter noen overordnete metadata fra JSON-stat datasettet"
   ]
  },
  {
   "cell_type": "code",
   "execution_count": 8,
   "metadata": {},
   "outputs": [
    {
     "name": "stdout",
     "output_type": "stream",
     "text": [
      "08799: Utenrikshandel med varer, etter varenummer, import/eksport, land, statistikkvariabel og måned\n"
     ]
    }
   ],
   "source": [
    "tittel = ds['label']\n",
    "print(tittel)"
   ]
  },
  {
   "cell_type": "markdown",
   "metadata": {},
   "source": [
    "Sist Oppdatert som GMT"
   ]
  },
  {
   "cell_type": "code",
   "execution_count": 9,
   "metadata": {},
   "outputs": [
    {
     "name": "stdout",
     "output_type": "stream",
     "text": [
      "2022-11-15T07:00:00Z\n"
     ]
    }
   ],
   "source": [
    "last_update = ds['updated']\n",
    "print(last_update)"
   ]
  },
  {
   "cell_type": "markdown",
   "metadata": {},
   "source": [
    "Henter kilde"
   ]
  },
  {
   "cell_type": "code",
   "execution_count": 10,
   "metadata": {},
   "outputs": [
    {
     "name": "stdout",
     "output_type": "stream",
     "text": [
      "Statistisk sentralbyrå\n"
     ]
    }
   ],
   "source": [
    "source = ds['source']\n",
    "print(source)"
   ]
  },
  {
   "cell_type": "markdown",
   "metadata": {},
   "source": [
    "Roles gir noen snarveier til IDene på faste dimensjoner i datasettet"
   ]
  },
  {
   "cell_type": "code",
   "execution_count": 11,
   "metadata": {},
   "outputs": [
    {
     "name": "stdout",
     "output_type": "stream",
     "text": [
      "OrderedDict([('time', ['Tid']), ('metric', ['ContentsCode']), ('geo', ['Land'])])\n"
     ]
    }
   ],
   "source": [
    "ds_roles = ds['role']\n",
    "print(ds_roles)"
   ]
  },
  {
   "cell_type": "markdown",
   "metadata": {},
   "source": [
    "### Lager dataframes\n",
    "Vi må lage to dataframes, en med tekst og en med ID. Pyjstat tillater bare enten/eller"
   ]
  },
  {
   "cell_type": "code",
   "execution_count": 12,
   "metadata": {},
   "outputs": [],
   "source": [
    "hstrade = ds.write('dataframe')\n",
    "hstrade_id = ds.write('dataframe', naming='id')"
   ]
  },
  {
   "cell_type": "code",
   "execution_count": 13,
   "metadata": {},
   "outputs": [
    {
     "data": {
      "text/html": [
       "<div>\n",
       "<style scoped>\n",
       "    .dataframe tbody tr th:only-of-type {\n",
       "        vertical-align: middle;\n",
       "    }\n",
       "\n",
       "    .dataframe tbody tr th {\n",
       "        vertical-align: top;\n",
       "    }\n",
       "\n",
       "    .dataframe thead th {\n",
       "        text-align: right;\n",
       "    }\n",
       "</style>\n",
       "<table border=\"1\" class=\"dataframe\">\n",
       "  <thead>\n",
       "    <tr style=\"text-align: right;\">\n",
       "      <th></th>\n",
       "      <th>varenummer</th>\n",
       "      <th>import/eksport</th>\n",
       "      <th>land</th>\n",
       "      <th>statistikkvariabel</th>\n",
       "      <th>måned</th>\n",
       "      <th>value</th>\n",
       "    </tr>\n",
       "  </thead>\n",
       "  <tbody>\n",
       "    <tr>\n",
       "      <th>0</th>\n",
       "      <td>Uspesifiserte varer, tollbare (1988-) (M1=kg, ...</td>\n",
       "      <td>Import</td>\n",
       "      <td>USA</td>\n",
       "      <td>Mengde 1 (M1)</td>\n",
       "      <td>2022M10</td>\n",
       "      <td>0</td>\n",
       "    </tr>\n",
       "    <tr>\n",
       "      <th>1</th>\n",
       "      <td>Uspesifiserte varer, tollbare (1988-) (M1=kg, ...</td>\n",
       "      <td>Import</td>\n",
       "      <td>USA</td>\n",
       "      <td>Verdi (kr)</td>\n",
       "      <td>2022M10</td>\n",
       "      <td>0</td>\n",
       "    </tr>\n",
       "    <tr>\n",
       "      <th>2</th>\n",
       "      <td>Uspesifiserte varer, tollbare (1988-) (M1=kg, ...</td>\n",
       "      <td>Import</td>\n",
       "      <td>USA</td>\n",
       "      <td>Mengde 2 (M2)</td>\n",
       "      <td>2022M10</td>\n",
       "      <td>0</td>\n",
       "    </tr>\n",
       "    <tr>\n",
       "      <th>3</th>\n",
       "      <td>Uspesifiserte varer, tollbare (1988-) (M1=kg, ...</td>\n",
       "      <td>Eksport</td>\n",
       "      <td>USA</td>\n",
       "      <td>Mengde 1 (M1)</td>\n",
       "      <td>2022M10</td>\n",
       "      <td>0</td>\n",
       "    </tr>\n",
       "    <tr>\n",
       "      <th>4</th>\n",
       "      <td>Uspesifiserte varer, tollbare (1988-) (M1=kg, ...</td>\n",
       "      <td>Eksport</td>\n",
       "      <td>USA</td>\n",
       "      <td>Verdi (kr)</td>\n",
       "      <td>2022M10</td>\n",
       "      <td>0</td>\n",
       "    </tr>\n",
       "  </tbody>\n",
       "</table>\n",
       "</div>"
      ],
      "text/plain": [
       "                                          varenummer import/eksport land  \\\n",
       "0  Uspesifiserte varer, tollbare (1988-) (M1=kg, ...         Import  USA   \n",
       "1  Uspesifiserte varer, tollbare (1988-) (M1=kg, ...         Import  USA   \n",
       "2  Uspesifiserte varer, tollbare (1988-) (M1=kg, ...         Import  USA   \n",
       "3  Uspesifiserte varer, tollbare (1988-) (M1=kg, ...        Eksport  USA   \n",
       "4  Uspesifiserte varer, tollbare (1988-) (M1=kg, ...        Eksport  USA   \n",
       "\n",
       "  statistikkvariabel    måned  value  \n",
       "0      Mengde 1 (M1)  2022M10      0  \n",
       "1         Verdi (kr)  2022M10      0  \n",
       "2      Mengde 2 (M2)  2022M10      0  \n",
       "3      Mengde 1 (M1)  2022M10      0  \n",
       "4         Verdi (kr)  2022M10      0  "
      ]
     },
     "execution_count": 13,
     "metadata": {},
     "output_type": "execute_result"
    }
   ],
   "source": [
    "hstrade.head()"
   ]
  },
  {
   "cell_type": "code",
   "execution_count": 14,
   "metadata": {},
   "outputs": [
    {
     "data": {
      "text/html": [
       "<div>\n",
       "<style scoped>\n",
       "    .dataframe tbody tr th:only-of-type {\n",
       "        vertical-align: middle;\n",
       "    }\n",
       "\n",
       "    .dataframe tbody tr th {\n",
       "        vertical-align: top;\n",
       "    }\n",
       "\n",
       "    .dataframe thead th {\n",
       "        text-align: right;\n",
       "    }\n",
       "</style>\n",
       "<table border=\"1\" class=\"dataframe\">\n",
       "  <thead>\n",
       "    <tr style=\"text-align: right;\">\n",
       "      <th></th>\n",
       "      <th>Varekoder</th>\n",
       "      <th>ImpEks</th>\n",
       "      <th>Land</th>\n",
       "      <th>ContentsCode</th>\n",
       "      <th>Tid</th>\n",
       "      <th>value</th>\n",
       "    </tr>\n",
       "  </thead>\n",
       "  <tbody>\n",
       "    <tr>\n",
       "      <th>0</th>\n",
       "      <td>00000011_1988</td>\n",
       "      <td>1</td>\n",
       "      <td>US</td>\n",
       "      <td>Mengde1</td>\n",
       "      <td>2022M10</td>\n",
       "      <td>0</td>\n",
       "    </tr>\n",
       "    <tr>\n",
       "      <th>1</th>\n",
       "      <td>00000011_1988</td>\n",
       "      <td>1</td>\n",
       "      <td>US</td>\n",
       "      <td>Verdi</td>\n",
       "      <td>2022M10</td>\n",
       "      <td>0</td>\n",
       "    </tr>\n",
       "    <tr>\n",
       "      <th>2</th>\n",
       "      <td>00000011_1988</td>\n",
       "      <td>1</td>\n",
       "      <td>US</td>\n",
       "      <td>Mengde2</td>\n",
       "      <td>2022M10</td>\n",
       "      <td>0</td>\n",
       "    </tr>\n",
       "    <tr>\n",
       "      <th>3</th>\n",
       "      <td>00000011_1988</td>\n",
       "      <td>2</td>\n",
       "      <td>US</td>\n",
       "      <td>Mengde1</td>\n",
       "      <td>2022M10</td>\n",
       "      <td>0</td>\n",
       "    </tr>\n",
       "    <tr>\n",
       "      <th>4</th>\n",
       "      <td>00000011_1988</td>\n",
       "      <td>2</td>\n",
       "      <td>US</td>\n",
       "      <td>Verdi</td>\n",
       "      <td>2022M10</td>\n",
       "      <td>0</td>\n",
       "    </tr>\n",
       "  </tbody>\n",
       "</table>\n",
       "</div>"
      ],
      "text/plain": [
       "       Varekoder ImpEks Land ContentsCode      Tid  value\n",
       "0  00000011_1988      1   US      Mengde1  2022M10      0\n",
       "1  00000011_1988      1   US        Verdi  2022M10      0\n",
       "2  00000011_1988      1   US      Mengde2  2022M10      0\n",
       "3  00000011_1988      2   US      Mengde1  2022M10      0\n",
       "4  00000011_1988      2   US        Verdi  2022M10      0"
      ]
     },
     "execution_count": 14,
     "metadata": {},
     "output_type": "execute_result"
    }
   ],
   "source": [
    "hstrade_id.head()"
   ]
  },
  {
   "cell_type": "markdown",
   "metadata": {},
   "source": [
    "### Lager en ny kolonne med både HS varekode og tekst slått sammen"
   ]
  },
  {
   "cell_type": "code",
   "execution_count": 15,
   "metadata": {},
   "outputs": [],
   "source": [
    "hstrade['hstrade_combi'] = hstrade_id['Varekoder'] + ' ' + hstrade['varenummer']"
   ]
  },
  {
   "cell_type": "code",
   "execution_count": 16,
   "metadata": {},
   "outputs": [
    {
     "data": {
      "text/plain": [
       "Index(['varenummer', 'import/eksport', 'land', 'statistikkvariabel', 'måned',\n",
       "       'value', 'hstrade_combi'],\n",
       "      dtype='object')"
      ]
     },
     "execution_count": 16,
     "metadata": {},
     "output_type": "execute_result"
    }
   ],
   "source": [
    "hstrade.columns"
   ]
  },
  {
   "cell_type": "markdown",
   "metadata": {},
   "source": [
    "### Lager en ny dataframe som bare har med kolonnene vi ønsker, i ny rekkefølge. \n",
    "Merk doble [[ ]] for å lage dataframe"
   ]
  },
  {
   "cell_type": "code",
   "execution_count": 17,
   "metadata": {},
   "outputs": [],
   "source": [
    "hstrade_new = hstrade[['hstrade_combi', 'import/eksport', 'land', 'statistikkvariabel', 'måned',\n",
    "       'value']]"
   ]
  },
  {
   "cell_type": "code",
   "execution_count": 18,
   "metadata": {},
   "outputs": [
    {
     "data": {
      "text/html": [
       "<div>\n",
       "<style scoped>\n",
       "    .dataframe tbody tr th:only-of-type {\n",
       "        vertical-align: middle;\n",
       "    }\n",
       "\n",
       "    .dataframe tbody tr th {\n",
       "        vertical-align: top;\n",
       "    }\n",
       "\n",
       "    .dataframe thead th {\n",
       "        text-align: right;\n",
       "    }\n",
       "</style>\n",
       "<table border=\"1\" class=\"dataframe\">\n",
       "  <thead>\n",
       "    <tr style=\"text-align: right;\">\n",
       "      <th></th>\n",
       "      <th>hstrade_combi</th>\n",
       "      <th>import/eksport</th>\n",
       "      <th>land</th>\n",
       "      <th>statistikkvariabel</th>\n",
       "      <th>måned</th>\n",
       "      <th>value</th>\n",
       "    </tr>\n",
       "  </thead>\n",
       "  <tbody>\n",
       "    <tr>\n",
       "      <th>79544</th>\n",
       "      <td>99319900_2007 Utenlandsk proviant/forbruksart ...</td>\n",
       "      <td>Import</td>\n",
       "      <td>USA</td>\n",
       "      <td>Mengde 2 (M2)</td>\n",
       "      <td>2022M10</td>\n",
       "      <td>0</td>\n",
       "    </tr>\n",
       "    <tr>\n",
       "      <th>79545</th>\n",
       "      <td>99319900_2007 Utenlandsk proviant/forbruksart ...</td>\n",
       "      <td>Eksport</td>\n",
       "      <td>USA</td>\n",
       "      <td>Mengde 1 (M1)</td>\n",
       "      <td>2022M10</td>\n",
       "      <td>0</td>\n",
       "    </tr>\n",
       "    <tr>\n",
       "      <th>79546</th>\n",
       "      <td>99319900_2007 Utenlandsk proviant/forbruksart ...</td>\n",
       "      <td>Eksport</td>\n",
       "      <td>USA</td>\n",
       "      <td>Verdi (kr)</td>\n",
       "      <td>2022M10</td>\n",
       "      <td>0</td>\n",
       "    </tr>\n",
       "    <tr>\n",
       "      <th>79547</th>\n",
       "      <td>99319900_2007 Utenlandsk proviant/forbruksart ...</td>\n",
       "      <td>Eksport</td>\n",
       "      <td>USA</td>\n",
       "      <td>Mengde 2 (M2)</td>\n",
       "      <td>2022M10</td>\n",
       "      <td>0</td>\n",
       "    </tr>\n",
       "    <tr>\n",
       "      <th>79548</th>\n",
       "      <td>99999999_1988 Sum alle varenumre med restriksj...</td>\n",
       "      <td>Import</td>\n",
       "      <td>USA</td>\n",
       "      <td>Mengde 1 (M1)</td>\n",
       "      <td>2022M10</td>\n",
       "      <td>15919265</td>\n",
       "    </tr>\n",
       "    <tr>\n",
       "      <th>79549</th>\n",
       "      <td>99999999_1988 Sum alle varenumre med restriksj...</td>\n",
       "      <td>Import</td>\n",
       "      <td>USA</td>\n",
       "      <td>Verdi (kr)</td>\n",
       "      <td>2022M10</td>\n",
       "      <td>97291716</td>\n",
       "    </tr>\n",
       "    <tr>\n",
       "      <th>79550</th>\n",
       "      <td>99999999_1988 Sum alle varenumre med restriksj...</td>\n",
       "      <td>Import</td>\n",
       "      <td>USA</td>\n",
       "      <td>Mengde 2 (M2)</td>\n",
       "      <td>2022M10</td>\n",
       "      <td>0</td>\n",
       "    </tr>\n",
       "    <tr>\n",
       "      <th>79551</th>\n",
       "      <td>99999999_1988 Sum alle varenumre med restriksj...</td>\n",
       "      <td>Eksport</td>\n",
       "      <td>USA</td>\n",
       "      <td>Mengde 1 (M1)</td>\n",
       "      <td>2022M10</td>\n",
       "      <td>54329558</td>\n",
       "    </tr>\n",
       "    <tr>\n",
       "      <th>79552</th>\n",
       "      <td>99999999_1988 Sum alle varenumre med restriksj...</td>\n",
       "      <td>Eksport</td>\n",
       "      <td>USA</td>\n",
       "      <td>Verdi (kr)</td>\n",
       "      <td>2022M10</td>\n",
       "      <td>441600731</td>\n",
       "    </tr>\n",
       "    <tr>\n",
       "      <th>79553</th>\n",
       "      <td>99999999_1988 Sum alle varenumre med restriksj...</td>\n",
       "      <td>Eksport</td>\n",
       "      <td>USA</td>\n",
       "      <td>Mengde 2 (M2)</td>\n",
       "      <td>2022M10</td>\n",
       "      <td>0</td>\n",
       "    </tr>\n",
       "  </tbody>\n",
       "</table>\n",
       "</div>"
      ],
      "text/plain": [
       "                                           hstrade_combi import/eksport land  \\\n",
       "79544  99319900_2007 Utenlandsk proviant/forbruksart ...         Import  USA   \n",
       "79545  99319900_2007 Utenlandsk proviant/forbruksart ...        Eksport  USA   \n",
       "79546  99319900_2007 Utenlandsk proviant/forbruksart ...        Eksport  USA   \n",
       "79547  99319900_2007 Utenlandsk proviant/forbruksart ...        Eksport  USA   \n",
       "79548  99999999_1988 Sum alle varenumre med restriksj...         Import  USA   \n",
       "79549  99999999_1988 Sum alle varenumre med restriksj...         Import  USA   \n",
       "79550  99999999_1988 Sum alle varenumre med restriksj...         Import  USA   \n",
       "79551  99999999_1988 Sum alle varenumre med restriksj...        Eksport  USA   \n",
       "79552  99999999_1988 Sum alle varenumre med restriksj...        Eksport  USA   \n",
       "79553  99999999_1988 Sum alle varenumre med restriksj...        Eksport  USA   \n",
       "\n",
       "      statistikkvariabel    måned      value  \n",
       "79544      Mengde 2 (M2)  2022M10          0  \n",
       "79545      Mengde 1 (M1)  2022M10          0  \n",
       "79546         Verdi (kr)  2022M10          0  \n",
       "79547      Mengde 2 (M2)  2022M10          0  \n",
       "79548      Mengde 1 (M1)  2022M10   15919265  \n",
       "79549         Verdi (kr)  2022M10   97291716  \n",
       "79550      Mengde 2 (M2)  2022M10          0  \n",
       "79551      Mengde 1 (M1)  2022M10   54329558  \n",
       "79552         Verdi (kr)  2022M10  441600731  \n",
       "79553      Mengde 2 (M2)  2022M10          0  "
      ]
     },
     "execution_count": 18,
     "metadata": {},
     "output_type": "execute_result"
    }
   ],
   "source": [
    "hstrade_new.tail(10)"
   ]
  },
  {
   "cell_type": "code",
   "execution_count": null,
   "metadata": {},
   "outputs": [],
   "source": []
  }
 ],
 "metadata": {
  "kernelspec": {
   "display_name": "Python 3 (ipykernel)",
   "language": "python",
   "name": "python3"
  },
  "language_info": {
   "codemirror_mode": {
    "name": "ipython",
    "version": 3
   },
   "file_extension": ".py",
   "mimetype": "text/x-python",
   "name": "python",
   "nbconvert_exporter": "python",
   "pygments_lexer": "ipython3",
   "version": "3.10.6"
  }
 },
 "nbformat": 4,
 "nbformat_minor": 4
}
